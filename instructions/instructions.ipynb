{
 "cells": [
  {
   "cell_type": "markdown",
   "id": "c4079ebb",
   "metadata": {
    "slideshow": {
     "slide_type": "slide"
    }
   },
   "source": [
    "## CMP-3004\n",
    "## Computer Organization\n",
    "\n",
    "### Spring 2022\n"
   ]
  },
  {
   "cell_type": "markdown",
   "id": "c33453bb",
   "metadata": {
    "slideshow": {
     "slide_type": "slide"
    }
   },
   "source": [
    "## Review "
   ]
  },
  {
   "cell_type": "markdown",
   "id": "7023fc09",
   "metadata": {
    "slideshow": {
     "slide_type": "subslide"
    }
   },
   "source": [
    "### Von Neumann architecture \n",
    "\n",
    "**The stored program:** set of instructions represented in binary and stored in the memory, from which they are **fetched, decoded, and executed** by the CPU.\n",
    "\n",
    "The Von Neumann architecture considers four components:\n",
    "- main memory\n",
    "- input-output (I/O)\n",
    "- arithmetic and logic unit (ALU)\n",
    "- control unit\n"
   ]
  },
  {
   "cell_type": "markdown",
   "id": "ac047064",
   "metadata": {
    "slideshow": {
     "slide_type": "subslide"
    }
   },
   "source": [
    "### The system clock\n",
    "\n",
    "- Is a way to synchronize all the circuits in the CPU\n",
    "- Changes from 1 to 0 and back again at regular intervals (clock cycle)\n",
    "- Controls when the state of a circuit changes\n",
    "- Modern processors complete a fetch-decode-execute cycle at the rate of 1 per clock cycle\n",
    "- Measured in MHz where 1 MHz is 1 million cycles per second\n",
    "    - what's the duration of a single clock cycle?\n"
   ]
  },
  {
   "cell_type": "markdown",
   "id": "2e20d5ea",
   "metadata": {
    "slideshow": {
     "slide_type": "subslide"
    }
   },
   "source": [
    "### Machine instructions\n",
    "\n",
    "- Building blocks of all computer programs\n",
    "- Each instruction does only one very simple step in a computation\n",
    "- Typical processors have from a few dozen to a few hundred different machine instructions\n",
    "- Each instruction is representated by a unique binary string made up of two fields:\n",
    "    - **opcode:** represents the type of instructions (e.g., ADD, SUBTRACT, COMPARE, JUMP)\n",
    "    - **operand:** represent one or more register numbers or a memory address where operands are located or results are going to be stored \n",
    "    \n"
   ]
  },
  {
   "cell_type": "markdown",
   "id": "24b3cd61",
   "metadata": {
    "slideshow": {
     "slide_type": "subslide"
    }
   },
   "source": [
    "### Control unit components\n",
    "\n",
    "\n",
    "- Program counter (PC) register holds address of next instruction to execute\n",
    "    - incremented with the system clock\n",
    "- instruction register (IR) holds copy of current instruction\n",
    "- instruction decoder is a circuit that takes as input the opcode and produces as output the control signals needed to make the right things happen "
   ]
  },
  {
   "cell_type": "markdown",
   "id": "66bd07d6",
   "metadata": {
    "slideshow": {
     "slide_type": "subslide"
    }
   },
   "source": [
    "### Fetch execute cycle\n",
    "\n",
    "1. The address of the instruction to be fetched is then copied from the PC to the MAR\n",
    "2. The content (intruction) of the memory location in the MAR is moved to the MDR\n",
    "3. The content of the MDR is moved to the instruction register\n",
    "4. Increment the PC by one\n",
    "5. The instruction is finally decoded and then executed\n",
    "6. Repeat"
   ]
  },
  {
   "cell_type": "markdown",
   "id": "2fd8f524",
   "metadata": {
    "slideshow": {
     "slide_type": "slide"
    }
   },
   "source": [
    "## System software\n",
    "\n",
    "- Hardware:\n",
    "    - efficiently built by engineers\n",
    "    - not easily used by the rest\n",
    "\n",
    "- We need a programs that run on it and present us with a higher level abstraction\n",
    "    - user-friendly virtual environment\n",
    "    - abstraction that hides the interactions with the hardware and makes it \"human friendly\" to operate the computer \n",
    "    \n",
    "\"To command a computer’s hardware, you must speak its language. The words of a computer’s language are called **instructions**, and its vocabulary is called an **instruction set**\""
   ]
  },
  {
   "cell_type": "markdown",
   "id": "0ad75b01",
   "metadata": {
    "slideshow": {
     "slide_type": "subslide"
    }
   },
   "source": [
    "## High level language\n",
    "\n",
    "- High level language (e.g., C/C++ or Java) are semantically closer to the English language: easy to understand\n",
    "- Any program is composed of instructions to move data from one place to another and process it\n",
    "\n",
    "Example:\n",
    "\n",
    "```\n",
    "#include <stdio.h>\n",
    "int main() {    \n",
    "\n",
    "    int number1, number2, sum;\n",
    "    \n",
    "    printf(\"Enter two integers: \");\n",
    "    scanf(\"%d %d\", &number1, &number2);\n",
    "\n",
    "    // calculating sum\n",
    "    sum = number1 + number2;      \n",
    "    \n",
    "    printf(\"%d + %d = %d\", number1, number2, sum);\n",
    "    return 0;\n",
    "}\n",
    "```"
   ]
  },
  {
   "cell_type": "markdown",
   "id": "62672fac",
   "metadata": {
    "slideshow": {
     "slide_type": "subslide"
    }
   },
   "source": [
    "## Assembly language\n",
    "\n",
    "- Assembly language programs are written using the instruction set offered by a particular processor (system architecture)\n",
    "    - not easy to understand\n",
    "- This increases the program’s efficiency and usually its code length is optimized\n",
    "\n",
    "Example:  \n",
    "\n",
    "```\n",
    "SECTION .data\n",
    "\n",
    "    extern printf\n",
    "    global main\n",
    "\n",
    "fmt:\n",
    "    db \"%d\", 10, 0\n",
    "\n",
    "SECTION .text\n",
    "\n",
    "main:\n",
    "    mov     eax, 14\n",
    "    mov     ebx, 10\n",
    "    add     eax, ebx\n",
    "\n",
    "    push    eax\n",
    "    push    fmt\n",
    "    call    printf\n",
    "\n",
    "    mov     eax, 1\n",
    "    int     0x80\n",
    "```"
   ]
  },
  {
   "cell_type": "markdown",
   "id": "21253fec",
   "metadata": {
    "slideshow": {
     "slide_type": "subslide"
    }
   },
   "source": [
    "## Machine language\n",
    "\n",
    "- Machines only recognize their own language: binary\n",
    "- For a high-level language, the related translator is known as  compiler. For assembly language, it is known as  assembler\n",
    "- Machine language is a programming language in which the available instructions are:\n",
    "    - Extremely limited in capability (primitive or atomic)\n",
    "    - Numeric in representation (generally binary)\n",
    "    - Fixed format (fixed length)\n",
    "    - Peculiar to each machine\n",
    "    - Difficult for programmers to use\n"
   ]
  },
  {
   "cell_type": "markdown",
   "id": "c28a0acf",
   "metadata": {
    "slideshow": {
     "slide_type": "slide"
    }
   },
   "source": [
    "## Instructions\n",
    "\n",
    "\n",
    "- Instructions are very primitive in nature, they tell the processor what to do\n",
    "    - they are as simple as: ‘copy a byte from  here  to  there’  or ‘add contents of these two registers’\n",
    "- We can group them in four categories:\n",
    "    - Data move type instructions\n",
    "    - Arithmetic and logical instructions\n",
    "    - Program flow control and machine control instructions\n",
    "    - Miscellaneous instructions"
   ]
  },
  {
   "cell_type": "markdown",
   "id": "5ef076ed",
   "metadata": {
    "slideshow": {
     "slide_type": "subslide"
    }
   },
   "source": [
    "### Data move type\n",
    "\n",
    "Instructions used to copy data from one place to another\n",
    "- Source and destination may be registers within the processor or some external memory locations or a combination of both\n",
    "- Immediate data (part of the instruction) may also be loaded to some destination defined by these instructions\n",
    "- The method by which any data are targeted is known as its addressing mode\n",
    "- Data type allowed depends on the processor\n",
    "\n",
    "![](./bitwise.png )"
   ]
  },
  {
   "cell_type": "markdown",
   "id": "9050bbdb",
   "metadata": {
    "slideshow": {
     "slide_type": "subslide"
    }
   },
   "source": [
    "### Common data move instructions\n",
    "\n",
    "![](./datatransfer.png)"
   ]
  },
  {
   "cell_type": "markdown",
   "id": "aa8542ab",
   "metadata": {
    "slideshow": {
     "slide_type": "subslide"
    }
   },
   "source": [
    "### Arithmetic and Logical type\n",
    "\n",
    "Instructions used for number processing\n",
    "\n",
    "- Basic arithmetic operations (add, subtract, multiply and divide) with signed and unsigned integers\n",
    "- Essential logical operations, e.g., AND, OR, XOR, NOT, with shift  and rotate instructions\n",
    "\n",
    "![](./arithmetic.png)"
   ]
  },
  {
   "cell_type": "markdown",
   "id": "4655f7f9",
   "metadata": {
    "slideshow": {
     "slide_type": "subslide"
    }
   },
   "source": [
    "### Logical instructions\n",
    "\n",
    "![](./logical.png)\n"
   ]
  },
  {
   "cell_type": "markdown",
   "id": "9cc08675",
   "metadata": {
    "slideshow": {
     "slide_type": "subslide"
    }
   },
   "source": [
    "### Program flow control type\n",
    "\n",
    "Instructions sub-divided as conditional and unconditional branching and subroutine call and return\n",
    "- The status of processor flags decides the conditional branching\n",
    "- Carry, zero and comparison of two numbers (greater than or less than)  are used for branching conditions\n",
    "- Subroutine call and return instructions are also a must for any processor’s instruction set\n",
    "\n",
    "![](./control.png)"
   ]
  },
  {
   "cell_type": "markdown",
   "id": "376e2c92",
   "metadata": {
    "slideshow": {
     "slide_type": "slide"
    }
   },
   "source": [
    "## Addressing modes\n",
    "\n",
    "Related with data transfer type instructions and indicates the method by which the data are targeted by the instruction\n",
    "\n",
    "- Example:  a set of data must be loaded in a register\n",
    "\n",
    "    - Data might be a part of the instruction itself\n",
    "    - It might be already available at some external memory address or within an internal register of the processor\n",
    "    - The addressing mode loads the data in the register\n",
    "    - Different addressing modes used by different processors"
   ]
  },
  {
   "cell_type": "markdown",
   "id": "98f7ce6d",
   "metadata": {
    "slideshow": {
     "slide_type": "subslide"
    }
   },
   "source": [
    "### Immediate addressing mode\n",
    "\n",
    "The target data is a part of the instruction\n",
    "- To change the data, the instruction itself has to be changed\n",
    "- Immediate addressing mode is also referred to as loading a `constant`\n",
    "- This form of operand access simplifies the instruction execution cycle since no additional fetches are required\n",
    "    - Load R1 by immediate data which is a part of the instruction itself\n",
    "    \n",
    "![](./immediate.png)"
   ]
  },
  {
   "cell_type": "markdown",
   "id": "d35c3afd",
   "metadata": {
    "slideshow": {
     "slide_type": "subslide"
    }
   },
   "source": [
    "### Direct addressing mode\n",
    "\n",
    "The address of the target data is a part of the instruction\n",
    "- This type of data would be variables (store or change the data located within a known address)\n",
    "\n",
    "![](./direct.png)"
   ]
  },
  {
   "cell_type": "markdown",
   "id": "21bc9ed7",
   "metadata": {
    "slideshow": {
     "slide_type": "subslide"
    }
   },
   "source": [
    "### Register direct addressing mode\n",
    "\n",
    "The name of the register holding the target data is indicated in the instruction\n",
    "\n",
    "![](./register_direct.png)"
   ]
  },
  {
   "cell_type": "markdown",
   "id": "2decd029",
   "metadata": {
    "slideshow": {
     "slide_type": "subslide"
    }
   },
   "source": [
    "### Register indirect addressing mode\n",
    "\n",
    "The indicated register holds the address of the target data (shorter instructions length)\n",
    "\n",
    "![](./register_indirect.png)"
   ]
  },
  {
   "cell_type": "markdown",
   "id": "af16e7a7",
   "metadata": {
    "slideshow": {
     "slide_type": "subslide"
    }
   },
   "source": [
    "### Relative addressing mode\n",
    "\n",
    "The location of target data is specified with respect to the current position of the program counter (PC)\n",
    "\n",
    "- This type of addressing mode is used for a table look up\n",
    "\n",
    "![](./relative.png)"
   ]
  },
  {
   "cell_type": "markdown",
   "id": "d6b3a4a5",
   "metadata": {
    "slideshow": {
     "slide_type": "subslide"
    }
   },
   "source": [
    "### Implicit addressing mode\n",
    "\n",
    "The location of data is not indicated in the instruction because it is predefined\n",
    "\n",
    "![](./implicit.png)"
   ]
  },
  {
   "cell_type": "markdown",
   "id": "acb7545b",
   "metadata": {
    "slideshow": {
     "slide_type": "subslide"
    }
   },
   "source": [
    "### Indexed addressing mode\n",
    "\n",
    "The target data are available from the address in index register, the content of which might be modified by an optional offset (instruction itself)\n",
    "\n",
    "![](./indexed.png)\n",
    "\n",
    "\n",
    "|  0 | 1  | 2  | 3  | 4  |  5 | 6  | 7  | 8  | 9  |  10 | 11  | 12 |\n",
    "|---|---|---|---|---|---|---|---|---|---|---|---|---|\n",
    "| 0  | 1  | 4  | 9  | 16  | 25 | 36  | 49 | 64 | 81 | 100 | 121  | 144 |"
   ]
  },
  {
   "cell_type": "code",
   "execution_count": 1,
   "id": "ff86ef1e",
   "metadata": {},
   "outputs": [],
   "source": [
    "a = 10"
   ]
  },
  {
   "cell_type": "code",
   "execution_count": 2,
   "id": "b7849de4",
   "metadata": {},
   "outputs": [
    {
     "name": "stdout",
     "output_type": "stream",
     "text": [
      "hello world!\n"
     ]
    }
   ],
   "source": [
    "print(\"hello world!\")"
   ]
  },
  {
   "cell_type": "code",
   "execution_count": null,
   "id": "cdc8d556",
   "metadata": {},
   "outputs": [],
   "source": []
  }
 ],
 "metadata": {
  "celltoolbar": "Slideshow",
  "kernelspec": {
   "display_name": "Python 3",
   "language": "python",
   "name": "python3"
  },
  "language_info": {
   "codemirror_mode": {
    "name": "ipython",
    "version": 3
   },
   "file_extension": ".py",
   "mimetype": "text/x-python",
   "name": "python",
   "nbconvert_exporter": "python",
   "pygments_lexer": "ipython3",
   "version": "3.8.8"
  }
 },
 "nbformat": 4,
 "nbformat_minor": 5
}
