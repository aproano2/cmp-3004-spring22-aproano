{
 "cells": [
  {
   "cell_type": "markdown",
   "id": "c4079ebb",
   "metadata": {
    "slideshow": {
     "slide_type": "slide"
    }
   },
   "source": [
    "## CMP-3004\n",
    "## Computer Organization\n",
    "\n",
    "### Spring 2022\n"
   ]
  },
  {
   "cell_type": "markdown",
   "id": "c33453bb",
   "metadata": {
    "slideshow": {
     "slide_type": "slide"
    }
   },
   "source": [
    "## Review "
   ]
  },
  {
   "cell_type": "markdown",
   "id": "05948c57",
   "metadata": {
    "slideshow": {
     "slide_type": "subslide"
    }
   },
   "source": [
    "## Intruction cycle\n",
    "\n",
    "1. FETCH\n",
    "2. DECODE\n",
    "3. EVALUATE ADDRESS\n",
    "4. FETCH OPERANDS\n",
    "5. EXECUTE\n",
    "6. STORE RESULT"
   ]
  },
  {
   "cell_type": "markdown",
   "id": "c28a0acf",
   "metadata": {
    "slideshow": {
     "slide_type": "subslide"
    }
   },
   "source": [
    "## Instructions\n",
    "\n",
    "\n",
    "- Instructions are very primitive in nature, they tell the processor what to do\n",
    "    - they are as simple as: ‘copy a byte from  here  to  there’  or ‘add contents of these two registers’\n",
    "- Main categories:\n",
    "    - **Data move -** copy data from one place to another\n",
    "    - **Arithmetic and logical -** intructions for the ALU\n",
    "    - **Program flow control and machine control -** conditional, uncoditional branching, and subroutines calls and returs.\n"
   ]
  },
  {
   "cell_type": "markdown",
   "id": "376e2c92",
   "metadata": {
    "slideshow": {
     "slide_type": "slide"
    }
   },
   "source": [
    "## Addressing modes\n",
    "\n",
    "Related with data transfer type instructions and indicates the method by which the data are targeted by the instruction.\n",
    "\n",
    "We need to understand addressing modes so we know how some instructions operate"
   ]
  },
  {
   "cell_type": "markdown",
   "id": "98f7ce6d",
   "metadata": {
    "slideshow": {
     "slide_type": "subslide"
    }
   },
   "source": [
    "### Immediate addressing mode\n",
    "\n",
    "The target data is a part of the instruction\n",
    "- To change the data, the instruction itself has to be changed\n",
    "- Immediate addressing mode is also referred to as loading a `constant`\n",
    "- This form of operand access simplifies the instruction execution cycle since no additional fetches are required\n",
    "    - Load R1 by immediate data which is a part of the instruction itself\n",
    "    \n",
    "![](./immediate.png)"
   ]
  },
  {
   "cell_type": "markdown",
   "id": "d35c3afd",
   "metadata": {
    "slideshow": {
     "slide_type": "subslide"
    }
   },
   "source": [
    "### Direct addressing mode\n",
    "\n",
    "The address of the target data is a part of the instruction\n",
    "- This type of data would be variables (store or change the data located within a known address)\n",
    "\n",
    "![](./direct.png)"
   ]
  },
  {
   "cell_type": "markdown",
   "id": "21bc9ed7",
   "metadata": {
    "slideshow": {
     "slide_type": "subslide"
    }
   },
   "source": [
    "### Register direct addressing mode\n",
    "\n",
    "The name of the register holding the target data is indicated in the instruction\n",
    "\n",
    "![](./register_direct.png)"
   ]
  },
  {
   "cell_type": "markdown",
   "id": "2decd029",
   "metadata": {
    "slideshow": {
     "slide_type": "subslide"
    }
   },
   "source": [
    "### Register indirect addressing mode\n",
    "\n",
    "The indicated register holds the address of the target data (shorter instructions length)\n",
    "\n",
    "![](./register_indirect.png)"
   ]
  },
  {
   "cell_type": "markdown",
   "id": "af16e7a7",
   "metadata": {
    "slideshow": {
     "slide_type": "subslide"
    }
   },
   "source": [
    "### Relative addressing mode\n",
    "\n",
    "The location of target data is specified with respect to the current position of the program counter (PC)\n",
    "\n",
    "- This type of addressing mode is used for a table look up\n",
    "\n",
    "![](./relative.png)"
   ]
  },
  {
   "cell_type": "markdown",
   "id": "d6b3a4a5",
   "metadata": {
    "slideshow": {
     "slide_type": "subslide"
    }
   },
   "source": [
    "### Implicit addressing mode\n",
    "\n",
    "The location of data is not indicated in the instruction because it is predefined\n",
    "\n",
    "![](./implicit.png)"
   ]
  },
  {
   "cell_type": "markdown",
   "id": "acb7545b",
   "metadata": {
    "slideshow": {
     "slide_type": "subslide"
    }
   },
   "source": [
    "### Indexed addressing mode\n",
    "\n",
    "The target data are available from the address in index register, the content of which might be modified by an optional offset (instruction itself)\n",
    "\n",
    "![](./indexed.png)\n",
    "\n",
    "\n",
    "|  0 | 1  | 2  | 3  | 4  |  5 | 6  | 7  | 8  | 9  |  10 | 11  | 12 |\n",
    "|---|---|---|---|---|---|---|---|---|---|---|---|---|\n",
    "| 0  | 1  | 4  | 9  | 16  | 25 | 36  | 49 | 64 | 81 | 100 | 121  | 144 |"
   ]
  },
  {
   "cell_type": "markdown",
   "id": "a22026ae",
   "metadata": {
    "slideshow": {
     "slide_type": "slide"
    }
   },
   "source": [
    "### Instructions representation\n",
    "\n",
    "- Building blocks of all computer programs\n",
    "- Each instruction does only one very simple step in a computation\n",
    "- Typical processors have from a few dozen to a few hundred different machine instructions\n",
    "- Each instruction is representated by a unique binary string made up of two fields:\n",
    "    - **opcode:** represents the type of instructions (e.g., ADD, SUBTRACT, COMPARE, JUMP)\n",
    "    - **operand:** represent one or more register numbers or a memory address where operands are located or results are going to be stored"
   ]
  },
  {
   "cell_type": "markdown",
   "id": "601a0e63",
   "metadata": {
    "slideshow": {
     "slide_type": "subslide"
    }
   },
   "source": [
    "### Intructions examples:\n",
    "Each line represents maximum size of the instruction (e.g., 1 Byte)\n",
    "\n",
    "- RETURN \n",
    "```\n",
    "|opcode|\n",
    "```\n",
    "- Increment a register\n",
    "```\n",
    "|opcode|reg|\n",
    "```\n",
    "- Copy from a register to another\n",
    "```\n",
    "|opcode|reg1|reg2|\n",
    "```\n",
    "- Intruction with immediate addressing\n",
    "```\n",
    "|opcode|reg|\n",
    "|data|\n",
    "```\n",
    "\n"
   ]
  },
  {
   "cell_type": "markdown",
   "id": "3d08cdea",
   "metadata": {
    "slideshow": {
     "slide_type": "subslide"
    }
   },
   "source": [
    "### Intructions examples:\n",
    "\n",
    "- Direct addressing mode. Second and third are for address memory\n",
    "```\n",
    "|opcode|reg|\n",
    "|addr (MSB)|\n",
    "|addr (LSB)|\n",
    "```\n",
    "- Load immediate data in any directly addressed location\n",
    "```\n",
    "|opcode|\n",
    "|data|\n",
    "|addr (MSB)|\n",
    "|addr (LSB)|\n",
    "```"
   ]
  },
  {
   "cell_type": "markdown",
   "id": "3f800989",
   "metadata": {
    "slideshow": {
     "slide_type": "slide"
    }
   },
   "source": [
    "## Role of processor\n",
    "\n",
    "The processor’s architecture plays an important role in the instructions format:\n",
    "\n",
    "- For an 8-bit processor (8-bit data bus), instructions would be necessary to load 8-bit data\n",
    "    - 16-bit or 4-bit data handling also needs to be incorporated.\n",
    "\n",
    "- The number of available registers determines the instruction formatting:\n",
    "\n",
    "    - More on-chip registers require more data bits\n",
    "    - The processor can keep only a small amount of data in registers, but computer memory contains billions of data elements\n",
    "    - Arithmetic operations occur only on registers: transfer data"
   ]
  },
  {
   "cell_type": "markdown",
   "id": "7240f3ef",
   "metadata": {
    "slideshow": {
     "slide_type": "slide"
    }
   },
   "source": [
    "## Role of instruction set\n",
    "- If the number of instructions is greater, more bits are needed to encode the instruction:\n",
    "    - CISC (Complex Instruction Set Computer) processor\n",
    "\n",
    "- On the other hand, for a RISC (Reduced Instruction Set Computer)  processor with lesser number of instruction types, lesser number of bits would be required to encode the instructions."
   ]
  }
 ],
 "metadata": {
  "celltoolbar": "Slideshow",
  "kernelspec": {
   "display_name": "Python 3 (ipykernel)",
   "language": "python",
   "name": "python3"
  },
  "language_info": {
   "codemirror_mode": {
    "name": "ipython",
    "version": 3
   },
   "file_extension": ".py",
   "mimetype": "text/x-python",
   "name": "python",
   "nbconvert_exporter": "python",
   "pygments_lexer": "ipython3",
   "version": "3.8.10"
  }
 },
 "nbformat": 4,
 "nbformat_minor": 5
}
