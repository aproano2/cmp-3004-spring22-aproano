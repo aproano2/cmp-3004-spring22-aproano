{
 "cells": [
  {
   "cell_type": "markdown",
   "id": "c4079ebb",
   "metadata": {
    "slideshow": {
     "slide_type": "slide"
    }
   },
   "source": [
    "## CMP-3004\n",
    "## Computer Organization\n",
    "\n",
    "### Spring 2022\n"
   ]
  },
  {
   "cell_type": "markdown",
   "id": "34429f78",
   "metadata": {
    "slideshow": {
     "slide_type": "slide"
    }
   },
   "source": [
    "## Housekeeping\n",
    "\n",
    "- Install Git\n",
    "- Install VirtualBox and Linux Ubuntu Desktop\n",
    "- Install Anaconda (for things we do in Python and notebooks)"
   ]
  },
  {
   "cell_type": "markdown",
   "id": "ac7c2586",
   "metadata": {
    "slideshow": {
     "slide_type": "slide"
    }
   },
   "source": [
    "## Why do we study computer organization and architecture?\n"
   ]
  },
  {
   "cell_type": "markdown",
   "id": "2bef93c2",
   "metadata": {
    "slideshow": {
     "slide_type": "subslide"
    }
   },
   "source": [
    "### The Transformation Hierarchy\n",
    "\n",
    "![](./computation_model.png)"
   ]
  },
  {
   "cell_type": "markdown",
   "id": "23f8343b",
   "metadata": {
    "slideshow": {
     "slide_type": "subslide"
    }
   },
   "source": [
    "### Model of computation\n",
    "\n",
    "- Specifies the operations you can do in an algorithm\n",
    "- How much these operations cost (time, memory, etc). We look how much each operation costs and add them up to get the total cost of the algorithm\n",
    "- Can be thought as styles of programming (ex: object oriented programming)\n"
   ]
  },
  {
   "cell_type": "markdown",
   "id": "9f02dba8",
   "metadata": {
    "slideshow": {
     "slide_type": "subslide"
    }
   },
   "source": [
    "### Example - Random access machine (RAM)\n",
    "\n",
    "- Single processor (operations are executed one after the other)\n",
    "- Modeled by a big array\n",
    "- It has constant number of registers\n",
    "- Realistic and powerful model\n",
    "![plot](./ram.png) "
   ]
  },
  {
   "cell_type": "markdown",
   "id": "802e95f6",
   "metadata": {
    "slideshow": {
     "slide_type": "subslide"
    }
   },
   "source": [
    "### Why do we study computer organization and architecture?\n",
    "\n",
    "**The success of our programs depend on the available hardware to run it**"
   ]
  },
  {
   "cell_type": "markdown",
   "id": "f4cafa7e",
   "metadata": {
    "slideshow": {
     "slide_type": "slide"
    }
   },
   "source": [
    "## A little bit of history "
   ]
  },
  {
   "cell_type": "markdown",
   "id": "faa6f216",
   "metadata": {
    "slideshow": {
     "slide_type": "subslide"
    }
   },
   "source": [
    "### What was the first compute device? \n",
    "\n",
    "The earliest known calculating device is probably the abacus. It dates back at least to 1100 BCE and is still in use today, particularly in Asia. Now, as then, it typically consists of a rectangular frame with thin parallel rods strung with beads. \n",
    "\n",
    "[source](https://www.britannica.com/technology/computer/History-of-computing)"
   ]
  },
  {
   "cell_type": "markdown",
   "id": "d63fe670",
   "metadata": {
    "slideshow": {
     "slide_type": "subslide"
    }
   },
   "source": [
    "### Abacus\n",
    "\n",
    "![pic](./abacus.jpeg)\n",
    "[source](https://www.wikihow.com/Use-an-Abacus)"
   ]
  },
  {
   "cell_type": "markdown",
   "id": "02e3d003",
   "metadata": {
    "slideshow": {
     "slide_type": "subslide"
    }
   },
   "source": [
    "### What kind of problems can be solved with this compute device?\n",
    "\n",
    "![](./computation_model.png)"
   ]
  },
  {
   "cell_type": "markdown",
   "id": "4b8e42b1",
   "metadata": {
    "slideshow": {
     "slide_type": "slide"
    }
   },
   "source": [
    "## Formal motivation "
   ]
  },
  {
   "cell_type": "markdown",
   "id": "f5ae93a9",
   "metadata": {
    "slideshow": {
     "slide_type": "subslide"
    }
   },
   "source": [
    "### IEEE/ACM Computer Science Curriculum 2013:\n",
    "\n",
    "- Computer architecture is one of the core subjects of computer science career.\n",
    "\n",
    "- Students should acquire some understanding and appreciation of a computer system’s functional components, their characteristics, their performance, and their interactions.\n",
    "\n",
    "- Need of understanding computer architecture to make best use of the software tools and computer languages used to create programs.\n",
    "\n",
    "- Many processors are not used in PCs or servers but in embedded systems."
   ]
  },
  {
   "cell_type": "markdown",
   "id": "f2522eab",
   "metadata": {
    "slideshow": {
     "slide_type": "subslide"
    }
   },
   "source": [
    "### IEEE/ACM Computer Science Curriculum 2013:\n",
    "\n",
    "- Complex trade-offs between CPU clock speed, cache size, bus organization, number of core processors, and so on, should also be understood.\n",
    "\n",
    "- An operating system design requires the knowledge of the underlying architecture. Likewise, the computer designer must have an understanding of software to implement the optimum architecture.\n",
    "\n",
    "- Suppose a graduate enters the industry and is asked to select the most cost-effective computer for use throughout a large organization.\n",
    "\n",
    "    - Larger cache or a higher processor clock rate?"
   ]
  },
  {
   "cell_type": "markdown",
   "id": "a86a1ecf",
   "metadata": {
    "slideshow": {
     "slide_type": "slide"
    }
   },
   "source": [
    "## What's computer organization and architecture?\n"
   ]
  },
  {
   "cell_type": "markdown",
   "id": "f4f47056",
   "metadata": {
    "slideshow": {
     "slide_type": "subslide"
    }
   },
   "source": [
    "### Computer architecture\n",
    "\n",
    "Computer architecture refers to the attributes of a system visible to a programmer which have a direct impact on the logical execution of a program:\n",
    "\n",
    "- Instruction set\n",
    "- Number of bits used to represent various data types (e.g., numbers, characters)\n",
    "- I/O mechanisms\n",
    "- Techniques for addressing memory"
   ]
  },
  {
   "cell_type": "markdown",
   "id": "95a69c4d",
   "metadata": {
    "slideshow": {
     "slide_type": "subslide"
    }
   },
   "source": [
    "### Computer organization \n",
    "\n",
    "Computer organization refers to the operational units and their interconnections that realize the architectural specifications. It includes hardware details transparent to the programmer:​\n",
    "\n",
    "- Control signals\n",
    "- Interfaces between the computer and peripherals\n",
    "- The memory technology used"
   ]
  },
  {
   "cell_type": "markdown",
   "id": "f69f5c9c",
   "metadata": {
    "slideshow": {
     "slide_type": "subslide"
    }
   },
   "source": [
    "### The Transformation Hierarchy\n",
    "\n",
    "![](./arch_org.png)"
   ]
  },
  {
   "cell_type": "markdown",
   "id": "5f00a489",
   "metadata": {
    "slideshow": {
     "slide_type": "subslide"
    }
   },
   "source": [
    "### Organization and architecture - example\n",
    "\n",
    "- It is an **architectural design** issue whether a computer will have a multiply instruction.​\n",
    "\n",
    "- It is an **organizational issue** whether that instruction will be implemented by a special multiply unit or by a mechanism that makes repeated use of the add unit of the system.​\n",
    "\n",
    "    - Decision may be based on the anticipated frequency of use of the multiply instruction, the relative speed of the two approaches, and the cost and physical size of a special multiply unit.​"
   ]
  },
  {
   "cell_type": "markdown",
   "id": "1cca312e",
   "metadata": {
    "slideshow": {
     "slide_type": "subslide"
    }
   },
   "source": [
    "### Organization and architecture - example\n",
    "\n",
    "- Designers of a new computer include an external bus to interface some external devices. The bus type and its signal details are analyzed from the architectural considerations.\n",
    "\n",
    "- Whether there should be any external pull-up resistors, or noise-reduction capacitors or buffers for that bus, would be an organizational issue. "
   ]
  },
  {
   "cell_type": "markdown",
   "id": "01d79838",
   "metadata": {
    "slideshow": {
     "slide_type": "subslide"
    }
   },
   "source": [
    "### Organization and architecture\n",
    "\n",
    "- Many computer manufacturers offer a family of computer models, all with the same architecture but with differences in organization:\n",
    "    - The different models in the family have different price and performance characteristics\n",
    "    \n",
    "- There is a grey area between architecture and organization\n",
    "    - In certain cases (e.g., data path design), the domains of architecture and organization overlap each other."
   ]
  },
  {
   "cell_type": "markdown",
   "id": "68b4c004",
   "metadata": {
    "slideshow": {
     "slide_type": "slide"
    }
   },
   "source": [
    "## Git and GitHub  "
   ]
  },
  {
   "cell_type": "markdown",
   "id": "e29044d1",
   "metadata": {
    "slideshow": {
     "slide_type": "subslide"
    }
   },
   "source": [
    "## Git\n",
    "\n",
    "- Distributed version control system\n",
    "- Created by Linus Torvalds (creator of Linux)"
   ]
  },
  {
   "cell_type": "markdown",
   "id": "f32872d3",
   "metadata": {},
   "source": [
    "thesis, thesis_v1, ..., thesis_v1_v2_final_final"
   ]
  },
  {
   "cell_type": "markdown",
   "id": "cc7bba85",
   "metadata": {
    "slideshow": {
     "slide_type": "subslide"
    }
   },
   "source": [
    "### Version control system\n",
    "\n",
    "- Software that automatically maintains records of all the changes made to a project\n",
    "- Allows teams to work and modify different parts of a project concurrently"
   ]
  },
  {
   "cell_type": "markdown",
   "id": "45eef24b",
   "metadata": {
    "slideshow": {
     "slide_type": "subslide"
    }
   },
   "source": [
    "### Main Git concepts\n",
    "\n",
    "- **Repository:** A folder being tracked by Git\n",
    "- **Cloning:** Downloads a repository on your computer from the server\n",
    "- **Staging area:** It a drafting space, where you can add the version of a file or files you want to commit\n",
    "- **Commit:** Git takes a snapshot of the project once the staging area files are commited\n",
    "- **Push:** Upload the files to the server\n",
    "- **Pull:** Download new files that are modified by someone else"
   ]
  },
  {
   "cell_type": "markdown",
   "id": "f7dc0d43",
   "metadata": {
    "slideshow": {
     "slide_type": "subslide"
    }
   },
   "source": [
    "### Git commands\n",
    "\n",
    "```\n",
    "# cloning\n",
    "git clone repo_url\n",
    "\n",
    "# adding to staging area\n",
    "git add file\n",
    "\n",
    "# commit \n",
    "git commit -m \"I did a change\"\n",
    "\n",
    "# push\n",
    "git push\n",
    "\n",
    "# pull\n",
    "git pull\n",
    "```"
   ]
  },
  {
   "cell_type": "markdown",
   "id": "8335f42a",
   "metadata": {
    "slideshow": {
     "slide_type": "subslide"
    }
   },
   "source": [
    "### Exercise 1\n",
    "\n",
    "- Create an account in GitHub\n",
    "- Create a public repo for your class work (repo names are unique)"
   ]
  },
  {
   "cell_type": "markdown",
   "id": "fda491a8",
   "metadata": {
    "slideshow": {
     "slide_type": "subslide"
    }
   },
   "source": [
    "### Exercise 2\n",
    "\n",
    "1. Install Git in your computer\n",
    "2. Clone the repo into a local folder\n",
    "3. Create a file named `README.md`\n",
    "4. Follow the syntax described in this [cheatsheet] to write a description of your repo\n",
    "5. Add `README.md` to the staging area of your repo\n",
    "6. Commit your change with a descriptive message\n",
    "7. Push the commit to the GitHub server"
   ]
  }
 ],
 "metadata": {
  "celltoolbar": "Slideshow",
  "kernelspec": {
   "display_name": "Python 3",
   "language": "python",
   "name": "python3"
  },
  "language_info": {
   "codemirror_mode": {
    "name": "ipython",
    "version": 3
   },
   "file_extension": ".py",
   "mimetype": "text/x-python",
   "name": "python",
   "nbconvert_exporter": "python",
   "pygments_lexer": "ipython3",
   "version": "3.8.8"
  }
 },
 "nbformat": 4,
 "nbformat_minor": 5
}
