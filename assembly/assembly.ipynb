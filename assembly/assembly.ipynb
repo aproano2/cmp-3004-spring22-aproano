{
 "cells": [
  {
   "cell_type": "markdown",
   "id": "c4079ebb",
   "metadata": {
    "slideshow": {
     "slide_type": "slide"
    }
   },
   "source": [
    "## CMP-3004\n",
    "## Computer Organization\n",
    "\n",
    "### Spring 2022\n"
   ]
  },
  {
   "cell_type": "markdown",
   "id": "c33453bb",
   "metadata": {
    "slideshow": {
     "slide_type": "slide"
    }
   },
   "source": [
    "## Review "
   ]
  },
  {
   "cell_type": "markdown",
   "id": "c28a0acf",
   "metadata": {
    "slideshow": {
     "slide_type": "subslide"
    }
   },
   "source": [
    "## Instructions\n",
    "\n",
    "\n",
    "- Instructions are very primitive in nature, they tell the processor what to do\n",
    "    - they are as simple as: ‘copy a byte from  here  to  there’  or ‘add contents of these two registers’\n",
    "- Main categories:\n",
    "    - **Data move -** copy data from one place to another\n",
    "    - **Arithmetic and logical -** intructions for the ALU\n",
    "    - **Program flow control and machine control -** conditional, uncoditional branching, and subroutines calls and returs.\n"
   ]
  },
  {
   "cell_type": "markdown",
   "id": "376e2c92",
   "metadata": {
    "slideshow": {
     "slide_type": "subslide"
    }
   },
   "source": [
    "## Addressing modes\n",
    "\n",
    "- **Immediate addressing mode -** the target data is a part of the instruction\n",
    "- **Direct addressing mode -** the address of the target data is a part of the instruction\n",
    "- **Register direct addressing mode -** the name of the register holding the target data is indicated in the instruction\n",
    "- **Register indirect addressing mode -** the indicated register holds the address of the target data (shorter instructions length)\n",
    "- **Relative addressing mode -** the location of target data is specified with respect to the current position of the program counter (PC)\n",
    "- **Implicit addressing mode -** the location of data is not indicated in the instruction because it is predefined\n",
    "- **Indexed addressing mode -** he location of target data is specified with respect to the current position of an index register"
   ]
  },
  {
   "cell_type": "markdown",
   "id": "a22026ae",
   "metadata": {
    "slideshow": {
     "slide_type": "subslide"
    }
   },
   "source": [
    "### Instructions representation\n",
    "\n",
    "- **opcode:** represents the type of instructions (e.g., ADD, SUBTRACT, COMPARE, JUMP)\n",
    "- **operand:** represent one or more register numbers or a memory address where operands are located or results are going to be stored"
   ]
  },
  {
   "cell_type": "markdown",
   "id": "601a0e63",
   "metadata": {
    "slideshow": {
     "slide_type": "subslide"
    }
   },
   "source": [
    "### Intructions examples:\n",
    "Each line represents maximum size of the instruction (e.g., 1 Byte)\n",
    "\n",
    "- RETURN \n",
    "```\n",
    "|opcode|\n",
    "```\n",
    "- Increment a register\n",
    "```\n",
    "|opcode|reg|\n",
    "```\n",
    "- Copy from a register to another\n",
    "```\n",
    "|opcode|reg1|reg2|\n",
    "```\n",
    "- Intruction with immediate addressing\n",
    "```\n",
    "|opcode|reg|\n",
    "|data|\n",
    "```\n",
    "\n"
   ]
  },
  {
   "cell_type": "markdown",
   "id": "3d08cdea",
   "metadata": {
    "slideshow": {
     "slide_type": "subslide"
    }
   },
   "source": [
    "### Intructions examples:\n",
    "\n",
    "- Direct addressing mode. Second and third are for address memory\n",
    "```\n",
    "|opcode|reg|\n",
    "|addr (MSB)|\n",
    "|addr (LSB)|\n",
    "```\n",
    "- Load immediate data in any directly addressed location\n",
    "```\n",
    "|opcode|\n",
    "|data|\n",
    "|addr (MSB)|\n",
    "|addr (LSB)|\n",
    "```"
   ]
  },
  {
   "cell_type": "markdown",
   "id": "d66b0aa9",
   "metadata": {
    "slideshow": {
     "slide_type": "slide"
    }
   },
   "source": [
    "## Instruction set for different architectures\n",
    "\n",
    "From Intel's website:\n",
    "\n",
    "- **IA32:** traditional 32-bit processors generally compatible with the Intel Pentium® II processor, (for example, Intel® Pentium® 4 processor or Intel® Xeon® processor), or processors from other manufacturers supporting the same instruction set, running a 32-bit operating system\n",
    "\n",
    "- **x86-64:** Intel® 64 architecture delivers 64-bit computing in embedded designs when combined with supporting software.1 Intel® 64 architecture improves performance by allowing systems to address more than 4 GB of both virtual and physical memory.\n"
   ]
  },
  {
   "cell_type": "markdown",
   "id": "7240f3ef",
   "metadata": {
    "slideshow": {
     "slide_type": "slide"
    }
   },
   "source": [
    "## Assembly language\n",
    "\n",
    "- Programs developed in high level language are machine independent. The compiler chooses what instructions to use\n",
    "\n",
    "![](./transformations.png)\n",
    "\n",
    "- Assembly language is processor-dependent\n",
    "    - Every processor has its own assembly language instruction set\n",
    "    - The assembler translates each assembly language instruction to machine code for the processor\n",
    "    - Multiple machine language instructions are necessary to implement one high level language instruction\n"
   ]
  },
  {
   "cell_type": "markdown",
   "id": "489f9a37",
   "metadata": {
    "slideshow": {
     "slide_type": "subslide"
    }
   },
   "source": [
    "## Assembly language - example\n",
    "\n",
    "C function:\n",
    "\n",
    "```\n",
    "    int sum(int x, int y)\n",
    "    {\n",
    "     int t = x+y;\n",
    "     return t;\n",
    "    } \n",
    "```\n",
    "\n",
    "Running `gcc -O1 -S ./code.c` produces `code.s`:\n",
    "\n",
    "```\n",
    "    ...\n",
    "\tmovl\t%edi, -20(%rbp)\n",
    "\tmovl\t%esi, -24(%rbp)\n",
    "\tmovl\t-20(%rbp), %edx\n",
    "\tmovl\t-24(%rbp), %eax\n",
    "\taddl\t%edx, %eax\n",
    "    movl\t%eax, -4(%rbp)\n",
    "\tmovl\t-4(%rbp), %eax\n",
    "\tpopq\t%rbp\n",
    "\t.cfi_def_cfa 7, 8\n",
    "\tret\n",
    "    ...\n",
    "```\n",
    "\n",
    "\n"
   ]
  },
  {
   "cell_type": "markdown",
   "id": "baa0650e",
   "metadata": {
    "slideshow": {
     "slide_type": "slide"
    }
   },
   "source": [
    "## Why learning assembly?\n",
    "\n",
    "- It can be used for real-time systems, programs written in high level languages might not deliver the result on time (important deficiency)\n",
    "    - Examples: air traffic control systems, process control systems, and autonomous driving systems.\n",
    "\n",
    "- The assembly language programming aids the programmer to better understand the processor architecture\n",
    "    - All advantages and utility of the processor become available to the programmer to generate efficient program codes\n",
    "    - The programmer is aware about the available resources. In this light, a tune process can de done to maximize the performance under specific working conditions"
   ]
  },
  {
   "cell_type": "markdown",
   "id": "72b03de3",
   "metadata": {
    "slideshow": {
     "slide_type": "slide"
    }
   },
   "source": [
    "## Assembly data types\n",
    "\n",
    "- Integers:\n",
    "    - IA32 uses 1, 2, and 4 bytes\n",
    "    - x86-64 uses 8 bytes\n",
    "- Integers are used for: \n",
    "    - Data values\n",
    "    - Addresses (untyped pointers)\n",
    "\n",
    "- Floating point data of 4, 8, or 10 bytes\n",
    "    - This data uses special registers\n",
    "\n",
    "- Aggregate types such as arrays\n",
    "    - Just contiguous memory locations"
   ]
  },
  {
   "cell_type": "markdown",
   "id": "64a06413",
   "metadata": {
    "slideshow": {
     "slide_type": "slide"
    }
   },
   "source": [
    "## What's a register?\n",
    "\n",
    "- Location in the CPU that stores a small amount of data \n",
    "    - it can be accessed very quickly (once every clock cycle)\n",
    "- Registers use names, not addresses.\n",
    "\n",
    "- Registers are fundamental for assembly programming\n",
    "    - They are a precious commodity in all architectures, but especially x86\n",
    "\n",
    "\n"
   ]
  },
  {
   "cell_type": "markdown",
   "id": "cfa8193c",
   "metadata": {
    "slideshow": {
     "slide_type": "subslide"
    }
   },
   "source": [
    "## Integer registers IA32\n",
    "\n",
    "![](./reg_ia32.png)"
   ]
  },
  {
   "cell_type": "markdown",
   "id": "bcd24283",
   "metadata": {
    "slideshow": {
     "slide_type": "subslide"
    }
   },
   "source": [
    "## Integer registers IA32\n",
    "\n",
    "![](./reg_ia32b.png)"
   ]
  },
  {
   "cell_type": "markdown",
   "id": "27a304f3",
   "metadata": {
    "slideshow": {
     "slide_type": "subslide"
    }
   },
   "source": [
    "## Integer registers x86-64\n",
    "\n",
    "![](./reg_64.png)"
   ]
  },
  {
   "cell_type": "markdown",
   "id": "5837d0fd",
   "metadata": {
    "slideshow": {
     "slide_type": "slide"
    }
   },
   "source": [
    "## Assembly coding - moving data\n",
    "\n",
    "In IA32:\n",
    "\n",
    "- Instruction `movx`\n",
    "    - `x` can be `b`, `w`, or `l`\n",
    "    \n",
    "- `movl src, dest`\n",
    "    - move 4-byte long word\n",
    "- `movw src dest`\n",
    "    - move 2-byte word\n",
    "- `movb src dest`\n",
    "    - move 1-byte word\n",
    "\n",
    "In x86-64:\n",
    "- `movq src, dest`\n",
    "    - move a 8-bytes quad word"
   ]
  },
  {
   "cell_type": "markdown",
   "id": "d8c986ca",
   "metadata": {
    "slideshow": {
     "slide_type": "subslide"
    }
   },
   "source": [
    "## Assembly coding - moving data\n",
    "\n",
    "For addressing\n",
    "\n",
    "- `movl src, dest`\n",
    "\n",
    "`src` and `dest` can be:\n",
    "\n",
    "- inmediate `$0x400`\n",
    "- register `%eax`\n",
    "- memory `(%eax)`\n",
    "- relative `8(%eax)` equivalent to `(%eax) + 8`\n",
    "\n"
   ]
  },
  {
   "cell_type": "markdown",
   "id": "7de34f3b",
   "metadata": {
    "slideshow": {
     "slide_type": "subslide"
    }
   },
   "source": [
    "## Assembly language - example\n",
    "\n",
    "C function:\n",
    "\n",
    "```\n",
    "    int sum(int x, int y)\n",
    "    {\n",
    "     int t = x+y;\n",
    "     return t;\n",
    "    } \n",
    "```\n",
    "\n",
    "Running `gcc -O1 -S ./code.c` produces `code.s`:\n",
    "\n",
    "```\n",
    "    ...\n",
    "\tmovl\t%edi, -20(%rbp)\n",
    "\tmovl\t%esi, -24(%rbp)\n",
    "\tmovl\t-20(%rbp), %edx\n",
    "\tmovl\t-24(%rbp), %eax\n",
    "\taddl\t%edx, %eax\n",
    "    movl\t%eax, -4(%rbp)\n",
    "\tmovl\t-4(%rbp), %eax\n",
    "\tpopq\t%rbp\n",
    "\t.cfi_def_cfa 7, 8\n",
    "\tret\n",
    "    ...\n",
    "```\n",
    "\n",
    "\n"
   ]
  },
  {
   "cell_type": "markdown",
   "id": "c5214f67",
   "metadata": {
    "slideshow": {
     "slide_type": "slide"
    }
   },
   "source": [
    "## Exercises:\n",
    "\n",
    "1. Write the following C function and generate the assembly code using `gcc`\n",
    "\n",
    "```\n",
    "void swap(int *d1p, int *d2p) \n",
    "{\n",
    "  int temp0 = *d1p;\n",
    "  int temp1 = *d2p;\n",
    "  *d1p = temp1;\n",
    "  *d2p = temp0;\n",
    "}\n",
    "```\n",
    "\n",
    "2. Create a similar function `swapl` that uses long integers instead\n",
    "    - What's the difference in the assembly code?\n",
    "\n",
    "\n",
    "3. Implement a function named `abs_diff` that calculates the absolute value of the difference of two inputs `a` and `b` (i.e., |a-b|), and get the assembly code output\n"
   ]
  },
  {
   "cell_type": "markdown",
   "id": "fbd13a30",
   "metadata": {
    "slideshow": {
     "slide_type": "slide"
    }
   },
   "source": [
    "## Assembly program format\n",
    "\n",
    "The general format includes four fields: **label**, **mnemonic**, **operand** and **comments**\n",
    "\n",
    "![](./format_assembly.png)"
   ]
  },
  {
   "cell_type": "markdown",
   "id": "933cb4e5",
   "metadata": {
    "slideshow": {
     "slide_type": "subslide"
    }
   },
   "source": [
    "## Assembly program format\n",
    "\n",
    "- **labels -** are indications of various important locations of the program body, referred within some instructions for branching or calling purpose\n",
    "- **mnemonic -** represents the instruction itself\n",
    "- **operand -** an instruction may or may not have any operand(s). Comma (,) is used to separate operands\n",
    "- **comments -** ignored by the assembler and used to improve the readability of the program. They are indicated by a semicolon (;) at the beginning\n",
    "\n"
   ]
  },
  {
   "cell_type": "markdown",
   "id": "52138b8a",
   "metadata": {
    "slideshow": {
     "slide_type": "subslide"
    }
   },
   "source": [
    "## Assembler directives\n",
    "\n",
    "These are necessary only for the internal usage of the assembler and are not executable instructions that form part of the program\n",
    "\n",
    "- **EQU:** is used to define the location (address) of any variable or the value of some constant\n",
    "    - `COUNT EQU 002BH`\n",
    "- **ORG:** is used to define the starting address of the following program segment or a subroutine\n",
    "    - `ORG 002BH`\n",
    "- **END:** is used to denote the end of the program. This must be the last statement of a program body\n",
    "\n",
    "- **DB, DW:** stand for defined byte and defined word. They have to be used to denote any constant data within the program segment\n",
    "\n",
    "    - `PRICE DB 49H, 98H, 29H;`\n",
    "    - `MULTIPLIER DW 437AH`"
   ]
  },
  {
   "cell_type": "markdown",
   "id": "f9bbacb4",
   "metadata": {
    "slideshow": {
     "slide_type": "subslide"
    }
   },
   "source": [
    "## Assembly language techniques\n",
    "\n",
    "The four major techniques of assembly language programming are:\n",
    "\n",
    "- Data transfer and manipulations. To move values among different entities. Arithmetic and logical instructions for data manipulation\n",
    "- Loops and loop control. Jumping instructions\n",
    "- Program branching. Conditional as well as unconditional program branching instructions\n",
    "- Subroutine calls. They may be visualized as a special type of jump instruction. The return address is saved on the stack top."
   ]
  },
  {
   "cell_type": "markdown",
   "id": "0b6d6d62",
   "metadata": {},
   "source": [
    "```\n",
    "sudo apt install gcc\n",
    "```"
   ]
  },
  {
   "cell_type": "code",
   "execution_count": null,
   "id": "b6637c35",
   "metadata": {},
   "outputs": [],
   "source": []
  }
 ],
 "metadata": {
  "celltoolbar": "Slideshow",
  "kernelspec": {
   "display_name": "Python 3 (ipykernel)",
   "language": "python",
   "name": "python3"
  },
  "language_info": {
   "codemirror_mode": {
    "name": "ipython",
    "version": 3
   },
   "file_extension": ".py",
   "mimetype": "text/x-python",
   "name": "python",
   "nbconvert_exporter": "python",
   "pygments_lexer": "ipython3",
   "version": "3.8.10"
  }
 },
 "nbformat": 4,
 "nbformat_minor": 5
}
