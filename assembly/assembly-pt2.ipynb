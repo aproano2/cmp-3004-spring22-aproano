{
 "cells": [
  {
   "cell_type": "markdown",
   "id": "c4079ebb",
   "metadata": {
    "slideshow": {
     "slide_type": "slide"
    }
   },
   "source": [
    "## CMP-3004\n",
    "## Computer Organization\n",
    "\n",
    "### Spring 2022\n"
   ]
  },
  {
   "cell_type": "markdown",
   "id": "c4c012ea",
   "metadata": {
    "slideshow": {
     "slide_type": "slide"
    }
   },
   "source": [
    "## Housekeeping\n",
    "\n",
    "- Homework 2\n",
    "- Midterm"
   ]
  },
  {
   "cell_type": "markdown",
   "id": "c33453bb",
   "metadata": {
    "slideshow": {
     "slide_type": "slide"
    }
   },
   "source": [
    "## Review "
   ]
  },
  {
   "cell_type": "markdown",
   "id": "7240f3ef",
   "metadata": {
    "slideshow": {
     "slide_type": "subslide"
    }
   },
   "source": [
    "## Assembly language\n",
    "\n",
    "- Programs developed in high level language are machine independent. The compiler chooses what instructions to use\n",
    "\n",
    "![](./transformations.png)\n",
    "\n",
    "- Assembly language is processor-dependent\n",
    "    - Every processor has its own assembly language instruction set\n",
    "    - The assembler translates each assembly language instruction to machine code for the processor\n",
    "    - Multiple machine language instructions are necessary to implement one high level language instruction\n"
   ]
  },
  {
   "cell_type": "markdown",
   "id": "489f9a37",
   "metadata": {
    "slideshow": {
     "slide_type": "subslide"
    }
   },
   "source": [
    "## Assembly language - example\n",
    "\n",
    "C function:\n",
    "\n",
    "```\n",
    "    int sum(int x, int y)\n",
    "    {\n",
    "     int t = x+y;\n",
    "     return t;\n",
    "    } \n",
    "```\n",
    "\n",
    "Running `gcc -O1 -S ./code.c` produces `code.s`:\n",
    "\n",
    "```\n",
    "    ...\n",
    "\tmovl\t%edi, -20(%rbp)\n",
    "\tmovl\t%esi, -24(%rbp)\n",
    "\tmovl\t-20(%rbp), %edx\n",
    "\tmovl\t-24(%rbp), %eax\n",
    "\taddl\t%edx, %eax\n",
    "    movl\t%eax, -4(%rbp)\n",
    "\tmovl\t-4(%rbp), %eax\n",
    "\tpopq\t%rbp\n",
    "\t.cfi_def_cfa 7, 8\n",
    "\tret\n",
    "    ...\n",
    "```\n",
    "\n",
    "\n"
   ]
  },
  {
   "cell_type": "markdown",
   "id": "cfa8193c",
   "metadata": {
    "slideshow": {
     "slide_type": "subslide"
    }
   },
   "source": [
    "## Integer registers IA32\n",
    "\n",
    "![](./reg_ia32.png)"
   ]
  },
  {
   "cell_type": "markdown",
   "id": "bcd24283",
   "metadata": {
    "slideshow": {
     "slide_type": "subslide"
    }
   },
   "source": [
    "## Integer registers IA32\n",
    "\n",
    "![](./reg_ia32b.png)"
   ]
  },
  {
   "cell_type": "markdown",
   "id": "27a304f3",
   "metadata": {
    "slideshow": {
     "slide_type": "subslide"
    }
   },
   "source": [
    "## Integer registers x86-64\n",
    "\n",
    "![](./reg_64.png)"
   ]
  },
  {
   "cell_type": "markdown",
   "id": "5837d0fd",
   "metadata": {
    "slideshow": {
     "slide_type": "slide"
    }
   },
   "source": [
    "## Assembly coding - moving data\n",
    "\n",
    "In IA32:\n",
    "\n",
    "- Instruction `movx`\n",
    "    - `x` can be `b`, `w`, or `l`\n",
    "    \n",
    "- `movl src, dest`\n",
    "    - move 4-byte long word\n",
    "- `movw src dest`\n",
    "    - move 2-byte word\n",
    "- `movb src dest`\n",
    "    - move 1-byte word\n",
    "\n",
    "In x86-64:\n",
    "- `movq src, dest`\n",
    "    - move a 8-bytes quad word"
   ]
  },
  {
   "cell_type": "markdown",
   "id": "d8c986ca",
   "metadata": {
    "slideshow": {
     "slide_type": "subslide"
    }
   },
   "source": [
    "## Assembly coding - moving data\n",
    "\n",
    "For addressing\n",
    "\n",
    "- `movl src, dest`\n",
    "\n",
    "`src` and `dest` can be:\n",
    "\n",
    "- inmediate `$0x400`\n",
    "- register `%eax`\n",
    "- memory `(%eax)`\n",
    "- relative `8(%eax)` equivalent to `(%eax) + 8`\n",
    "\n"
   ]
  },
  {
   "cell_type": "markdown",
   "id": "7de34f3b",
   "metadata": {
    "slideshow": {
     "slide_type": "subslide"
    }
   },
   "source": [
    "## Assembly language - example\n",
    "\n",
    "C function:\n",
    "\n",
    "```\n",
    "    int sum(int x, int y)\n",
    "    {\n",
    "     int t = x+y;\n",
    "     return t;\n",
    "    } \n",
    "```\n",
    "\n",
    "Running `gcc -O1 -S ./code.c` produces `code.s`:\n",
    "\n",
    "```\n",
    "    ...\n",
    "\tmovl\t%edi, -20(%rbp)\n",
    "\tmovl\t%esi, -24(%rbp)\n",
    "\tmovl\t-20(%rbp), %edx\n",
    "\tmovl\t-24(%rbp), %eax\n",
    "\taddl\t%edx, %eax\n",
    "    movl\t%eax, -4(%rbp)\n",
    "\tmovl\t-4(%rbp), %eax\n",
    "\tpopq\t%rbp\n",
    "\t.cfi_def_cfa 7, 8\n",
    "\tret\n",
    "    ...\n",
    "```\n",
    "\n",
    "\n"
   ]
  },
  {
   "cell_type": "markdown",
   "id": "c5214f67",
   "metadata": {
    "slideshow": {
     "slide_type": "slide"
    }
   },
   "source": [
    "## Exercises:\n",
    "\n",
    "1. Write the following C function and generate the assembly code using `gcc`\n",
    "\n",
    "```\n",
    "void swap(int *d1p, int *d2p) \n",
    "{\n",
    "  int temp0 = *d1p;\n",
    "  int temp1 = *d2p;\n",
    "  *d1p = temp1;\n",
    "  *d2p = temp0;\n",
    "}\n",
    "```\n",
    "\n",
    "2. Create a similar function `swapl` that uses long integers instead\n",
    "    - What's the difference in the assembly code?\n",
    "\n",
    "\n",
    "3. Implement a function named `abs_diff` that calculates the absolute value of the difference of two inputs `a` and `b` (i.e., |a-b|), and get the assembly code output\n"
   ]
  },
  {
   "cell_type": "markdown",
   "id": "fbd13a30",
   "metadata": {
    "slideshow": {
     "slide_type": "slide"
    }
   },
   "source": [
    "## Assembly program format\n",
    "\n",
    "The general format includes four fields: **label**, **mnemonic**, **operand** and **comments**\n",
    "\n",
    "![](./format_assembly.png)"
   ]
  },
  {
   "cell_type": "code",
   "execution_count": null,
   "id": "66d1aafd",
   "metadata": {},
   "outputs": [],
   "source": [
    "if x > y do JUMP COND1 else JUMP COND2\n",
    "\n",
    "MOVL src, dst\n",
    "; "
   ]
  },
  {
   "cell_type": "markdown",
   "id": "933cb4e5",
   "metadata": {
    "slideshow": {
     "slide_type": "subslide"
    }
   },
   "source": [
    "## Assembly program format\n",
    "\n",
    "- **labels -** are indications of various important locations of the program body, referred within some instructions for branching or calling purpose\n",
    "- **mnemonic -** represents the instruction itself\n",
    "- **operand -** an instruction may or may not have any operand(s). Comma (,) is used to separate operands\n",
    "- **comments -** ignored by the assembler and used to improve the readability of the program. They are indicated by a semicolon (;) at the beginning\n",
    "\n"
   ]
  },
  {
   "cell_type": "markdown",
   "id": "52138b8a",
   "metadata": {
    "slideshow": {
     "slide_type": "subslide"
    }
   },
   "source": [
    "## Assembler directives\n",
    "\n",
    "These are necessary only for the internal usage of the assembler and are not executable instructions that form part of the program\n",
    "\n",
    "- **EQU:** is used to define the location (address) of any variable or the value of some constant\n",
    "    - `COUNT EQU 002BH`\n",
    "- **END:** is used to denote the end of the source code. This must be the last statement of a program body\n",
    "\n",
    "- **DB, DW:** stand for defined byte and defined word(2 bytes). They have to be used to denote any constant data within the program segment\n",
    "\n",
    "    - `PRICE DB 49H`\n",
    "    - `MULTIPLIER DW 437AH`"
   ]
  },
  {
   "cell_type": "markdown",
   "id": "f9bbacb4",
   "metadata": {
    "slideshow": {
     "slide_type": "subslide"
    }
   },
   "source": [
    "## Assembly language techniques\n",
    "\n",
    "The four major techniques of assembly language programming are:\n",
    "\n",
    "- Data transfer and manipulations. To move values among different entities. Arithmetic and logical instructions for data manipulation\n",
    "- Loops and loop control. Jumping instructions\n",
    "- Program branching. Conditional as well as unconditional program branching instructions\n",
    "- Subroutine calls. They may be visualized as a special type of jump instruction. The return address is saved on the stack top."
   ]
  }
 ],
 "metadata": {
  "celltoolbar": "Slideshow",
  "kernelspec": {
   "display_name": "Python 3 (ipykernel)",
   "language": "python",
   "name": "python3"
  },
  "language_info": {
   "codemirror_mode": {
    "name": "ipython",
    "version": 3
   },
   "file_extension": ".py",
   "mimetype": "text/x-python",
   "name": "python",
   "nbconvert_exporter": "python",
   "pygments_lexer": "ipython3",
   "version": "3.8.10"
  }
 },
 "nbformat": 4,
 "nbformat_minor": 5
}
