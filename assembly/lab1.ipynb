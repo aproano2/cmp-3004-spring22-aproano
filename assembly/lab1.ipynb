{
 "cells": [
  {
   "cell_type": "markdown",
   "id": "61c63897",
   "metadata": {},
   "source": [
    "## Tutorial: Assembly environment setup"
   ]
  },
  {
   "cell_type": "markdown",
   "id": "ff76a775",
   "metadata": {},
   "source": [
    "## Check dependencies\n",
    "\n",
    "Run one of the following to see if `pip` is installed:\n",
    "\n",
    "```\n",
    "pip3 --version\n",
    "python3 -m pip --version\n",
    "```\n",
    "\n",
    "If no output from above, install `pip`:\n",
    "\n",
    "```\n",
    "$ sudo apt install python3-pip python3-dev\n",
    "```"
   ]
  },
  {
   "cell_type": "markdown",
   "id": "b4121a0f",
   "metadata": {},
   "source": [
    "## Install virtualenv\n",
    "\n",
    "```\n",
    "# Upgrade pip\n",
    "$ sudo -H pip3 install --upgrade pip\n",
    "\n",
    "# Install virtualenv\n",
    "$ sudo -H pip3 install virtualenv\n",
    "\n",
    "```\n"
   ]
  },
  {
   "cell_type": "markdown",
   "id": "1a0107de",
   "metadata": {},
   "source": [
    "## Create a virtual environment for assembly\n",
    "\n",
    "```\n",
    "# Create a directory for your class environments\n",
    "$ mkdir cmp3004\n",
    "$ cd cmp-3004\n",
    "\n",
    "# Create a directory for assembly \n",
    "$ mkdir assembly_notebooks\n",
    "$ cd assembly_notebooks\n",
    "$ virtualenv assembly_env\n",
    "```"
   ]
  },
  {
   "cell_type": "markdown",
   "id": "95b3b94a",
   "metadata": {},
   "source": [
    "## Activate the environment\n",
    "```\n",
    "$ source assembly_env/bin/activate\n",
    "```"
   ]
  },
  {
   "cell_type": "markdown",
   "id": "d699aa25",
   "metadata": {},
   "source": [
    "## Let's install dependencies\n",
    "\n",
    "```\n",
    "# Install Jupyter \n",
    "$ pip3 install jupyter\n",
    "\n",
    "# Install emu86\n",
    "# emu86 emulates Intel assembly language in Jupyter notebooks\n",
    "$ pip install emu86\n",
    "$ python3 -m kernels.intel.install\n",
    "```"
   ]
  },
  {
   "cell_type": "markdown",
   "id": "0201f931",
   "metadata": {},
   "source": [
    "## Use assembly in Jupyter notebooks\n",
    "\n",
    "```\n",
    "jupyter notebook\n",
    "```\n",
    "\n",
    "After jupyter notebook launches in browser, click the New dropdown on the upper right and then click on `Intel`\n"
   ]
  },
  {
   "cell_type": "markdown",
   "id": "d70c2862",
   "metadata": {},
   "source": [
    "## Test that is working\n",
    "\n",
    "Add to the first cell of your notebook the following code and execute\n",
    "\n",
    "```\n",
    "mov edx, 2\n",
    "mov ebx, 16\n",
    "```"
   ]
  },
  {
   "cell_type": "code",
   "execution_count": null,
   "id": "91b58a0b",
   "metadata": {},
   "outputs": [],
   "source": []
  }
 ],
 "metadata": {
  "kernelspec": {
   "display_name": "Python 3 (ipykernel)",
   "language": "python",
   "name": "python3"
  },
  "language_info": {
   "codemirror_mode": {
    "name": "ipython",
    "version": 3
   },
   "file_extension": ".py",
   "mimetype": "text/x-python",
   "name": "python",
   "nbconvert_exporter": "python",
   "pygments_lexer": "ipython3",
   "version": "3.8.10"
  }
 },
 "nbformat": 4,
 "nbformat_minor": 5
}
