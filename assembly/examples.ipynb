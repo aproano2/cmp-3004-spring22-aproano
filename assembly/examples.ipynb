{
 "cells": [
  {
   "cell_type": "markdown",
   "id": "33c704d9",
   "metadata": {},
   "source": [
    "## Assembly examples"
   ]
  },
  {
   "cell_type": "markdown",
   "id": "137b9878",
   "metadata": {},
   "source": [
    "### Move data to registers"
   ]
  },
  {
   "cell_type": "code",
   "execution_count": null,
   "id": "0c132d5f",
   "metadata": {},
   "outputs": [],
   "source": [
    "mov dest, src"
   ]
  },
  {
   "cell_type": "code",
   "execution_count": 120,
   "id": "d68d56c3",
   "metadata": {},
   "outputs": [
    {
     "data": {
      "text/html": [
       "Changes: <br /><table><tr><th>Type</th><th>Identifier</th><th>Value</th><tr><td>Register</td><td>EBX</td>\n",
       "            <td>16</td></tr><tr><td>Register</td><td>EDX</td>\n",
       "            <td>2</td></tr></table>"
      ]
     },
     "metadata": {},
     "output_type": "display_data"
    }
   ],
   "source": [
    "mov edx,2\n",
    "mov ebx, 16"
   ]
  },
  {
   "cell_type": "markdown",
   "id": "ee9cb583",
   "metadata": {},
   "source": [
    "### ALU operations"
   ]
  },
  {
   "cell_type": "code",
   "execution_count": 121,
   "id": "c0b78760",
   "metadata": {},
   "outputs": [
    {
     "name": "error_msg",
     "output_type": "stream",
     "text": [
      "Line 1: Invalid instruction: count"
     ]
    }
   ],
   "source": [
    "count DB 4\n",
    "SUM: add ebx, ebx\n",
    "    dec count\n",
    "    CMP count, 1\n",
    "    RET"
   ]
  },
  {
   "cell_type": "code",
   "execution_count": 122,
   "id": "b1901213",
   "metadata": {},
   "outputs": [
    {
     "data": {
      "text/html": [
       "Changes: <br /><table><tr><th>Type</th><th>Identifier</th><th>Value</th><tr><td>Register</td><td>EDX</td>\n",
       "            <td>1</td></tr></table>"
      ]
     },
     "metadata": {},
     "output_type": "display_data"
    }
   ],
   "source": [
    "dec edx"
   ]
  },
  {
   "cell_type": "code",
   "execution_count": 123,
   "id": "a503e848",
   "metadata": {},
   "outputs": [
    {
     "data": {
      "text/html": [
       "Changes: <br /><table><tr><th>Type</th><th>Identifier</th><th>Value</th><tr><td>Register</td><td>EDX</td>\n",
       "            <td>2</td></tr></table>"
      ]
     },
     "metadata": {},
     "output_type": "display_data"
    }
   ],
   "source": [
    "inc edx"
   ]
  },
  {
   "cell_type": "code",
   "execution_count": 124,
   "id": "2410c2e0",
   "metadata": {},
   "outputs": [
    {
     "data": {
      "text/html": [
       "Changes: <br /><table><tr><th>Type</th><th>Identifier</th><th>Value</th><tr><td>Register</td><td>EDX</td>\n",
       "            <td>-2</td></tr></table>"
      ]
     },
     "metadata": {},
     "output_type": "display_data"
    }
   ],
   "source": [
    "neg edx"
   ]
  },
  {
   "cell_type": "code",
   "execution_count": 125,
   "id": "5ab1e578",
   "metadata": {},
   "outputs": [
    {
     "data": {
      "text/html": [
       "Changes: <br /><table><tr><th>Type</th><th>Identifier</th><th>Value</th><tr><td>Register</td><td>EDX</td>\n",
       "            <td>-18</td></tr></table>"
      ]
     },
     "metadata": {},
     "output_type": "display_data"
    }
   ],
   "source": [
    "sub edx, ebx"
   ]
  },
  {
   "cell_type": "markdown",
   "id": "1be8d4ec",
   "metadata": {},
   "source": [
    "### Array "
   ]
  },
  {
   "cell_type": "code",
   "execution_count": null,
   "id": "0f0b39df",
   "metadata": {},
   "outputs": [],
   "source": [
    ".data\n",
    "; variable declarations\n",
    "\n",
    ".text\n",
    "; code to execute"
   ]
  },
  {
   "cell_type": "code",
   "execution_count": null,
   "id": "560d36e8",
   "metadata": {},
   "outputs": [],
   "source": [
    "-50 -50 ... -50"
   ]
  },
  {
   "cell_type": "code",
   "execution_count": 135,
   "id": "562d52b4",
   "metadata": {},
   "outputs": [
    {
     "data": {
      "text/html": [
       "Changes: <br /><table><tr><th>Type</th><th>Identifier</th><th>Value</th><tr><td>Register</td><td>EAX</td>\n",
       "            <td>8</td></tr><tr><td>Register</td><td>EBX</td>\n",
       "            <td>104</td></tr><tr><td>Register</td><td>ECX</td>\n",
       "            <td>104</td></tr><tr><td>Register</td><td>EDX</td>\n",
       "            <td>-50</td></tr></table>"
      ]
     },
     "metadata": {},
     "output_type": "display_data"
    }
   ],
   "source": [
    ".data\n",
    "    x DB 3, 8, 5, 2\n",
    "    y DW 13 DUP (-50)\n",
    "    z DD 'hello', 0\n",
    "\n",
    "; Store array values\n",
    ".text\n",
    "    mov eax, [x+1] \n",
    "    mov ebx, [y+13]\n",
    "    mov ecx, [z]\n",
    "    mov edx, [y+12]"
   ]
  },
  {
   "cell_type": "code",
   "execution_count": null,
   "id": "06c576a4",
   "metadata": {},
   "outputs": [],
   "source": [
    "|x(4)|y(13)|z(5)|"
   ]
  },
  {
   "cell_type": "markdown",
   "id": "6e6b92ba",
   "metadata": {},
   "source": [
    "### Power "
   ]
  },
  {
   "cell_type": "code",
   "execution_count": null,
   "id": "0d93ee6d",
   "metadata": {},
   "outputs": [],
   "source": [
    "base^exp1"
   ]
  },
  {
   "cell_type": "code",
   "execution_count": 136,
   "id": "c085abca",
   "metadata": {},
   "outputs": [
    {
     "name": "error_msg",
     "output_type": "stream",
     "text": [
      "Line 11: Unknown symbol: loop"
     ]
    }
   ],
   "source": [
    ".data \n",
    "    base DB 8\n",
    "    exp1 DB 2  \n",
    ".text \n",
    "    mov eax, [base]\n",
    "    mov edx, [base]\n",
    "    mov ecx, [exp1]\n",
    "loop: imul eax, edx\n",
    "          dec ecx \n",
    "          cmp ecx, 1\n",
    "          jne loop"
   ]
  },
  {
   "cell_type": "code",
   "execution_count": null,
   "id": "4fd6f307",
   "metadata": {},
   "outputs": [],
   "source": [
    "# Create a .asm and execute above +1"
   ]
  },
  {
   "cell_type": "code",
   "execution_count": 139,
   "id": "fced5a08",
   "metadata": {},
   "outputs": [
    {
     "data": {
      "text/html": [
       "Changes: <br /><table><tr><th>Type</th><th>Identifier</th><th>Value</th><tr><td>Register</td><td>EAX</td>\n",
       "            <td>1024</td></tr><tr><td>Register</td><td>ECX</td>\n",
       "            <td>1</td></tr><tr><td>Register</td><td>EDX</td>\n",
       "            <td>2</td></tr><tr><td>Flag</td><td>ZF</td>\n",
       "            <td>1</td></tr><tr><td>Flag</td><td>SF</td>\n",
       "            <td>0</td></tr></table>"
      ]
     },
     "metadata": {},
     "output_type": "display_data"
    }
   ],
   "source": [
    "mov eax, 2\n",
    "mov edx, 2\n",
    "mov ecx, 10\n",
    "loop: imul eax, edx\n",
    "      dec ecx \n",
    "      cmp ecx, 1\n",
    "      jne loop"
   ]
  },
  {
   "cell_type": "code",
   "execution_count": null,
   "id": "84328596",
   "metadata": {},
   "outputs": [],
   "source": []
  }
 ],
 "metadata": {
  "kernelspec": {
   "display_name": "Intel",
   "language": "",
   "name": "intel"
  },
  "language_info": {
   "file_extension": "x86",
   "mimetype": "intel",
   "name": "intel"
  }
 },
 "nbformat": 4,
 "nbformat_minor": 5
}
