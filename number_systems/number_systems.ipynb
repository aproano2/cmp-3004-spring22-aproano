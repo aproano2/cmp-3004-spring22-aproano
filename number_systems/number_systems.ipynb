{
 "cells": [
  {
   "cell_type": "code",
   "execution_count": 2,
   "id": "6425da37",
   "metadata": {
    "slideshow": {
     "slide_type": "skip"
    }
   },
   "outputs": [],
   "source": [
    "import pandas as pd\n",
    "import matplotlib.pyplot as plt\n",
    "import numpy as np\n",
    "%matplotlib inline"
   ]
  },
  {
   "cell_type": "markdown",
   "id": "c4079ebb",
   "metadata": {
    "slideshow": {
     "slide_type": "slide"
    }
   },
   "source": [
    "## CMP-3004\n",
    "## Computer Organization\n",
    "\n",
    "### Spring 2022\n"
   ]
  },
  {
   "cell_type": "markdown",
   "id": "34429f78",
   "metadata": {
    "slideshow": {
     "slide_type": "slide"
    }
   },
   "source": [
    "## Housekeeping\n",
    "\n",
    "- Install Git\n",
    "- Install VirtualBox and Linux Ubuntu Desktop\n",
    "- Install Anaconda (for things we do in Python and notebooks)"
   ]
  },
  {
   "cell_type": "markdown",
   "id": "c33453bb",
   "metadata": {
    "slideshow": {
     "slide_type": "slide"
    }
   },
   "source": [
    "## Review "
   ]
  },
  {
   "cell_type": "markdown",
   "id": "d41abfc6",
   "metadata": {
    "slideshow": {
     "slide_type": "subslide"
    }
   },
   "source": [
    "### Why do we study computer organization and architecture?\n",
    "\n",
    "**The success of our programs depend on the available hardware to run it**\n",
    "\n",
    "![](./computation_model.png)"
   ]
  },
  {
   "cell_type": "markdown",
   "id": "f4f47056",
   "metadata": {
    "slideshow": {
     "slide_type": "subslide"
    }
   },
   "source": [
    "### Computer architecture\n",
    "\n",
    "Computer architecture refers to the attributes of a system visible to a programmer which have a direct impact on the logical execution of a program:\n",
    "\n",
    "- Instruction set\n",
    "- Number of bits used to represent various data types (e.g., numbers, characters)\n",
    "- I/O mechanisms\n",
    "- Techniques for addressing memory"
   ]
  },
  {
   "cell_type": "markdown",
   "id": "95a69c4d",
   "metadata": {
    "slideshow": {
     "slide_type": "subslide"
    }
   },
   "source": [
    "### Computer organization \n",
    "\n",
    "Computer organization refers to the operational units and their interconnections that realize the architectural specifications. It includes hardware details transparent to the programmer:​\n",
    "\n",
    "- Control signals\n",
    "- Interfaces between the computer and peripherals\n",
    "- The memory technology used"
   ]
  },
  {
   "cell_type": "markdown",
   "id": "68b4c004",
   "metadata": {
    "slideshow": {
     "slide_type": "subslide"
    }
   },
   "source": [
    "## Git and GitHub  "
   ]
  },
  {
   "cell_type": "markdown",
   "id": "cc7bba85",
   "metadata": {
    "slideshow": {
     "slide_type": "subslide"
    }
   },
   "source": [
    "### Version control system\n",
    "\n",
    "- Software that automatically maintains records of all the changes made to a project\n",
    "- Allows teams to work and modify different parts of a project concurrently"
   ]
  },
  {
   "cell_type": "markdown",
   "id": "45eef24b",
   "metadata": {
    "slideshow": {
     "slide_type": "subslide"
    }
   },
   "source": [
    "### Main Git concepts\n",
    "\n",
    "- **Repository:** A folder being tracked by Git\n",
    "- **Cloning:** Downloads a repository on your computer from the server\n",
    "- **Staging area:** It a drafting space, where you can add the version of a file or files you want to commit\n",
    "- **Commit:** Git takes a snapshot of the project once the staging area files are commited\n",
    "- **Push:** Upload the files to the server\n",
    "- **Pull:** Download new files that are modified by someone else"
   ]
  },
  {
   "cell_type": "markdown",
   "id": "f7dc0d43",
   "metadata": {
    "slideshow": {
     "slide_type": "subslide"
    }
   },
   "source": [
    "### Git commands\n",
    "\n",
    "```\n",
    "# cloning\n",
    "git clone repo_url\n",
    "\n",
    "# adding to staging area\n",
    "git add file\n",
    "\n",
    "# commit \n",
    "git commit -m \"I did a change\"\n",
    "\n",
    "# push\n",
    "git push\n",
    "\n",
    "# pull\n",
    "git pull\n",
    "```"
   ]
  },
  {
   "cell_type": "markdown",
   "id": "9553a37b",
   "metadata": {
    "slideshow": {
     "slide_type": "slide"
    }
   },
   "source": [
    "## Number systems "
   ]
  },
  {
   "cell_type": "markdown",
   "id": "eaa29cbe",
   "metadata": {
    "slideshow": {
     "slide_type": "slide"
    }
   },
   "source": [
    "### Motivation\n",
    "\n",
    "- Computers use voltages to enable communication between components and with other computers\n",
    "- The easiest way to do so is using electric voltage to represent numbers\n",
    "- Using only 2 values is robust since noise can cause errors\n",
    "\n",
    "![](binary.png)"
   ]
  },
  {
   "cell_type": "markdown",
   "id": "e235e6d0",
   "metadata": {
    "slideshow": {
     "slide_type": "subslide"
    }
   },
   "source": [
    "### Motivation\n",
    "\n",
    "- Computers can store these 2 states, and they are defined as bits\n",
    "- We also have bytes (8 bits)\n",
    "\n"
   ]
  },
  {
   "cell_type": "markdown",
   "id": "d6b8c00c",
   "metadata": {
    "slideshow": {
     "slide_type": "slide"
    }
   },
   "source": [
    "### Positional number systems\n",
    "\n",
    "They define a number based on the position of each digit, for example:\n",
    "\n",
    "$(nmp)_b = p \\times b^0 + m \\times b^1 + n \\times b^2$\n",
    "\n",
    "where,\n",
    "\n",
    "- $b$ is the base of the system\n",
    "- $n,m,p \\in S,$ $S$ is the set of symbols for the number system\n",
    "\n",
    "In general, any number $N$ can be expressed as:\n",
    "\n",
    "$\\sum_{i=0}^{|N-1|} N[i] \\times b^{|N| - 1 - i}  $"
   ]
  },
  {
   "cell_type": "markdown",
   "id": "0a2dcb3b",
   "metadata": {
    "slideshow": {
     "slide_type": "slide"
    }
   },
   "source": [
    "### Decimal numbers\n",
    "\n",
    "- $S = \\{0, 1, 2, 3, 4, 5, 6, 7, 8, 9\\}$\n",
    "- $b = 10$\n",
    "\n",
    "Example:\n",
    "\n",
    "$1523 = 1 \\times 10^3 + 5 \\times 10^2 +2 \\times 10^1 + 3 \\times 10^0$"
   ]
  },
  {
   "cell_type": "markdown",
   "id": "21fc5ee9",
   "metadata": {
    "slideshow": {
     "slide_type": "slide"
    }
   },
   "source": [
    "### Binary numbers\n",
    "\n",
    "- $S = \\{0, 1\\}$\n",
    "- $b = 2$\n",
    "- Each digit takes 1 bit\n",
    "\n",
    "Example:\n",
    "\n",
    "$(1011)_2 = 1 \\times 2^3 + 0 \\times 2^2 + 1 \\times 2^1 + 1 \\times 2^0 = 11$ (decimal)"
   ]
  },
  {
   "cell_type": "markdown",
   "id": "0dc8a90e",
   "metadata": {
    "slideshow": {
     "slide_type": "slide"
    }
   },
   "source": [
    "### Octal numbers\n",
    "\n",
    "- $S = \\{0, 1, 2, 3, 4, 5, 6, 7\\}$\n",
    "- $b = 8$\n",
    "- Each digit takes 3 bits\n",
    "- Octals were used in older systems that used 12-bit words.\n",
    "- Still used in Unix based OS' to set file permissions (`chmod` command)\n",
    "\n",
    "Example:\n",
    "\n",
    "$(123)_8 = 1 \\times 8^2 + 2 \\times 8^1 + 3 \\times 8^0 = 83$ (decimal)\n",
    "\n"
   ]
  },
  {
   "cell_type": "markdown",
   "id": "4648c847",
   "metadata": {
    "slideshow": {
     "slide_type": "slide"
    }
   },
   "source": [
    "### Hexadecimal numbers\n",
    "\n",
    "- $S = \\{0, 1, 2, 3, 4, 5, 6, 7, 8, 9, A, B, C, D, E, F\\}$\n",
    "- $b = 16$\n",
    "- Each digit takes 4 bits\n",
    "- Way to improve readability of binary sequences\n",
    "    - MAC addresses (`ifconfig` or `ipconfig`)\n",
    "\n",
    "Example:\n",
    "\n",
    "$(91F)_{16} = 9 \\times 16^2 + 1 \\times 16^1 + F \\times 16^0 = 2335$ (decimal)"
   ]
  },
  {
   "cell_type": "markdown",
   "id": "80e739ef",
   "metadata": {
    "slideshow": {
     "slide_type": "slide"
    }
   },
   "source": [
    "### Conversion\n",
    "\n",
    "![](./conversion.png)"
   ]
  },
  {
   "cell_type": "markdown",
   "id": "14a48e2f",
   "metadata": {
    "slideshow": {
     "slide_type": "subslide"
    }
   },
   "source": [
    "### Conversion from any base to decimal\n",
    "\n",
    "- Use the formula: $\\sum_{i=0}^{|N-1|} N[i] \\times b^{|N| - 1 - i}  $\n",
    "\n",
    "Example:\n",
    "\n",
    "$(91F)_{16} = 9 \\times 16^2 + 1 \\times 16^1 + 15 \\times 16^0 = (2335)_{10}$\n"
   ]
  },
  {
   "cell_type": "markdown",
   "id": "02a82bd1",
   "metadata": {
    "slideshow": {
     "slide_type": "subslide"
    }
   },
   "source": [
    "### Conversion from decimal to any base\n",
    "\n",
    "- Divide the decimal number by the new base.\n",
    "\n",
    "- Get the remainder from Step 1 as the rightmost digit (least significant digit) of new base.\n",
    "\n",
    "- Divide the quotient of the previous divide by the new base.\n",
    "\n",
    "- Record the remainder from Step 3 as the next digit (to the left) of the new base.\n",
    "\n",
    "- Repeat Steps 3 and 4, getting remainders from right to left, until the quotient becomes zero in Step 3.\n",
    "\n"
   ]
  },
  {
   "cell_type": "markdown",
   "id": "cd427ec5",
   "metadata": {
    "slideshow": {
     "slide_type": "subslide"
    }
   },
   "source": [
    "### Example:\n",
    "\n",
    "Transform 55 to hexadecimal  "
   ]
  },
  {
   "cell_type": "code",
   "execution_count": 41,
   "id": "86848fbb",
   "metadata": {
    "slideshow": {
     "slide_type": "subslide"
    }
   },
   "outputs": [
    {
     "name": "stdout",
     "output_type": "stream",
     "text": [
      "1st iteration:\n",
      "R: 7\n",
      "Q: 3\n",
      "2nd iteration:\n",
      "R: 3\n",
      "Q: 0\n",
      "Answer: 37\n"
     ]
    }
   ],
   "source": [
    "# Transform 55 to hexadecimal \n",
    "\n",
    "print(\"1st iteration:\")\n",
    "print(\"R:\", 55 % 16)\n",
    "print(\"Q:\", 55 // 16)\n",
    "\n",
    "print(\"2nd iteration:\")\n",
    "print(\"R:\", 3 % 16)\n",
    "print(\"Q:\", 3 // 16)\n",
    "\n",
    "print(\"Answer:\", 37)\n"
   ]
  },
  {
   "cell_type": "markdown",
   "id": "65321a60",
   "metadata": {
    "slideshow": {
     "slide_type": "subslide"
    }
   },
   "source": [
    "### Other base to non-decimal\n",
    "\n",
    "- Convert the original number to a decimal number\n",
    "\n",
    "- Convert the obtained decimal number to the new base"
   ]
  },
  {
   "cell_type": "markdown",
   "id": "3645d5c6",
   "metadata": {
    "slideshow": {
     "slide_type": "slide"
    }
   },
   "source": [
    "## Signed binary numbers\n",
    "\n",
    "- Positive numbers and the zero are represented as unsigned (w/o a `+` sign) numbers\n",
    "- Negative numbers ($< 0$) require a `-` sign\n",
    "- Digital circuits (therefore computers) don't have a way to represent the sign, they only understand `0` and `1`\n"
   ]
  },
  {
   "cell_type": "markdown",
   "id": "8a8a2524",
   "metadata": {
    "slideshow": {
     "slide_type": "subslide"
    }
   },
   "source": [
    "### Sign-magnitude\n",
    "- The most significant digit (the first one from the left) is used for sign\n",
    "    - `0` represents a positive number\n",
    "    - `1` represents a negative number\n",
    "- The rest of bits is just the unsigned magnitude\n",
    "\n",
    "Examples:\n",
    "\n",
    "- 6-bit $-10_{10}$: $101010_2$\n",
    "- 6-bit $10_{10}$: $001010$\n",
    "\n",
    "**Issues:**\n",
    "\n",
    "- In the case of unsigned, 6 bits is enought to represent unsigned numbers from 0 to 63 ($2^6 - 1$)\n",
    "- In the case of signed, 6 bits allows to represent from -31 to 32\n",
    "- Two representations of 0 (problems in for computers)"
   ]
  },
  {
   "cell_type": "markdown",
   "id": "14a6c2c1",
   "metadata": {
    "slideshow": {
     "slide_type": "subslide"
    }
   },
   "source": [
    "### One's complement\n",
    "\n",
    "- Positive numbers start with `0` and negatives with `1`\n",
    "- The negative is just the complement of the unsigned representation\n",
    "- The one's complement of $01101011_2$ is $10010100_2$\n",
    "- Same issues as sign-magnitude"
   ]
  },
  {
   "cell_type": "markdown",
   "id": "fac1ae6e",
   "metadata": {
    "slideshow": {
     "slide_type": "subslide"
    }
   },
   "source": [
    "### Two's complement\n",
    "\n",
    "- Positive numbers are exactly the same as before for unsigned binary numbers\n",
    "- Negative numbers are binary numbers that added to the positive number, the result is zero\n",
    "- The two complement of a number is just the one's complement + 1\n",
    "- No double zero\n",
    "\n",
    "Example:\n",
    "\n",
    "The two's complement of $01101011_2$ is $10010100_2 + 1_2 = 100010101_2$"
   ]
  },
  {
   "cell_type": "markdown",
   "id": "b247fd7f",
   "metadata": {
    "slideshow": {
     "slide_type": "slide"
    }
   },
   "source": [
    "### Exercise 1:\n",
    "\n",
    "Use pencil and paper to do the following conversions:\n",
    "\n",
    "- $465$ to binary\n",
    "\n",
    "- $(10111001100111)_2$ to octal\n",
    "\n",
    "- $(756)_8$ to hexadecimal\n",
    "\n",
    "- $(123)_8$ to decimal\n",
    "\n",
    "- $(11110010)_2$ to hexadecimal"
   ]
  },
  {
   "cell_type": "markdown",
   "id": "d628d776",
   "metadata": {
    "slideshow": {
     "slide_type": "subslide"
    }
   },
   "source": [
    "### Exercise 1:\n",
    "\n",
    "Use pencil and paper to do the following conversions:\n",
    "\n",
    "- $465$ to binary\n",
    "    - $R = (111010001)_2$\n",
    "\n",
    "- $(10111001100111)_2$ to octal \n",
    "    - $R = (27147)_8$\n",
    "\n",
    "- $(756)_8$ to hexadecimal\n",
    "    - $R = (1EE)_{16}$\n",
    "\n",
    "- $(123)_8$ to decimal\n",
    "    - $R = 83$\n",
    "\n",
    "- $(11110010)_2$ to hexadecimal\n",
    "    - $R = (F2)_{16}$"
   ]
  },
  {
   "cell_type": "markdown",
   "id": "de8c922f",
   "metadata": {
    "slideshow": {
     "slide_type": "slide"
    }
   },
   "source": [
    "### Exercise 2:\n",
    "\n",
    "Write Python functions that make the conversions. The function receives as inputs the following:\n",
    "- original number (as a `str` variable)\n",
    "- original base\n",
    "- target base\n",
    "\n",
    "Use what we learned in class, not Python packages that do this for us"
   ]
  }
 ],
 "metadata": {
  "celltoolbar": "Slideshow",
  "kernelspec": {
   "display_name": "Python 3",
   "language": "python",
   "name": "python3"
  },
  "language_info": {
   "codemirror_mode": {
    "name": "ipython",
    "version": 3
   },
   "file_extension": ".py",
   "mimetype": "text/x-python",
   "name": "python",
   "nbconvert_exporter": "python",
   "pygments_lexer": "ipython3",
   "version": "3.8.8"
  }
 },
 "nbformat": 4,
 "nbformat_minor": 5
}
