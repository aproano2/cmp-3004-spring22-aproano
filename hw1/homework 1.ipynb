{
 "cells": [
  {
   "cell_type": "markdown",
   "id": "a2665cc8",
   "metadata": {},
   "source": [
    "## CMP-3004\n",
    "## Computer Organization\n",
    "\n",
    "### Spring 2022"
   ]
  },
  {
   "cell_type": "markdown",
   "id": "dac80fa6",
   "metadata": {},
   "source": [
    "## Review\n",
    "\n",
    "Booth's algorithm example\n",
    "\n",
    "$101_2 \\times 100_2$"
   ]
  },
  {
   "cell_type": "markdown",
   "id": "df038792",
   "metadata": {},
   "source": [
    "## Homework 1\n",
    "\n",
    "We are going to work on a tutorial that help us define a digital logic simulator:\n",
    "- Follow instructions [here](http://openbookproject.net/courses/python4fun/logic.html)\n",
    "- Write the simulator using OOP in Python\n",
    "- Use classes to define different gates and other operators like half-adders, full-adders, etc\n",
    "- The final goal will be to simulate a simple 8-bit ALU\n",
    "- The groups that complete this activity will receive full credit for homework 1 and quiz 1"
   ]
  },
  {
   "cell_type": "markdown",
   "id": "54d3ec6e",
   "metadata": {},
   "source": [
    "## Requirements\n",
    "\n",
    "Write an 8-bit ALU with the following specifications:\n",
    "\n",
    "Arithmetic operations (output is 8-bit and 1-bit flags):\n",
    "- Addition with carry\n",
    "- Substraction with borrow\n",
    "- Negate a number\n",
    "- Increment (add +1)\n",
    "- Decrement (substract -1)\n",
    "- Pass through\n",
    "\n",
    "Logical operations (output is a 1-bit flag)\n",
    "- Check if a number is negative\n",
    "- Check if a number is zero\n",
    "- Operation caused an overflow\n",
    "\n",
    "Show an example for each arithmetic and logical operation:\n",
    "- extra points if you use the unittest library"
   ]
  },
  {
   "cell_type": "code",
   "execution_count": null,
   "id": "ef1bae46",
   "metadata": {},
   "outputs": [],
   "source": []
  }
 ],
 "metadata": {
  "kernelspec": {
   "display_name": "Python 3",
   "language": "python",
   "name": "python3"
  },
  "language_info": {
   "codemirror_mode": {
    "name": "ipython",
    "version": 3
   },
   "file_extension": ".py",
   "mimetype": "text/x-python",
   "name": "python",
   "nbconvert_exporter": "python",
   "pygments_lexer": "ipython3",
   "version": "3.8.8"
  }
 },
 "nbformat": 4,
 "nbformat_minor": 5
}
