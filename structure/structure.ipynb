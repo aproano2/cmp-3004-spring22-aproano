{
 "cells": [
  {
   "cell_type": "markdown",
   "id": "c4079ebb",
   "metadata": {
    "slideshow": {
     "slide_type": "slide"
    }
   },
   "source": [
    "## CMP-3004\n",
    "## Computer Organization\n",
    "\n",
    "### Spring 2022\n"
   ]
  },
  {
   "cell_type": "markdown",
   "id": "85e6a8fd",
   "metadata": {
    "slideshow": {
     "slide_type": "slide"
    }
   },
   "source": [
    "## Housekeeping\n",
    "\n",
    "Homework questions"
   ]
  },
  {
   "cell_type": "markdown",
   "id": "c33453bb",
   "metadata": {
    "slideshow": {
     "slide_type": "slide"
    }
   },
   "source": [
    "## Review "
   ]
  },
  {
   "cell_type": "markdown",
   "id": "87d10757",
   "metadata": {
    "slideshow": {
     "slide_type": "subslide"
    }
   },
   "source": [
    "## Arithmetic and Logic Unit (ALU)\n",
    "\n",
    "- Part of the processor\n",
    "- Mathematical brain of a computer\n",
    "- It does all the computations in a computer\n",
    "    - Arithmetic Unit\n",
    "    - Logic unit"
   ]
  },
  {
   "cell_type": "markdown",
   "id": "04b93fed",
   "metadata": {
    "slideshow": {
     "slide_type": "subslide"
    }
   },
   "source": [
    "### Arithmetic operations in the ALU\n",
    "\n",
    "- ADD\n",
    "- ADD with carry\n",
    "- SUBSTRACT\n",
    "- SUBSTRACT with borrow\n",
    "- NEGATE\n",
    "- INCREMENT\n",
    "- DECREMENT\n",
    "- PASS THROUGH"
   ]
  },
  {
   "cell_type": "markdown",
   "id": "738ce0ae",
   "metadata": {
    "slideshow": {
     "slide_type": "subslide"
    }
   },
   "source": [
    "### Logical operations\n",
    "\n",
    "- AND\n",
    "- OR \n",
    "- XOR\n",
    "- NOT\n",
    "- Check if a number is negative, all zeros, all ones, etc\n"
   ]
  },
  {
   "cell_type": "markdown",
   "id": "1e894416",
   "metadata": {
    "slideshow": {
     "slide_type": "subslide"
    }
   },
   "source": [
    "### Booth's algorithm\n",
    "\n",
    "![](./booth_algo.png)"
   ]
  },
  {
   "cell_type": "markdown",
   "id": "190185cd",
   "metadata": {
    "slideshow": {
     "slide_type": "slide"
    }
   },
   "source": [
    "## Structure and function\n",
    "\n",
    "- A computer is a complex system\n",
    "    - millions of electronic components\n",
    "- Find the hierarchical nature that most complex system \n",
    "\n",
    "A **hierarchical system** is a set of interrelated systems forming a hierarchical structure until we reach a low elemental level\n",
    "\n",
    "**Design:**\n",
    "\n",
    "    - designers only need to deal with a particular level of the system at the time\n",
    "        - Structure: The way in which the components are interrelated\n",
    "        - Function: The operation of each individual component as part of the structure\n",
    "        \n",
    "**Description:**       \n",
    "\n",
    "    - at each level, the system consists of a set of components and their interrelationships\n",
    "    - we can simplify the model and assume that each level's behavior depends on the next lower level\n",
    "    - we'll do a top-down description\n",
    "\n",
    "    "
   ]
  },
  {
   "cell_type": "markdown",
   "id": "3ff456af",
   "metadata": {
    "slideshow": {
     "slide_type": "subslide"
    }
   },
   "source": [
    "### Function\n",
    "\n",
    "There are only four basic functions that a computer can perform:\n",
    "\n",
    "- **Data processing:** Data may take a wide variety of forms, and the range of processing requirements is broad\n",
    "- **Data storage:** Even if the computer is processing data on the fly, there is at least a short-term data storage function.\n",
    "    - equally important, the computer performs a long-term data storage function.\n",
    "- **Data movement:** The computer’s operating environment consists of devices that serve as either sources or destinations of data.\n",
    "    - data received from or delivered to a device that is directly connected to the compute is known as input– output (I/O), and the device is referred to as a peripheral\n",
    "    - data are moved over longer distances, to or from a remote is known as data communications\n",
    "- **Control:** Within the computer, a control unit manages the computer’s resources and orchestrates the performance of its functional parts in response to instructions"
   ]
  },
  {
   "cell_type": "markdown",
   "id": "6dcddfd2",
   "metadata": {
    "slideshow": {
     "slide_type": "subslide"
    }
   },
   "source": [
    "### Structure\n",
    "\n",
    "Single processor traditional computer:\n",
    "\n",
    "![](./simple_pc.png)"
   ]
  },
  {
   "cell_type": "markdown",
   "id": "1e74d293",
   "metadata": {
    "slideshow": {
     "slide_type": "subslide"
    }
   },
   "source": [
    "### Structure\n",
    "\n",
    "- **Central processing unit (CPU):** Controls the operation of the computer and performs its data processing functions\n",
    "- **Main memory:** Stores data\n",
    "- **I/O:** Moves data between the computer and its external environment\n",
    "- **System interconnection:** Some mechanism that provides for communication among CPU, main memory, and I/O. "
   ]
  },
  {
   "cell_type": "markdown",
   "id": "d83352b1",
   "metadata": {
    "slideshow": {
     "slide_type": "subslide"
    }
   },
   "source": [
    "### Structure of a CPU\n",
    "\n",
    "- **Control unit:** Controls the operation of the CPU and hence the computer\n",
    "- **Arithmetic and logic unit (ALU):** Performs the computer’s data processing functions\n",
    "- **Registers:** Provides storage internal to the CPU\n",
    "- **CPU interconnection:** Some mechanism that provides for communication among the control unit, ALU, and registers."
   ]
  },
  {
   "cell_type": "markdown",
   "id": "4c5deb38",
   "metadata": {
    "slideshow": {
     "slide_type": "slide"
    }
   },
   "source": [
    "## A little bit of history\n",
    "\n",
    "The Von Neumann architecture:\n",
    "\n",
    "![](./von_neumann.png)"
   ]
  },
  {
   "cell_type": "markdown",
   "id": "ed355ceb",
   "metadata": {
    "slideshow": {
     "slide_type": "subslide"
    }
   },
   "source": [
    "### Von Neumann architecture \n",
    "\n",
    "**The stored program:** set of instructions represented in binary and stored in the memory, from which they are fetched, decoded, and executed by the CPU.\n",
    "\n",
    "The Von Neumann architecture considers four components:\n",
    "- main memory\n",
    "- input-output (I/O)\n",
    "- arithmetic and logic unit (ALU)\n",
    "- control unit\n"
   ]
  },
  {
   "cell_type": "markdown",
   "id": "86cc0d96",
   "metadata": {
    "slideshow": {
     "slide_type": "subslide"
    }
   },
   "source": [
    "### Main memory\n",
    "\n",
    "Stores both data and instructions\n",
    "- $N$ bits are used to represent the address of a memory location\n",
    "- address space is $2^N$\n",
    "- Ex: $N=32$, then the address space is $2^{32} = 4\\text{GB}$\n"
   ]
  },
  {
   "cell_type": "markdown",
   "id": "854d1047",
   "metadata": {
    "slideshow": {
     "slide_type": "subslide"
    }
   },
   "source": [
    "### Input–output (I/O) equipment\n",
    "\n",
    "Von Neumann assumed it was a way to communicate with the outside world\n",
    "\n",
    "- Removable storage\n",
    "- CD disks\n",
    "- Speakers, monitors\n",
    "- Keyboars, mice, etc\n"
   ]
  },
  {
   "cell_type": "markdown",
   "id": "cd97a185",
   "metadata": {
    "slideshow": {
     "slide_type": "subslide"
    }
   },
   "source": [
    "### Central processing unit (CPU)\n",
    "\n",
    "It includes both the control unit and the ALU\n",
    "\n",
    "The **ALU** contains registers and circuits for doing arithmetic and logical operations\n",
    "\n",
    "**Registers:**\n",
    "- fast memory locations\n",
    "- very few available (e.g, 16 or 32)\n",
    "- large enough to contain an intenger of floating point number\n",
    "- used to store inputs, outputs and temporary storage for intermediate results"
   ]
  }
 ],
 "metadata": {
  "celltoolbar": "Slideshow",
  "kernelspec": {
   "display_name": "Python 3",
   "language": "python",
   "name": "python3"
  },
  "language_info": {
   "codemirror_mode": {
    "name": "ipython",
    "version": 3
   },
   "file_extension": ".py",
   "mimetype": "text/x-python",
   "name": "python",
   "nbconvert_exporter": "python",
   "pygments_lexer": "ipython3",
   "version": "3.8.8"
  }
 },
 "nbformat": 4,
 "nbformat_minor": 5
}
