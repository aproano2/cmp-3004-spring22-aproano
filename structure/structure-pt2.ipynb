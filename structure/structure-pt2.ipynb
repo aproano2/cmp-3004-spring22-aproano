{
 "cells": [
  {
   "cell_type": "markdown",
   "id": "c4079ebb",
   "metadata": {
    "slideshow": {
     "slide_type": "slide"
    }
   },
   "source": [
    "## CMP-3004\n",
    "## Computer Organization\n",
    "\n",
    "### Spring 2022\n"
   ]
  },
  {
   "cell_type": "markdown",
   "id": "85e6a8fd",
   "metadata": {
    "slideshow": {
     "slide_type": "slide"
    }
   },
   "source": [
    "## Housekeeping\n",
    "\n",
    "Homework questions"
   ]
  },
  {
   "cell_type": "markdown",
   "id": "c33453bb",
   "metadata": {
    "slideshow": {
     "slide_type": "slide"
    }
   },
   "source": [
    "## Review "
   ]
  },
  {
   "cell_type": "markdown",
   "id": "3ff456af",
   "metadata": {
    "slideshow": {
     "slide_type": "subslide"
    }
   },
   "source": [
    "### Function\n",
    "\n",
    "There are only four basic functions that a computer can perform:\n",
    "\n",
    "- **Data processing:** Data may take a wide variety of forms, and the range of processing requirements is broad\n",
    "- **Data storage:** Even if the computer is processing data on the fly, there is at least a short-term data storage function.\n",
    "    - equally important, the computer performs a long-term data storage function.\n",
    "- **Data movement:** The computer’s operating environment consists of devices that serve as either sources or destinations of data.\n",
    "    - data received from or delivered to a device that is directly connected to the compute is known as input– output (I/O), and the device is referred to as a peripheral\n",
    "    - data are moved over longer distances, to or from a remote is known as data communications\n",
    "- **Control:** Within the computer, a control unit manages the computer’s resources and orchestrates the performance of its functional parts in response to instructions"
   ]
  },
  {
   "cell_type": "markdown",
   "id": "6dcddfd2",
   "metadata": {
    "slideshow": {
     "slide_type": "subslide"
    }
   },
   "source": [
    "### Structure\n",
    "\n",
    "Single processor traditional computer:\n",
    "\n",
    "![](./simple_pc.png)"
   ]
  },
  {
   "cell_type": "markdown",
   "id": "1e74d293",
   "metadata": {
    "slideshow": {
     "slide_type": "subslide"
    }
   },
   "source": [
    "### Structure\n",
    "\n",
    "- **Central processing unit (CPU):** Controls the operation of the computer and performs its data processing functions\n",
    "- **Main memory:** Stores data\n",
    "- **I/O:** Moves data between the computer and its external environment\n",
    "- **System interconnection:** Some mechanism that provides for communication among CPU, main memory, and I/O. "
   ]
  },
  {
   "cell_type": "markdown",
   "id": "d83352b1",
   "metadata": {
    "slideshow": {
     "slide_type": "subslide"
    }
   },
   "source": [
    "### Structure of a CPU\n",
    "\n",
    "- **Control unit:** Controls the operation of the CPU and hence the computer\n",
    "- **Arithmetic and logic unit (ALU):** Performs the computer’s data processing functions\n",
    "- **Registers:** Provides storage internal to the CPU\n",
    "- **CPU interconnection:** Some mechanism that provides for communication among the control unit, ALU, and registers."
   ]
  },
  {
   "cell_type": "markdown",
   "id": "4c5deb38",
   "metadata": {
    "slideshow": {
     "slide_type": "slide"
    }
   },
   "source": [
    "## A little bit of history\n",
    "\n",
    "The Von Neumann architecture:\n",
    "\n",
    "![](./von_neumann.png)"
   ]
  },
  {
   "cell_type": "markdown",
   "id": "ed355ceb",
   "metadata": {
    "slideshow": {
     "slide_type": "subslide"
    }
   },
   "source": [
    "### Von Neumann architecture \n",
    "\n",
    "**The stored program:** set of instructions represented in binary and stored in the memory, from which they are fetched, decoded, and executed by the CPU.\n",
    "\n",
    "The Von Neumann architecture considers four components:\n",
    "- main memory\n",
    "- input-output (I/O)\n",
    "- arithmetic and logic unit (ALU)\n",
    "- control unit\n"
   ]
  },
  {
   "cell_type": "markdown",
   "id": "3547a5b3",
   "metadata": {
    "slideshow": {
     "slide_type": "subslide"
    }
   },
   "source": [
    "### Von Neumann architecture\n",
    "\n",
    "Von Neumann’s ideas have been extended, and that's how computer currently operate:\n",
    "\n",
    "- programs and data stored in a slow-to-access storage medium (HDD) can be copied to a fast-access, volatile storage medium (RAM) prior to execution\n",
    "- system bus model to streamline the architecture\n",
    "- using index registers for addressing\n",
    "- adding floating-point data\n",
    "- using interrupts and asynchronous I/O\n",
    "- adding virtual memory and general registers"
   ]
  },
  {
   "cell_type": "markdown",
   "id": "86cc0d96",
   "metadata": {
    "slideshow": {
     "slide_type": "subslide"
    }
   },
   "source": [
    "### Main memory\n",
    "\n",
    "Stores both data and instructions\n",
    "- $N$ bits are used to represent the address of a memory location\n",
    "- address space is $2^N$\n",
    "- Ex: $N=32$, then the address space is $2^{32} = 4\\text{GB}$\n"
   ]
  },
  {
   "cell_type": "markdown",
   "id": "854d1047",
   "metadata": {
    "slideshow": {
     "slide_type": "subslide"
    }
   },
   "source": [
    "### Input–output (I/O) equipment\n",
    "\n",
    "Von Neumann assumed it was a way to communicate with the outside world\n",
    "\n",
    "- Removable storage\n",
    "- CD disks\n",
    "- Speakers, monitors\n",
    "- Keyboars, mice, etc\n"
   ]
  },
  {
   "cell_type": "markdown",
   "id": "cd97a185",
   "metadata": {
    "slideshow": {
     "slide_type": "subslide"
    }
   },
   "source": [
    "### Central processing unit (CPU)\n",
    "\n",
    "It includes both the control unit and the ALU\n",
    "\n",
    "The **ALU** contains registers and circuits for doing arithmetic and logical operations\n",
    "\n",
    "**Registers:**\n",
    "- fast memory locations\n",
    "- very few available (e.g, 16 or 32)\n",
    "- large enough to contain an intenger of floating point number\n",
    "- used to store inputs, outputs and temporary storage for intermediate results"
   ]
  },
  {
   "cell_type": "markdown",
   "id": "04aec80f",
   "metadata": {
    "slideshow": {
     "slide_type": "subslide"
    }
   },
   "source": [
    "### The system clock\n",
    "- Is a way to synchronize all the circuits in the CPU\n",
    "- Changes from 1 to 0 and back again at regular intervals (clock cycle)\n",
    "- Controls when the state of a circuit changes\n",
    "- Modern processors complete a fetch-decode-execute cycle at the rate of 1 per clock cycle\n",
    "- Measured in MHz where 1 MHz is 1 million cycles per second\n",
    "    - what's the duration of a single clock cycle?"
   ]
  },
  {
   "cell_type": "markdown",
   "id": "2c2d127e",
   "metadata": {
    "slideshow": {
     "slide_type": "subslide"
    }
   },
   "source": [
    "### Machine instructions\n",
    "- Building blocks of all computer programs\n",
    "- Each instruction does only one very simple step in a computation\n",
    "- Typical processors have from a few dozen to a few hundred different machine instructions\n",
    "- Each instruction is representated by a unique binary string made up of two fields:\n",
    "    - opcode: represents the type of instructions (e.g., ADD, SUBTRACT, COMPARE, JUMP)\n",
    "    - operand: represent one or more register numbers or a memory address where operands are located or results are going to be stored"
   ]
  },
  {
   "cell_type": "markdown",
   "id": "bc472789",
   "metadata": {
    "slideshow": {
     "slide_type": "subslide"
    }
   },
   "source": [
    "### Control unit\n",
    "Carry out the fetch-decode-execute cycle over and over and over again:\n",
    "\n",
    "1. Fetch the next instruction from memory\n",
    "2. Decode the instruction\n",
    "3. Execute the instruction"
   ]
  },
  {
   "cell_type": "markdown",
   "id": "97057489",
   "metadata": {
    "slideshow": {
     "slide_type": "subslide"
    }
   },
   "source": [
    "### Control unit components\n",
    "- Program counter (PC) register holds address of next instruction to execute\n",
    "    - incremented with the system clock\n",
    "- instruction register (IR) holds copy of current instruction\n",
    "- instruction decoder is a circuit that takes as input the opcode and produces as output the control signals needed to make the right things happen"
   ]
  },
  {
   "cell_type": "markdown",
   "id": "5ed4d126",
   "metadata": {
    "slideshow": {
     "slide_type": "slide"
    }
   },
   "source": [
    "## What does a computer do?\n",
    "- Execute the software by fetching instructions from memory\n",
    "    - Done by the processor\n",
    "- Look for any external signal and react accordingly\n",
    "    - Processor needs to deal with interrups or other input signals"
   ]
  },
  {
   "cell_type": "markdown",
   "id": "bf353422",
   "metadata": {
    "slideshow": {
     "slide_type": "subslide"
    }
   },
   "source": [
    "### Fetch execute cycle\n",
    "1. The address of the instruction to be fetched is then copied from the PC to the MAR\n",
    "2. The content (intruction) of the memory location in the MAR is moved to the MDR\n",
    "3. The content of the MDR is moved to the instruction register\n",
    "4. Increment the PC by one\n",
    "5. The instruction is finally decoded and then executed\n",
    "6. Repeat"
   ]
  },
  {
   "cell_type": "markdown",
   "id": "ac4e277e",
   "metadata": {
    "slideshow": {
     "slide_type": "subslide"
    }
   },
   "source": [
    "### Branching\n",
    "A branch is an instruction that causes the execution of a different instruction sequence\n",
    "\n",
    "How do we branch?\n",
    "\n",
    "- Modifying the value of the PC\n",
    "    - conditional or unconditional program branching\n",
    "    - subroutine call or return from a subroutine\n",
    "    - interrupt"
   ]
  },
  {
   "cell_type": "markdown",
   "id": "6566956a",
   "metadata": {
    "slideshow": {
     "slide_type": "slide"
    }
   },
   "source": [
    "## Bus\n",
    "Internal Bus: different types of signals are essential for the performance of a processor\n",
    "\n",
    "- Address bus: carries address signals emitted from the processor to the main memory.\n",
    "- Data bus: carries instructions bytes from memory to the processor and from processor to memory for results or data storage\n",
    "- Control bus: signal emitted from the processor to memory or other devices to read/write or perform other function.\n",
    " \n",
    "External Bus: external devices also have their own processors\n",
    "\n",
    "- As each processor runs with its own clock frequency, data communication between processor and external devices cannot be synchronized\n",
    "- Adopt an asynchronous communication technique\n",
    "- No central clock needed\n",
    "- Particular sequence of signals"
   ]
  },
  {
   "cell_type": "code",
   "execution_count": null,
   "id": "8ff81557",
   "metadata": {},
   "outputs": [],
   "source": []
  }
 ],
 "metadata": {
  "celltoolbar": "Slideshow",
  "kernelspec": {
   "display_name": "Python 3 (ipykernel)",
   "language": "python",
   "name": "python3"
  },
  "language_info": {
   "codemirror_mode": {
    "name": "ipython",
    "version": 3
   },
   "file_extension": ".py",
   "mimetype": "text/x-python",
   "name": "python",
   "nbconvert_exporter": "python",
   "pygments_lexer": "ipython3",
   "version": "3.8.10"
  }
 },
 "nbformat": 4,
 "nbformat_minor": 5
}
