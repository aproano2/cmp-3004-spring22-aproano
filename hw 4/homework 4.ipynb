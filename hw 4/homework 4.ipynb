{
 "cells": [
  {
   "cell_type": "markdown",
   "id": "c936a1cb",
   "metadata": {},
   "source": [
    "## Homework 4"
   ]
  },
  {
   "cell_type": "markdown",
   "id": "7afe8d80",
   "metadata": {},
   "source": [
    "- Groups of 2\n",
    "- Read the articles related to SSDs below\n",
    "- You will need three hard drives:\n",
    "    - 1 magnetic internal hard drive\n",
    "    - 1 internal SSD\n",
    "    - 1 external drive (SSD or magnetic)\n",
    "- You will need to use Linux for this homework\n",
    "- Write a report of your findings, using the knowledge from the class and articles to explain why the differences\n"
   ]
  },
  {
   "cell_type": "markdown",
   "id": "b6ad7edb",
   "metadata": {},
   "source": [
    "### 1. Articles\n",
    "\n",
    "Read the following articles (expect to have a couple of questions about them in your final)\n",
    "- https://www.tomshardware.com/reviews/flash-ssd-nand,2741-6.html\n",
    "- https://www.tomshardware.com/reviews/ssd-performance-power,2279.html"
   ]
  },
  {
   "cell_type": "markdown",
   "id": "ed92dc47",
   "metadata": {},
   "source": [
    "### 2. Linux\n",
    "\n",
    "You are going to run experiments for reading and writing data to your drives\n",
    "- To do so, you are going to need at least a VM that has linux installed\n",
    "- If you are using Windows 10 or 11, you can enable Linux commands using WSL2\n",
    "- In your experiments you'll be using the command `dd`\n",
    "- Examples of how to use this command can be found in this tutorial\n",
    "    - https://www.thomas-krenn.com/en/wiki/Linux_I/O_Performance_Tests_using_dd"
   ]
  },
  {
   "cell_type": "markdown",
   "id": "c2567df1",
   "metadata": {},
   "source": [
    "### 3. Experiments\n",
    "\n",
    "- `dd` allows us to write and read from the hardware without having to talk to the file system. This helps us to study the properties of the hardware in our system.\n",
    "- From the tutorial above, it shows you how to use the command. Each command will tell you how much data was written (or read), the throughput and the total latency. \n",
    "- We are going to run `dd` against our three drives\n",
    "- We are going to use values of `bs` of `256b`, `4k`, `16k`, `256k`, `1m` and `1g`\n",
    "    - What do you observe?\n",
    "    - What are the main differences between the three drives?\n",
    "    - What are the differences in performance when we change the value of `bs`?\n",
    "    - Why we see differences in performance for different values of `bs`?\n",
    "- Try your experiments with `oflag=direct` and without it. \n",
    "    - How do we explain the difference in performance of these two options?"
   ]
  },
  {
   "cell_type": "markdown",
   "id": "f15317ed",
   "metadata": {},
   "source": [
    "### 4. Report\n",
    "\n",
    "Write a report that contains the following:\n",
    "\n",
    "- Specs of the hardware you used\n",
    "- Version of Linux and `dd` used\n",
    "- Commands used for your experiments\n",
    "- Plots from Excel or Python comparing the performance metrics obtained using `dd`\n",
    "- Answers to the questions above\n"
   ]
  }
 ],
 "metadata": {
  "kernelspec": {
   "display_name": "Python 3 (ipykernel)",
   "language": "python",
   "name": "python3"
  },
  "language_info": {
   "codemirror_mode": {
    "name": "ipython",
    "version": 3
   },
   "file_extension": ".py",
   "mimetype": "text/x-python",
   "name": "python",
   "nbconvert_exporter": "python",
   "pygments_lexer": "ipython3",
   "version": "3.9.7"
  }
 },
 "nbformat": 4,
 "nbformat_minor": 5
}
