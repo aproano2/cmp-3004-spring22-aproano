{
 "cells": [
  {
   "cell_type": "markdown",
   "id": "c4079ebb",
   "metadata": {
    "slideshow": {
     "slide_type": "slide"
    }
   },
   "source": [
    "## CMP-3004\n",
    "## Computer Organization\n",
    "\n",
    "### Spring 2022\n"
   ]
  },
  {
   "cell_type": "markdown",
   "id": "c33453bb",
   "metadata": {
    "slideshow": {
     "slide_type": "slide"
    }
   },
   "source": [
    "## Review "
   ]
  },
  {
   "cell_type": "markdown",
   "id": "0791c13b",
   "metadata": {
    "slideshow": {
     "slide_type": "subslide"
    }
   },
   "source": [
    "## Boolean algebra\n",
    "\n",
    "- Operations based on True and False values\n",
    "- When electricity is flowing we'll call it True, otherwise False\n",
    "- True and False can be represented as 1 and 0\n",
    "- Three main operations\n",
    "    - NOT\n",
    "    - AND\n",
    "    - OR\n",
    "\n",
    "![](./gates.png)"
   ]
  },
  {
   "cell_type": "markdown",
   "id": "d3a54365",
   "metadata": {
    "slideshow": {
     "slide_type": "subslide"
    }
   },
   "source": [
    "### Transistor and NOT\n",
    "\n",
    "| Input | Transistor | NOT |\n",
    "| --- | --- | --- |\n",
    "| True | True | False |\n",
    "| False | False | True |\n",
    "\n"
   ]
  },
  {
   "cell_type": "markdown",
   "id": "c2b19ff0",
   "metadata": {
    "slideshow": {
     "slide_type": "subslide"
    }
   },
   "source": [
    "### AND, OR, XOR, NOR and NAND\n",
    "\n",
    "| A | B | AND | OR | XOR | NOR | NAND |\n",
    "| --- | --- | --- | --- | --- | --- | --- |\n",
    "| True | True | True | True | False | False | False |\n",
    "| True | False | False | True | True | False | True |\n",
    "| False | True | False | True | True | False | True |\n",
    "| False | False | False | False | False | True | True |\n",
    "\n",
    "\n"
   ]
  },
  {
   "cell_type": "markdown",
   "id": "87d10757",
   "metadata": {
    "slideshow": {
     "slide_type": "slide"
    }
   },
   "source": [
    "## Arithmetic and Logic Unit (ALU)\n",
    "\n",
    "- Part of the processor\n",
    "- Mathematical brain of a computer\n",
    "- It does all the computations in a computer\n",
    "    - Arithmetic Unit\n",
    "    - Logic unit"
   ]
  },
  {
   "cell_type": "markdown",
   "id": "f9462d5e",
   "metadata": {
    "slideshow": {
     "slide_type": "subslide"
    }
   },
   "source": [
    "### How do we add numbers with circuits?\n",
    "\n",
    "Let's start with 2 1-bit inputs.\n",
    "\n",
    "- 0 + 0 = 0\n",
    "- 1 + 0 = 1\n",
    "- 0 + 1 = 1\n",
    "- 1 + 1 = 0\n",
    "    - 1 is carried to the next column\n",
    "    \n",
    "What gate can help us with this operation?"
   ]
  },
  {
   "cell_type": "markdown",
   "id": "f1596e7a",
   "metadata": {
    "slideshow": {
     "slide_type": "subslide"
    }
   },
   "source": [
    "### How do we add numbers with circuits?\n",
    "\n",
    "- We use XOR and AND gates to define a half adder\n",
    "\n",
    "| A | B | Carry | Sum |\n",
    "| --- | --- | --- | --- |\n",
    "| 0 | 0 | 0 | 0 |\n",
    "| 0 | 1 | 0 | 1 |\n",
    "| 1 | 0 | 0 | 1 |\n",
    "| 1 | 1 | 1 | 0 |\n",
    "\n",
    "![](./half-adder.png)"
   ]
  },
  {
   "cell_type": "markdown",
   "id": "422e71ba",
   "metadata": {
    "slideshow": {
     "slide_type": "subslide"
    }
   },
   "source": [
    "## Full adder\n",
    "\n",
    "| A | B | C | Carry | Sum |\n",
    "| --- | --- | --- |  --- | --- |\n",
    "| 0 | 0 | 0 | 0 | 0 |\n",
    "| 0 | 0 | 1 | 0 | 1 |\n",
    "| 0 | 1 | 0 | 0 | 1 |\n",
    "| 0 | 1 | 1 | 1 | 0 |\n",
    "| 1 | 0 | 0 | 0 | 1 |\n",
    "| 1 | 0 | 1 | 1 | 0 |\n",
    "| 1 | 1 | 0 | 1 | 0 |\n",
    "| 1 | 1 | 1 | 1 | 1 |\n",
    "\n",
    "![](./full-adder.png)\n"
   ]
  },
  {
   "cell_type": "markdown",
   "id": "da0dd844",
   "metadata": {
    "slideshow": {
     "slide_type": "slide"
    }
   },
   "source": [
    "### 4-bit adder\n",
    "\n",
    "![](./4bit-adder.png)\n",
    "\n",
    "If there is a carry out that goes into the 5th bit, the sum is too large to fit into 4 bits\n",
    "- This is known as an **overflow**\n",
    "- An overflow occurs when the result requires more bits than the number of bits being used\n",
    "- This can cause errors or unexpected behavior\n",
    "\n",
    "Example: The original Pac-Man game used 8 bits to keep track of levels. When getting to the 256th level, it will cause an overflow, leading to issues.\n",
    "\n",
    "https://pacman.fandom.com/wiki/Map_256_Glitch\n",
    "\n",
    "**How do we avoid overflows?**\n",
    "\n",
    "**How do we do a 8-bit or 16-bit adder?**"
   ]
  },
  {
   "cell_type": "markdown",
   "id": "162e915e",
   "metadata": {
    "slideshow": {
     "slide_type": "subslide"
    }
   },
   "source": [
    "## Signed addition and substraction\n",
    "\n",
    "![](./comp2.png)\n",
    "\n",
    "Note that numbers starting at 1 followed with only 0's result on the same representation for positive and negative\n",
    "- This cases need to be carefully considered"
   ]
  },
  {
   "cell_type": "markdown",
   "id": "bf5e2bdc",
   "metadata": {
    "slideshow": {
     "slide_type": "subslide"
    }
   },
   "source": [
    "## Signed addition and substraction\n",
    "\n",
    "If we use sign-magnitude:\n",
    "- Discard the signs\n",
    "- Perform the operation (addition or substraction)\n",
    "- Compute the sign\n",
    "\n",
    "If we use two's complement representation:\n",
    "- If substraction, get the two's complement of the value to be substracted\n",
    "- Perform the addition\n",
    "- Result contains the right sign unless an overflow occurred\n"
   ]
  },
  {
   "cell_type": "markdown",
   "id": "27d41f72",
   "metadata": {
    "slideshow": {
     "slide_type": "subslide"
    }
   },
   "source": [
    "### Signed addition and substraction\n",
    "\n",
    "![](./subs.png)\n",
    "\n",
    "- (a)  and (d) are straightforward\n",
    "- (b), (e), (f) and (g) have an overflow from bit 3.\n",
    "    - Discard the overflow, result is correct\n",
    "- (c) and (f) result exceeded the allowable range of 4-bit\n",
    "    - Discard these out-of-the-range cases\n"
   ]
  },
  {
   "cell_type": "markdown",
   "id": "04b93fed",
   "metadata": {
    "slideshow": {
     "slide_type": "subslide"
    }
   },
   "source": [
    "### Other arithmetic operations in the ALU\n",
    "\n",
    "- ADD\n",
    "- ADD with carry\n",
    "- SUBSTRACT\n",
    "- SUBSTRACT with borrow\n",
    "- NEGATE\n",
    "- INCREMENT\n",
    "- DECREMENT\n",
    "- PASS THROUGH"
   ]
  },
  {
   "cell_type": "markdown",
   "id": "738ce0ae",
   "metadata": {
    "slideshow": {
     "slide_type": "subslide"
    }
   },
   "source": [
    "### Logical operations\n",
    "\n",
    "- AND\n",
    "- OR \n",
    "- XOR\n",
    "- NOT\n",
    "- Check if a number is negative, all zeros, all ones, etc\n"
   ]
  },
  {
   "cell_type": "markdown",
   "id": "24b00c3c",
   "metadata": {
    "slideshow": {
     "slide_type": "subslide"
    }
   },
   "source": [
    "### ALU\n",
    "\n",
    "![](./alu.png)"
   ]
  },
  {
   "cell_type": "markdown",
   "id": "8e7df036",
   "metadata": {
    "slideshow": {
     "slide_type": "slide"
    }
   },
   "source": [
    "## Multiplication\n",
    "\n",
    "![](./mult.png)\n",
    "\n",
    "What gate can be used for 1-bit multiplication?\n",
    "\n",
    "A simple way to do multiplication is by performing repetitive sums\n",
    "- If we multiply $6x4$ we simply add 6 to itself 4 times\n",
    "- It uses an adder circuit and takes longer\n",
    "- Usually part of simpler ALUs"
   ]
  },
  {
   "cell_type": "markdown",
   "id": "fbe9d883",
   "metadata": {
    "slideshow": {
     "slide_type": "subslide"
    }
   },
   "source": [
    "### Arithmetic right-shift  \n",
    "\n",
    "![](./shift.png)\n",
    "\n",
    "- The most signigicant bit remains unchanged\n",
    "    - sign bit for sign-magnitude representation"
   ]
  },
  {
   "cell_type": "markdown",
   "id": "34dc2cfe",
   "metadata": {
    "slideshow": {
     "slide_type": "subslide"
    }
   },
   "source": [
    "### Registers used in Booth's algorithm\n",
    "\n",
    "![](./booth_reg.png)\n"
   ]
  },
  {
   "cell_type": "markdown",
   "id": "d08ec8a1",
   "metadata": {
    "slideshow": {
     "slide_type": "subslide"
    }
   },
   "source": [
    "### Right-shift operation\n",
    "\n",
    "![](./booth_shift.png)"
   ]
  },
  {
   "cell_type": "markdown",
   "id": "1e894416",
   "metadata": {
    "slideshow": {
     "slide_type": "subslide"
    }
   },
   "source": [
    "### Booth's algorithm\n",
    "\n",
    "![](./booth_algo.png)"
   ]
  },
  {
   "cell_type": "markdown",
   "id": "e775d634",
   "metadata": {
    "slideshow": {
     "slide_type": "subslide"
    }
   },
   "source": [
    "## Example:\n",
    "\n",
    "Inputs:\n",
    "\n",
    "- 101\n",
    "- 100"
   ]
  }
 ],
 "metadata": {
  "celltoolbar": "Slideshow",
  "kernelspec": {
   "display_name": "Python 3",
   "language": "python",
   "name": "python3"
  },
  "language_info": {
   "codemirror_mode": {
    "name": "ipython",
    "version": 3
   },
   "file_extension": ".py",
   "mimetype": "text/x-python",
   "name": "python",
   "nbconvert_exporter": "python",
   "pygments_lexer": "ipython3",
   "version": "3.8.8"
  }
 },
 "nbformat": 4,
 "nbformat_minor": 5
}
