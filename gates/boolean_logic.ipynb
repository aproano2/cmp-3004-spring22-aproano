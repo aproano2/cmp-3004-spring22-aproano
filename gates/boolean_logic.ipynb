{
 "cells": [
  {
   "cell_type": "markdown",
   "id": "c4079ebb",
   "metadata": {
    "slideshow": {
     "slide_type": "slide"
    }
   },
   "source": [
    "## CMP-3004\n",
    "## Computer Organization\n",
    "\n",
    "### Spring 2022\n"
   ]
  },
  {
   "cell_type": "markdown",
   "id": "c33453bb",
   "metadata": {
    "slideshow": {
     "slide_type": "slide"
    }
   },
   "source": [
    "## Review "
   ]
  },
  {
   "cell_type": "markdown",
   "id": "9553a37b",
   "metadata": {
    "slideshow": {
     "slide_type": "subslide"
    }
   },
   "source": [
    "## Number systems "
   ]
  },
  {
   "cell_type": "markdown",
   "id": "0a2dcb3b",
   "metadata": {
    "slideshow": {
     "slide_type": "subslide"
    }
   },
   "source": [
    "### Decimal numbers\n",
    "\n",
    "- $S = \\{0, 1, 2, 3, 4, 5, 6, 7, 8, 9\\}$\n",
    "- $b = 10$\n",
    "\n",
    "Example:\n",
    "\n",
    "$1523 = 1 \\times 10^3 + 5 \\times 10^2 +2 \\times 10^1 + 3 \\times 10^0$"
   ]
  },
  {
   "cell_type": "markdown",
   "id": "21fc5ee9",
   "metadata": {
    "slideshow": {
     "slide_type": "subslide"
    }
   },
   "source": [
    "### Binary numbers\n",
    "\n",
    "- $S = \\{0, 1\\}$\n",
    "- $b = 2$\n",
    "- Each digit takes 1 bit\n",
    "\n",
    "Example:\n",
    "\n",
    "$(1011)_2 = 1 \\times 2^3 + 0 \\times 2^2 + 1 \\times 2^1 + 1 \\times 2^0 = 11$ (decimal)"
   ]
  },
  {
   "cell_type": "markdown",
   "id": "0dc8a90e",
   "metadata": {
    "slideshow": {
     "slide_type": "subslide"
    }
   },
   "source": [
    "### Octal numbers\n",
    "\n",
    "- $S = \\{0, 1, 2, 3, 4, 5, 6, 7\\}$\n",
    "- $b = 8$\n",
    "- Each digit takes 3 bits\n",
    "- Octals were used in older systems that used 12-bit words.\n",
    "- Still used in Unix based OS' to set file permissions (`chmod` command)\n",
    "\n",
    "Example:\n",
    "\n",
    "$(123)_8 = 1 \\times 8^2 + 2 \\times 8^1 + 3 \\times 8^0 = 83$ (decimal)\n",
    "\n"
   ]
  },
  {
   "cell_type": "markdown",
   "id": "4648c847",
   "metadata": {
    "slideshow": {
     "slide_type": "subslide"
    }
   },
   "source": [
    "### Hexadecimal numbers\n",
    "\n",
    "- $S = \\{0, 1, 2, 3, 4, 5, 6, 7, 8, 9, A, B, C, D, E, F\\}$\n",
    "- $b = 16$\n",
    "- Each digit takes 4 bits\n",
    "- Way to improve readability of binary sequences\n",
    "    - MAC addresses (`ifconfig` or `ipconfig`)\n",
    "\n",
    "Example:\n",
    "\n",
    "$(91F)_{16} = 9 \\times 16^2 + 1 \\times 16^1 + F \\times 16^0 = 2335$ (decimal)"
   ]
  },
  {
   "cell_type": "markdown",
   "id": "14a48e2f",
   "metadata": {
    "slideshow": {
     "slide_type": "subslide"
    }
   },
   "source": [
    "### Conversion from any base to decimal\n",
    "\n",
    "$\\sum_{i=0}^{|N-1|} N[i] \\times b^{|N| - 1 - i}  $\n",
    "\n",
    "Example:\n",
    "\n",
    "$(91F)_{16} = 9 \\times 16^2 + 1 \\times 16^1 + 15 \\times 16^0 = (2335)_{10}$\n"
   ]
  },
  {
   "cell_type": "markdown",
   "id": "02a82bd1",
   "metadata": {
    "slideshow": {
     "slide_type": "subslide"
    }
   },
   "source": [
    "### Conversion from decimal to any base\n",
    "\n",
    "- Divide the decimal number by the new base.\n",
    "\n",
    "- Get the remainder from Step 1 as the rightmost digit (least significant digit) of new base.\n",
    "\n",
    "- Divide the quotient of the previous divide by the new base.\n",
    "\n",
    "- Record the remainder from Step 3 as the next digit (to the left) of the new base.\n",
    "\n",
    "- Repeat Steps 3 and 4, getting remainders from right to left, until the quotient becomes zero in Step 3.\n",
    "\n"
   ]
  },
  {
   "cell_type": "markdown",
   "id": "65321a60",
   "metadata": {
    "slideshow": {
     "slide_type": "subslide"
    }
   },
   "source": [
    "### Other base to non-decimal\n",
    "\n",
    "- Convert the original number to a decimal number\n",
    "\n",
    "- Convert the obtained decimal number to the new base"
   ]
  },
  {
   "cell_type": "markdown",
   "id": "8a8a2524",
   "metadata": {
    "slideshow": {
     "slide_type": "subslide"
    }
   },
   "source": [
    "### Sign-magnitude\n",
    "- The most significant digit (the first one from the left) is used for sign\n",
    "    - `0` represents a positive number\n",
    "    - `1` represents a negative number\n",
    "- The rest of bits is just the unsigned magnitude\n",
    "\n",
    "Examples 6-bit:\n",
    "\n",
    "- $-10_{10}, 101010_2$\n",
    "\n",
    "- $10_{10}, 001010$\n",
    "\n",
    "**Issues:**\n",
    "\n",
    "- In the case of unsigned, 6 bits is enought to represent unsigned numbers from 0 to 63 ($2^6 - 1$)\n",
    "- In the case of signed, 6 bits allows to represent from -31 to 32\n",
    "- Two representations of 0 (problems in for computers)"
   ]
  },
  {
   "cell_type": "markdown",
   "id": "14a6c2c1",
   "metadata": {
    "slideshow": {
     "slide_type": "subslide"
    }
   },
   "source": [
    "### One's complement\n",
    "\n",
    "- Positive numbers start with `0` and negatives with `1`\n",
    "- The negative is just the complement of the unsigned representation\n",
    "- The one's complement of $01101011_2$ is $10010100_2$\n",
    "- Same issues as sign-magnitude"
   ]
  },
  {
   "cell_type": "markdown",
   "id": "fac1ae6e",
   "metadata": {
    "slideshow": {
     "slide_type": "subslide"
    }
   },
   "source": [
    "### Two's complement\n",
    "\n",
    "- Positive numbers are exactly the same as before for unsigned binary numbers\n",
    "- Negative numbers are binary numbers that added to the positive number, the result is zero\n",
    "- The two complement of a number is just the one's complement + 1\n",
    "- No double zero\n",
    "\n",
    "Example:\n",
    "\n",
    "The two's complement of $01101011_2$ is $10010100_2 + 1_2 = 100010101_2$"
   ]
  },
  {
   "cell_type": "markdown",
   "id": "0791c13b",
   "metadata": {
    "slideshow": {
     "slide_type": "slide"
    }
   },
   "source": [
    "## How do we represent binary numbers in electronics? "
   ]
  },
  {
   "cell_type": "markdown",
   "id": "4a422546",
   "metadata": {
    "slideshow": {
     "slide_type": "subslide"
    }
   },
   "source": [
    "## Relays (electro-mechanical)\n",
    "![](./how-a-relay-works.gif)\n",
    "\n",
    "- Use a magnetic field to close a circuit\n",
    "- Uses mechanical parts \n",
    "- Very few ON/OFF operations per second\n",
    "- The Z3 computer used 2,600 relays achieving 5–10 Hz [source](https://en.wikipedia.org/wiki/Z3_(computer))\n"
   ]
  },
  {
   "cell_type": "markdown",
   "id": "1d17b13b",
   "metadata": {
    "slideshow": {
     "slide_type": "subslide"
    }
   },
   "source": [
    "### Vacuum Tubes\n",
    "\n",
    "\n",
    "\n",
    "<img src=\"./tubes1.png\" alt=\"Drawing\" style=\"width: 400px;\"/>\n",
    "\n",
    "[source](https://www.engineering.com/story/vacuum-tubes-the-world-before-transistors)\n",
    "\n",
    "- Improvement over relays\n",
    "- No use of mechanical parts\n",
    "- The voltage of the mesh allow electrons to pass or not\n",
    "- Used widely in radios and televisions\n",
    "- The Colossus MK 1 (first electronic and programable computer) 1,600 used vacuum tubes [source](https://en.wikipedia.org/wiki/Colossus_computer)"
   ]
  },
  {
   "cell_type": "markdown",
   "id": "4f522c72",
   "metadata": {
    "slideshow": {
     "slide_type": "subslide"
    }
   },
   "source": [
    "### Transistors\n",
    "\n",
    "<img src=\"./transistor.png\" alt=\"Drawing\" style=\"width: 200px;\"/>\n",
    "\n",
    "\n",
    "\n",
    "- Just like a relay or vacuum tube\n",
    "- It allows or stop current from flowing\n",
    "- First transistor could switch between ON and OFF states more than 10,000 per second\n",
    "- Made of solid material\n",
    "    - smaller\n",
    "    - cheaper\n",
    "    - more reliable\n",
    "- Today computers use transistors that are < 50 nm in size"
   ]
  },
  {
   "cell_type": "markdown",
   "id": "116bd52b",
   "metadata": {
    "slideshow": {
     "slide_type": "slide"
    }
   },
   "source": [
    "## Boolean algebra\n",
    "\n",
    "- Operations based on True and False values\n",
    "- When electricity is flowing we'll call it True, otherwise False\n",
    "- True and False can be represented as 1 and 0\n",
    "- Three main operations\n",
    "    - NOT\n",
    "    - AND\n",
    "    - OR\n"
   ]
  },
  {
   "cell_type": "markdown",
   "id": "6a52bab9",
   "metadata": {
    "slideshow": {
     "slide_type": "subslide"
    }
   },
   "source": [
    "### Table of truth of a transistor\n",
    "\n",
    "<img src=\"./transistor.png\" alt=\"Drawing\" style=\"width: 200px;\"/>\n",
    "\n",
    "\n",
    "\n",
    "| Input | Output|\n",
    "| --- | --- |\n",
    "| True | True |\n",
    "| False | False |"
   ]
  },
  {
   "cell_type": "markdown",
   "id": "d3a54365",
   "metadata": {
    "slideshow": {
     "slide_type": "subslide"
    }
   },
   "source": [
    "### NOT\n",
    "\n",
    "| Input | Output|\n",
    "| --- | --- |\n",
    "| True | False |\n",
    "| False | True |\n",
    "\n",
    "![](./not.png)"
   ]
  },
  {
   "cell_type": "markdown",
   "id": "c2b19ff0",
   "metadata": {
    "slideshow": {
     "slide_type": "subslide"
    }
   },
   "source": [
    "### AND\n",
    "\n",
    "| Input A | Input B |Output|\n",
    "| --- | --- | --- |\n",
    "| True | True | True |\n",
    "| True | False | False |\n",
    "| False | True | False |\n",
    "| False | False | False |\n",
    "\n",
    "\n",
    "![](./and.png)"
   ]
  },
  {
   "cell_type": "markdown",
   "id": "ec83977c",
   "metadata": {
    "slideshow": {
     "slide_type": "subslide"
    }
   },
   "source": [
    "### OR\n",
    "\n",
    "| Input A | Input B |Output|\n",
    "| --- | --- | --- |\n",
    "| True | True | True |\n",
    "| True | False | True |\n",
    "| False | True | True |\n",
    "| False | False | False |\n",
    "\n",
    "\n",
    "![](./or.png)"
   ]
  },
  {
   "cell_type": "markdown",
   "id": "b6bf82c4",
   "metadata": {
    "slideshow": {
     "slide_type": "subslide"
    }
   },
   "source": [
    "### Exclusive OR (XOR)\n",
    "\n",
    "| Input A | Input B |Output|\n",
    "| --- | --- | --- |\n",
    "| True | True | False |\n",
    "| True | False | True |\n",
    "| False | True | True |\n",
    "| False | False | False |\n",
    "\n",
    "\n",
    "![](./xor.png)\n",
    "\n"
   ]
  },
  {
   "cell_type": "markdown",
   "id": "0e6a5c52",
   "metadata": {
    "slideshow": {
     "slide_type": "subslide"
    }
   },
   "source": [
    "### NAND\n",
    "\n",
    "| Input A | Input B |Output|\n",
    "| --- | --- | --- |\n",
    "| True | True | False |\n",
    "| True | False | True |\n",
    "| False | True | True |\n",
    "| False | False | True |\n",
    "\n",
    "\n",
    "![](./nand.png)"
   ]
  },
  {
   "cell_type": "markdown",
   "id": "0d1f46aa",
   "metadata": {
    "slideshow": {
     "slide_type": "subslide"
    }
   },
   "source": [
    "### NOR\n",
    "\n",
    "| Input A | Input B |Output|\n",
    "| --- | --- | --- |\n",
    "| True | True | False |\n",
    "| True | False | False |\n",
    "| False | True | False |\n",
    "| False | False | True |\n",
    "\n",
    "\n",
    "![](./nor.png)"
   ]
  },
  {
   "cell_type": "markdown",
   "id": "87d10757",
   "metadata": {
    "slideshow": {
     "slide_type": "slide"
    }
   },
   "source": [
    "## Arithmetic and Logic Unit (ALU)\n",
    "\n",
    "- Part of the processor\n",
    "- Mathematical brain of a computer\n",
    "- It does all the computations in a computer\n",
    "    - Arithmetic Unit\n",
    "    - Logic unit"
   ]
  },
  {
   "cell_type": "markdown",
   "id": "f9462d5e",
   "metadata": {
    "slideshow": {
     "slide_type": "subslide"
    }
   },
   "source": [
    "### How do we add numbers with circuits?\n",
    "\n",
    "Let's start with 2 1-bit inputs.\n",
    "\n",
    "- 0 + 0 = 0\n",
    "- 1 + 0 = 1\n",
    "- 0 + 1 = 1\n",
    "- 1 + 1 = 0\n",
    "    - 1 is carried to the next column\n",
    "    \n",
    "What gate can help us with this operation?"
   ]
  },
  {
   "cell_type": "markdown",
   "id": "f1596e7a",
   "metadata": {
    "slideshow": {
     "slide_type": "subslide"
    }
   },
   "source": [
    "### How do we add numbers with circuits?\n",
    "\n",
    "- We use XOR and AND gates to define a half adder\n",
    "\n",
    "| A | B | Carry | Sum |\n",
    "| --- | --- | --- | --- |\n",
    "| 0 | 0 | 0 | 0 |\n",
    "| 0 | 1 | 0 | 1 |\n",
    "| 1 | 0 | 0 | 1 |\n",
    "| 1 | 1 | 1 | 0 |\n",
    "\n",
    "![](./half-adder.png)"
   ]
  },
  {
   "cell_type": "markdown",
   "id": "422e71ba",
   "metadata": {
    "slideshow": {
     "slide_type": "subslide"
    }
   },
   "source": [
    "## Full adder\n",
    "\n",
    "| A | B | C | Carry | Sum |\n",
    "| --- | --- | --- |  --- | --- |\n",
    "| 0 | 0 | 0 | 0 | 0 |\n",
    "| 0 | 0 | 1 | 0 | 1 |\n",
    "| 0 | 1 | 0 | 0 | 1 |\n",
    "| 0 | 1 | 1 | 1 | 0 |\n",
    "| 1 | 0 | 0 | 0 | 1 |\n",
    "| 1 | 0 | 1 | 1 | 0 |\n",
    "| 1 | 1 | 0 | 1 | 0 |\n",
    "| 1 | 1 | 1 | 1 | 1 |\n",
    "\n",
    "![](./full-adder.png)\n"
   ]
  },
  {
   "cell_type": "markdown",
   "id": "da0dd844",
   "metadata": {
    "slideshow": {
     "slide_type": "slide"
    }
   },
   "source": [
    "### Homework\n",
    "\n",
    "Follow this tutorial on how to build a logic circuit simulator in Python\n",
    "\n",
    "http://openbookproject.net/courses/python4fun/logic.html"
   ]
  }
 ],
 "metadata": {
  "celltoolbar": "Slideshow",
  "kernelspec": {
   "display_name": "Python 3",
   "language": "python",
   "name": "python3"
  },
  "language_info": {
   "codemirror_mode": {
    "name": "ipython",
    "version": 3
   },
   "file_extension": ".py",
   "mimetype": "text/x-python",
   "name": "python",
   "nbconvert_exporter": "python",
   "pygments_lexer": "ipython3",
   "version": "3.8.8"
  }
 },
 "nbformat": 4,
 "nbformat_minor": 5
}
