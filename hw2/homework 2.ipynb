{
 "cells": [
  {
   "cell_type": "markdown",
   "id": "d7ed56f5",
   "metadata": {},
   "source": [
    "## Homework 2"
   ]
  },
  {
   "cell_type": "markdown",
   "id": "b7e20625",
   "metadata": {},
   "source": [
    "1. Use assembly to solve the following problems:\n",
    "    1. Obtain the 50th Fibonacci number\n",
    "    2. Find out if a given year is leap\n",
    "    3. Given an array of integers, calculate the average\n",
    "    4. Write a program to transform from Celsius to Fahrenheit and vice versa\n",
    "2. For a 16 bit word with 6 bits for an opcode\n",
    "    1. How many different instructions could I fit into the instruction set?\n",
    "    2. What is the largest number that I could use as data?\n",
    "3. For the following memory space, what would it look like after executing the assembly code below:\n",
    "\n",
    "|Address|Contents|\n",
    "|-------|--------|\n",
    "|10     | 1      |\n",
    "|11     | 4      |\n",
    "|12     | 5      |\n",
    "|13     | 112    |\n",
    "|14     | 7      |\n",
    "\n",
    "```\n",
    "LOAD 14\n",
    "ADD (12)\n",
    "STORE 12\n",
    "```\n",
    "5. Write the following C function and generate the assembly code using `gcc`\n",
    "\n",
    "```\n",
    "void swap(int *d1p, int *d2p) \n",
    "{\n",
    "  int temp0 = *d1p;\n",
    "  int temp1 = *d2p;\n",
    "  *d1p = temp1;\n",
    "  *d2p = temp0;\n",
    "}\n",
    "```\n",
    "6. Create a similar function `swapl` that uses long integers instead\n",
    "    - What's the difference in the assembly code?\n",
    "7. Implement a function named `abs_diff` that calculates the absolute value of the difference of two inputs `a` and `b` (i.e., |a-b|), and get the assembly code output\n"
   ]
  },
  {
   "cell_type": "code",
   "execution_count": null,
   "id": "d632c36b",
   "metadata": {},
   "outputs": [],
   "source": []
  }
 ],
 "metadata": {
  "kernelspec": {
   "display_name": "Intel",
   "language": "",
   "name": "intel"
  },
  "language_info": {
   "file_extension": "x86",
   "mimetype": "intel",
   "name": "intel"
  }
 },
 "nbformat": 4,
 "nbformat_minor": 5
}
