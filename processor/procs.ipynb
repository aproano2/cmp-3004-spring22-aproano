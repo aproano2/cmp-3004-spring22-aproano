{
 "cells": [
  {
   "cell_type": "markdown",
   "id": "c4079ebb",
   "metadata": {
    "slideshow": {
     "slide_type": "slide"
    }
   },
   "source": [
    "## CMP-3004\n",
    "## Computer Organization\n",
    "\n",
    "### Spring 2022\n"
   ]
  },
  {
   "cell_type": "markdown",
   "id": "c4c012ea",
   "metadata": {
    "slideshow": {
     "slide_type": "slide"
    }
   },
   "source": [
    "## Housekeeping\n",
    "\n",
    "- Homework 2\n",
    "- Project proposal\n",
    "- Midterm"
   ]
  },
  {
   "cell_type": "markdown",
   "id": "c33453bb",
   "metadata": {
    "slideshow": {
     "slide_type": "slide"
    }
   },
   "source": [
    "## Review "
   ]
  },
  {
   "cell_type": "markdown",
   "id": "7240f3ef",
   "metadata": {
    "slideshow": {
     "slide_type": "subslide"
    }
   },
   "source": [
    "## Assembly language\n",
    "\n",
    "- Programs developed in high level language are machine independent. The compiler chooses what instructions to use\n",
    "- Assembly language is processor-dependent\n",
    "    - Every processor has its own assembly language instruction set\n",
    "    - The assembler translates each assembly language instruction to machine code for the processor\n",
    "    - Multiple machine language instructions are necessary to implement one high level language instruction\n"
   ]
  },
  {
   "cell_type": "markdown",
   "id": "65df5368",
   "metadata": {
    "slideshow": {
     "slide_type": "slide"
    }
   },
   "source": [
    "## The Processor "
   ]
  },
  {
   "cell_type": "markdown",
   "id": "7020c488",
   "metadata": {
    "slideshow": {
     "slide_type": "subslide"
    }
   },
   "source": [
    "## Internal Architecture \n",
    "\n",
    "General internal architecture and basic function of a processor:\n",
    "\n",
    "<table><tr>\n",
    "<td> <img src=\"cpu_arch.png\" alt=\"Drawing\" style=\"width: 400px;\"/> </td>\n",
    "<td> <img src=\"cpu_op.png\" alt=\"Drawing\" style=\"width: 250px;\"/> </td>\n",
    "</tr></table>"
   ]
  },
  {
   "cell_type": "markdown",
   "id": "d1be5349",
   "metadata": {
    "slideshow": {
     "slide_type": "subslide"
    }
   },
   "source": [
    "### Machine Cycle and T-states \n",
    "\n",
    "- **Machine cycle:** time-slice during 1-byte (or 1 word) of data are transacted between the processor and some external device (memory or I/O)\n",
    "- **T-state:** an oscillation of the processor clock\n",
    "\n",
    "![](./cpu_t.png)"
   ]
  },
  {
   "cell_type": "markdown",
   "id": "30ac1e91",
   "metadata": {
    "slideshow": {
     "slide_type": "subslide"
    }
   },
   "source": [
    "### Machine Cycle and T-states \n",
    "\n",
    "- The performance of a computer is determined by three key factors: \n",
    "    - instruction count\n",
    "    - clock cycle time\n",
    "    - clock cycles per instruction (CPI)\n",
    "- Compiler and the instruction set architecture determine the instruction count required for a given program\n",
    "- The implementation of the processor determines both the clock cycle time and the number of clock cycles per instruction"
   ]
  },
  {
   "cell_type": "code",
   "execution_count": null,
   "id": "4697f57d",
   "metadata": {},
   "outputs": [],
   "source": [
    "32-bits\n",
    "\n",
    "register size\n",
    "2**32 ~ 4GB\n",
    "2**64 ~ \n",
    "\n",
    "operation size\n",
    "+ operations -> bigger instruction set\n",
    "opcode|operands\n",
    "\n",
    "64-bits"
   ]
  },
  {
   "cell_type": "markdown",
   "id": "b92de865",
   "metadata": {
    "slideshow": {
     "slide_type": "subslide"
    }
   },
   "source": [
    "### Machine Cycle and T-states \n",
    "\n",
    "- The processor model determines the number of T-states necessary to complete one machine cycle\n",
    "    - Intel 8085 needs four to six T-states\n",
    "\n",
    "- Regarding the previous figure:\n",
    "    - When was the instruction decoded?\n",
    "        - For every case, instruction decoding is done at the end of the   first machine cycle\n",
    "\n",
    "    - Does it demand any extra time?\n",
    "        - Hardware-based decoding: no extra time is needed\n",
    "        - Micro-programming: one or two extra T-states are needed\n",
    "        - Example:  Intel 8085 spends four T-states for fetching the first instruction byte during its first machine cycle, while for subsequent machine cycles it spends only three T-states.​\n",
    "\n",
    "    - When were the data incremented by one?\n",
    "        - Data would be incremented either at the end of the second machine cycle or at the beginning of the third machine cycle, depending upon the processor\n"
   ]
  },
  {
   "cell_type": "markdown",
   "id": "099d673a",
   "metadata": {
    "slideshow": {
     "slide_type": "subslide"
    }
   },
   "source": [
    "### Machine Cycle and T-states \n",
    "\n",
    "Timing, Control and Response example: interrupt\n",
    "\n",
    "- Interrupt Service Routine (ISR): special program segment with a pre-defined address\n",
    "    - The processor executes the ISR in response to interrupt (external  async signal)\n",
    "- The processor cannot leave an instruction’s execution half-way \n",
    "- Solution: processors reserve a particular time-slot for checking the existence of any interrupt input signal during the execution of every instruction\n",
    "    - 8085 reserves the penultimate T-state of the last machine cycle  of any instruction for interrupt signal checking."
   ]
  },
  {
   "cell_type": "markdown",
   "id": "a5913806",
   "metadata": {
    "slideshow": {
     "slide_type": "slide"
    }
   },
   "source": [
    "## A Basic MIPS Implementation\n",
    "\n",
    "MIPS is a family of reduced instruction set computer instruction set architectures developed by MIPS Computer Systems\n",
    "\n",
    "We will be examining an implementation that includes a subset of the core MIPS instruction set:\n",
    "- The memory-reference instructions load word (lw) and store word (sw)\n",
    "- The arithmetic-logical instructions add, sub, AND, OR\n",
    "- The instructions branch equal (beq) and jump (j)\n",
    "- Instructions used to shift, multiply, divide or related to floating-point numbers are not included\n"
   ]
  },
  {
   "cell_type": "markdown",
   "id": "4900619f",
   "metadata": {
    "slideshow": {
     "slide_type": "subslide"
    }
   },
   "source": [
    "### A Basic MIPS Implementation\n",
    "\n",
    "- Arithmetic-logical instructions, memory-reference instructions, and the branch instructions have two steps in common:\n",
    "    1. Program counter (PC) determines the memory address that contains the instruction to be fetched\n",
    "    2. Read one or two registers, using fields of the instruction to select the registers to read. For the load word instruction, only one register is read. Other instructions require reading two registers\n",
    "    \n",
    "- After these two steps, the actions required to complete the instruction depend on the instruction class. Fortunately, the actions are largely the same, independent of the exact instruction\n",
    "- All instruction classes, except jump, use the ALU after reading the registers\n",
    "\n",
    "    - Memory-reference for an address calculation\n",
    "    - Arithmetic-logical for the operation execution\n",
    "    - Branches for comparison"
   ]
  },
  {
   "cell_type": "code",
   "execution_count": null,
   "id": "8e4aa124",
   "metadata": {},
   "outputs": [],
   "source": [
    "4(addr) -> addr + 4\n",
    "if x == 0"
   ]
  },
  {
   "cell_type": "markdown",
   "id": "45038546",
   "metadata": {
    "slideshow": {
     "slide_type": "subslide"
    }
   },
   "source": [
    "### A Basic MIPS Implementation\n",
    "\n",
    "- After using the ALU, the actions required to complete various instruction classes differ:\n",
    "\n",
    "    - Memory-reference will need to access the memory to read or write data\n",
    "    - Arithmetic-logical must write the data from the ALU or memory back into a register\n",
    "    - Branch instruction requires to change the next instruction address based on the comparison. Otherwise, PC should be incremented to get the address of the next instruction"
   ]
  },
  {
   "cell_type": "markdown",
   "id": "f9adad45",
   "metadata": {
    "slideshow": {
     "slide_type": "slide"
    }
   },
   "source": [
    "### Abstract view of the MIPS Implementation\n",
    "\n",
    "![](./mips1.png)"
   ]
  },
  {
   "cell_type": "markdown",
   "id": "d1ae6c61",
   "metadata": {
    "slideshow": {
     "slide_type": "subslide"
    }
   },
   "source": [
    "### Issues with this implementation\n",
    "\n",
    "- Data going to a particular unit is coming from two different sources\n",
    "\n",
    "    - PC, Register File and ALU\n",
    "    - Solution: multiplexors are required\n",
    "- Several of the units must be controlled depending on the type of instruction\n",
    "    - Control lines that are set on the basis of various fields in the instruction direct these operations"
   ]
  },
  {
   "cell_type": "markdown",
   "id": "b67b8f60",
   "metadata": {
    "slideshow": {
     "slide_type": "subslide"
    }
   },
   "source": [
    "### More detailed version\n",
    "\n",
    "![](./mips2.png)"
   ]
  }
 ],
 "metadata": {
  "celltoolbar": "Slideshow",
  "kernelspec": {
   "display_name": "Python 3 (ipykernel)",
   "language": "python",
   "name": "python3"
  },
  "language_info": {
   "codemirror_mode": {
    "name": "ipython",
    "version": 3
   },
   "file_extension": ".py",
   "mimetype": "text/x-python",
   "name": "python",
   "nbconvert_exporter": "python",
   "pygments_lexer": "ipython3",
   "version": "3.8.10"
  }
 },
 "nbformat": 4,
 "nbformat_minor": 5
}
