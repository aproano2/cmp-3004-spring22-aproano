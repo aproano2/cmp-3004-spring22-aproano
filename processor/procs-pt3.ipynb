{
 "cells": [
  {
   "cell_type": "markdown",
   "id": "c4079ebb",
   "metadata": {
    "slideshow": {
     "slide_type": "slide"
    }
   },
   "source": [
    "## CMP-3004\n",
    "## Computer Organization\n",
    "\n",
    "### Spring 2022\n"
   ]
  },
  {
   "cell_type": "markdown",
   "id": "c4c012ea",
   "metadata": {
    "slideshow": {
     "slide_type": "slide"
    }
   },
   "source": [
    "## Housekeeping\n",
    "\n",
    "- Homework 2\n",
    "    - Postponed 3/18/2022\n",
    "- Project proposal\n",
    "- Midterm"
   ]
  },
  {
   "cell_type": "markdown",
   "id": "c33453bb",
   "metadata": {
    "slideshow": {
     "slide_type": "slide"
    }
   },
   "source": [
    "## Review "
   ]
  },
  {
   "cell_type": "markdown",
   "id": "7020c488",
   "metadata": {
    "slideshow": {
     "slide_type": "subslide"
    }
   },
   "source": [
    "## The Processor \n",
    "## Internal Architecture \n",
    "\n",
    "General internal architecture and basic function of a processor:\n",
    "\n",
    "<table><tr>\n",
    "<td> <img src=\"cpu_arch.png\" alt=\"Drawing\" style=\"width: 400px;\"/> </td>\n",
    "<td> <img src=\"cpu_op.png\" alt=\"Drawing\" style=\"width: 250px;\"/> </td>\n",
    "</tr></table>"
   ]
  },
  {
   "cell_type": "markdown",
   "id": "b67b8f60",
   "metadata": {
    "slideshow": {
     "slide_type": "subslide"
    }
   },
   "source": [
    "### Architecture of the processor\n",
    "\n",
    "![](./mips2.png)"
   ]
  },
  {
   "cell_type": "markdown",
   "id": "247ca1fc",
   "metadata": {
    "slideshow": {
     "slide_type": "subslide"
    }
   },
   "source": [
    "### Datapath with control unit\n",
    "\n",
    "![](./mips15.png)"
   ]
  },
  {
   "cell_type": "markdown",
   "id": "39963fb7",
   "metadata": {
    "slideshow": {
     "slide_type": "slide"
    }
   },
   "source": [
    "## Pipelining\n",
    "\n",
    "Pipelining is an implementation technique in which multiple instructions are overlapped in execution\n",
    "\n",
    "- To motivate, assume we have four people doing laundry (washing, drying, folding and storing)\n",
    "- Each activity takes 30 minutes, so the total is 8 hours\n",
    "\n",
    "![](./pipe1.png)"
   ]
  },
  {
   "cell_type": "markdown",
   "id": "9f87af7a",
   "metadata": {
    "slideshow": {
     "slide_type": "slide"
    }
   },
   "source": [
    "## Pipelining\n",
    "\n",
    "- We can orchestrate such that each resource is being used at all times\n",
    "    - As a result we reduce the total execution time 3 hours and 30 minutes\n",
    "\n",
    "![](./pipe2.png)"
   ]
  },
  {
   "cell_type": "markdown",
   "id": "91895032",
   "metadata": {},
   "source": [
    "### Pipelining in MIPS\n",
    "\n",
    "MIPS instructions take five steps:\n",
    "\n",
    "- Fetch instruction from memory (IF)\n",
    "- Read registers while decoding the instruction. The regular format of MIPS instructions allows reading and decoding to occur simultaneously (ID)\n",
    "- Execute the operation or calculate an address (EX)\n",
    "- Access an operand in data memory (MEM)\n",
    "- Write the result into a register (WB)"
   ]
  },
  {
   "cell_type": "markdown",
   "id": "491815b3",
   "metadata": {},
   "source": [
    "### Latency MIPS instructions\n",
    "\n",
    "Let's consider the latencies for a few of the main MIPS intructions\n",
    "- The single-cycle design must allow for the slowest instruction, so the time required for every instruction is 800 ps\n",
    "- We assume multiplexors, control unit, PC accesses, and sign extension unit have no delay\n",
    "- In a non-pipelined design, the clock cycle must have the worst-case clock cycle of 800 ps\n",
    "\n",
    "![](./pipe3.png)\n",
    "\n"
   ]
  },
  {
   "cell_type": "markdown",
   "id": "b11c7c34",
   "metadata": {},
   "source": [
    "### Non-pipelined v. pipelined\n",
    "\n",
    "![](./pipe4.png)\n",
    "\n",
    "- In a pipelined design, the clock cycle must have the worst-case clock cycle of 200 ps"
   ]
  },
  {
   "cell_type": "markdown",
   "id": "e9202c44",
   "metadata": {},
   "source": [
    "### How do we measure the improvement?\n",
    "\n",
    "- From the example above with the execution of 3 instructions\n",
    "    - we get to an inprovement of $\\frac{2400}{1400} \\approx 1.7$\n",
    "\n",
    "- However, the improvement is actually of 4 times. \n",
    "    - How do we calculate that?\n",
    "    - What happens if we consider 1,000,000 instructions instead of 3?"
   ]
  },
  {
   "cell_type": "code",
   "execution_count": null,
   "id": "69f9410a",
   "metadata": {},
   "outputs": [],
   "source": [
    "8,000,000 / 1,000,400 = 8"
   ]
  },
  {
   "cell_type": "markdown",
   "id": "00e65cd0",
   "metadata": {},
   "source": [
    "## Pipeline hazards\n",
    "\n",
    "There are situations in pipelining when the next instruction cannot execute in the\n",
    "following clock cycle\n",
    "\n"
   ]
  },
  {
   "cell_type": "markdown",
   "id": "65e6ab59",
   "metadata": {},
   "source": [
    "### Structural hazards\n",
    "\n",
    "The hardware cannot support the combination of instructions that are requested to be executed in the same clock cycle\n",
    "\n",
    "- Washer-dryer combination instead of a separate washer and dryer\n",
    "- MIPS has two memories. Without two memories, the pipeline could have a structural hazard \n",
    "    - accessing data v. fetching instruction"
   ]
  },
  {
   "cell_type": "markdown",
   "id": "b5b1d6eb",
   "metadata": {},
   "source": [
    "### Data hazards\n",
    "\n",
    "The pipeline must be stalled because one step must wait for another to complete\n",
    "\n",
    "- Dependence of one instruction on an earlier one that is still in the pipeline\n",
    "\n",
    "```\n",
    "add $s0, $t0, $t1\n",
    "sub $t2, $s0, $t3\n",
    "```\n",
    "\n",
    "- The add instruction doesn’t write the result until the fifth stage. Three clock cycles in the pipeline are wasted\n",
    "\n",
    "    - Solution: waiting for instruction completion before trying to resolve the data hazard is not required\n",
    "    - As soon as the ALU creates the sum for the add, it can be supplied as an input for the subtract"
   ]
  },
  {
   "cell_type": "code",
   "execution_count": null,
   "id": "bd77a0c8",
   "metadata": {},
   "outputs": [],
   "source": [
    "IF reg ALU data reg\n",
    "    IF      reg ALU"
   ]
  },
  {
   "cell_type": "markdown",
   "id": "11c282bb",
   "metadata": {},
   "source": [
    "### Forwarding or Bypassing\n",
    "\n",
    "- Extra hardware is added to retrieve the missing item early from the internal resources\n",
    "- Forwarding paths are valid only if the destination stage is later in time than the source stage\n",
    "\n",
    "![](./pipe5.png)"
   ]
  },
  {
   "cell_type": "markdown",
   "id": "1d05fc28",
   "metadata": {},
   "source": [
    "### Stalling\n",
    "\n",
    "It cannot prevent all pipeline stalls. A stall is needed when an R-format instruction follows a load\n",
    "\n",
    "```\n",
    "load $s0, 20($t1)\n",
    "sub $t2, $s0, $t3\n",
    "```\n",
    "\n",
    "![](./pipe6.png)"
   ]
  },
  {
   "cell_type": "markdown",
   "id": "a5e322ee",
   "metadata": {},
   "source": [
    "### Control hazards\n",
    "\n",
    "A decision is made based on the results of one instruction while others are executing\n",
    "\n",
    "- The instruction following the branch instruction must be fetched on the next clock cycle. Nevertheless, the pipeline cannot possibly know what is the next instruction\n",
    "\n",
    "- **Option 1:** after fetching a branch, wait until to determine the instruction address to fetch from (stall: larger slowdown)\n",
    "\n",
    "- **Option 2:** predicting what branches are taken and what are not. Dynamic hardware predictors provide behavioral-based prediction for each branch and may change predictions over the life of a program\n",
    "\n",
    "    - Analyze the history of taken or untaken branches to predict the future​"
   ]
  },
  {
   "cell_type": "markdown",
   "id": "8a13df85",
   "metadata": {},
   "source": [
    "### Control hazards\n",
    "\n",
    "![](./pipe7.png)"
   ]
  },
  {
   "cell_type": "markdown",
   "id": "5dc401d5",
   "metadata": {},
   "source": [
    "###  Delayed decision\n",
    "\n",
    "- **Option 3:** delayed decision (MIPS). The delayed branch always executes the next sequential instruction, with the branch taking place after that one instruction delay\n",
    "    - Exexute something independent from the branch, so that cycle is not wasted\n",
    "- MIPS software always schedules a branch-independent instruction after the branch, and a taken branch changes the address of the instruction that follows this safe instruction"
   ]
  },
  {
   "cell_type": "code",
   "execution_count": null,
   "id": "a096d3d6",
   "metadata": {},
   "outputs": [],
   "source": []
  },
  {
   "cell_type": "code",
   "execution_count": null,
   "id": "b0dff807",
   "metadata": {},
   "outputs": [],
   "source": []
  },
  {
   "cell_type": "code",
   "execution_count": null,
   "id": "43659b10",
   "metadata": {},
   "outputs": [],
   "source": [
    "1001010101|1  -> 1001010101|1 0"
   ]
  }
 ],
 "metadata": {
  "celltoolbar": "Slideshow",
  "kernelspec": {
   "display_name": "Python 3 (ipykernel)",
   "language": "python",
   "name": "python3"
  },
  "language_info": {
   "codemirror_mode": {
    "name": "ipython",
    "version": 3
   },
   "file_extension": ".py",
   "mimetype": "text/x-python",
   "name": "python",
   "nbconvert_exporter": "python",
   "pygments_lexer": "ipython3",
   "version": "3.8.10"
  }
 },
 "nbformat": 4,
 "nbformat_minor": 5
}
