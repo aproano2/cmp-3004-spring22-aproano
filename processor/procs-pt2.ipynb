{
 "cells": [
  {
   "cell_type": "markdown",
   "id": "c4079ebb",
   "metadata": {
    "slideshow": {
     "slide_type": "slide"
    }
   },
   "source": [
    "## CMP-3004\n",
    "## Computer Organization\n",
    "\n",
    "### Spring 2022\n"
   ]
  },
  {
   "cell_type": "markdown",
   "id": "c4c012ea",
   "metadata": {
    "slideshow": {
     "slide_type": "slide"
    }
   },
   "source": [
    "## Housekeeping\n",
    "\n",
    "- Homework 2\n",
    "- Project proposal\n",
    "- Midterm"
   ]
  },
  {
   "cell_type": "markdown",
   "id": "c33453bb",
   "metadata": {
    "slideshow": {
     "slide_type": "slide"
    }
   },
   "source": [
    "## Review "
   ]
  },
  {
   "cell_type": "markdown",
   "id": "7020c488",
   "metadata": {
    "slideshow": {
     "slide_type": "subslide"
    }
   },
   "source": [
    "## The Processor \n",
    "## Internal Architecture \n",
    "\n",
    "General internal architecture and basic function of a processor:\n",
    "\n",
    "<table><tr>\n",
    "<td> <img src=\"cpu_arch.png\" alt=\"Drawing\" style=\"width: 400px;\"/> </td>\n",
    "<td> <img src=\"cpu_op.png\" alt=\"Drawing\" style=\"width: 250px;\"/> </td>\n",
    "</tr></table>"
   ]
  },
  {
   "cell_type": "markdown",
   "id": "d1be5349",
   "metadata": {
    "slideshow": {
     "slide_type": "subslide"
    }
   },
   "source": [
    "### Machine Cycle and T-states \n",
    "\n",
    "- **Machine cycle:** time-slice during 1-byte (or 1 word) of data are transacted between the processor and some external device (memory or I/O)\n",
    "- **T-state:** an oscillation of the processor clock\n",
    "\n",
    "![](./cpu_t.png)"
   ]
  },
  {
   "cell_type": "code",
   "execution_count": null,
   "id": "70ffdd31",
   "metadata": {},
   "outputs": [],
   "source": [
    "2 * 10^9 clocks / sec\n",
    "CPI = 4\n",
    "\n"
   ]
  },
  {
   "cell_type": "markdown",
   "id": "30ac1e91",
   "metadata": {
    "slideshow": {
     "slide_type": "subslide"
    }
   },
   "source": [
    "### Machine Cycle and T-states \n",
    "\n",
    "- The performance of a computer is determined by three key factors: \n",
    "    - instruction count\n",
    "    - clock cycle time\n",
    "    - clock cycles per instruction (CPI)\n",
    "- Compiler and the instruction set architecture determine the instruction count required for a given program\n",
    "- The implementation of the processor determines both the clock cycle time and the number of clock cycles per instruction"
   ]
  },
  {
   "cell_type": "markdown",
   "id": "099d673a",
   "metadata": {
    "slideshow": {
     "slide_type": "subslide"
    }
   },
   "source": [
    "### Interrups\n",
    "\n",
    "Timing, Control and Response example: interrupt\n",
    "\n",
    "- Interrupt Service Routine (ISR): special program segment with a pre-defined address\n",
    "    - The processor executes the ISR in response to interrupt (external  async signal)\n",
    "- The processor cannot leave an instruction’s execution half-way \n",
    "- Solution: processors reserve a particular time-slot for checking the existence of any interrupt input signal during the execution of every instruction\n",
    "    - 8085 reserves the penultimate T-state of the last machine cycle  of any instruction for interrupt signal checking."
   ]
  },
  {
   "cell_type": "markdown",
   "id": "a5913806",
   "metadata": {
    "slideshow": {
     "slide_type": "slide"
    }
   },
   "source": [
    "## A Basic MIPS Implementation\n",
    "\n",
    "MIPS is a family of reduced instruction set computer instruction set architectures developed by MIPS Computer Systems\n",
    "\n",
    "We will be examining an implementation that includes a subset of the core MIPS instruction set:\n",
    "- The memory-reference instructions load word (lw) and store word (sw)\n",
    "    - `load 4(edx)`\n",
    "- The arithmetic-logical instructions add, sub, AND, OR\n",
    "    - `add edx, eax`\n",
    "- The instructions branch equal (beq) and jump (j)\n",
    "    - `jne loop`\n"
   ]
  },
  {
   "cell_type": "code",
   "execution_count": null,
   "id": "6abbefe8",
   "metadata": {},
   "outputs": [],
   "source": [
    "edx + 4"
   ]
  },
  {
   "cell_type": "markdown",
   "id": "60750720",
   "metadata": {},
   "source": [
    "![](./cpu_op.png)"
   ]
  },
  {
   "cell_type": "markdown",
   "id": "4900619f",
   "metadata": {
    "slideshow": {
     "slide_type": "subslide"
    }
   },
   "source": [
    "### Instructions compute requirements\n",
    "\n",
    "- For all these instructions:\n",
    "    1. Program counter (PC) determines the memory address that contains the instruction to be fetched\n",
    "        - Since we need the PC to increment, we use the ALU in all instructions\n",
    "    2. Read one or two registers, using fields of the instruction to select the registers to read. For the load word instruction, only one register is read. Other instructions require reading two registers\n",
    "\n",
    "- All instruction classes, except jump, use the ALU after reading the registers\n",
    "\n",
    "    - Memory-reference for an address calculation\n",
    "    - Arithmetic-logical for the operation execution\n",
    "    - Branches for comparison"
   ]
  },
  {
   "cell_type": "markdown",
   "id": "45038546",
   "metadata": {
    "slideshow": {
     "slide_type": "subslide"
    }
   },
   "source": [
    "### Instructions compute requirements\n",
    "\n",
    "- After using the ALU, the actions required to complete various instruction classes differ:\n",
    "\n",
    "    - **Memory-reference** will need to access the memory to read or write data\n",
    "    - **Arithmetic-logical** must write the data from the ALU or memory back into a register\n",
    "    - **Branch instruction** requires to change the next instruction address based on the comparison. Otherwise, PC should be incremented to get the address of the next instruction"
   ]
  },
  {
   "cell_type": "markdown",
   "id": "b67b8f60",
   "metadata": {
    "slideshow": {
     "slide_type": "subslide"
    }
   },
   "source": [
    "### Architecture of the processor\n",
    "\n",
    "![](./mips2.png)"
   ]
  },
  {
   "cell_type": "code",
   "execution_count": null,
   "id": "bb18d8c9",
   "metadata": {},
   "outputs": [],
   "source": [
    "add a, b, c\n",
    "mov c, 4(r)\n",
    "mov 4(r), a\n",
    "add a, b, d"
   ]
  },
  {
   "cell_type": "code",
   "execution_count": null,
   "id": "9c7bbc1a",
   "metadata": {},
   "outputs": [],
   "source": [
    "block size = 4\n",
    "0 - 3\n",
    "4 - 7\n",
    "8 - 11"
   ]
  },
  {
   "cell_type": "markdown",
   "id": "70f786f4",
   "metadata": {
    "slideshow": {
     "slide_type": "slide"
    }
   },
   "source": [
    "## Datapath\n",
    "\n",
    "It is a collection of functional units such as ALUs or multipliers, registers, and buses that carry out the fuctional operations\n",
    "\n",
    "- MIPS’ datapath consist of:\n",
    "    - **Combinational elements** that operate on data values. No internal storage (e.g. ALU)\n",
    "        - outputs depend on the inputs\n",
    "    - **State elements** that contain state in some internal storage (e.g. Registers and Memories)\n",
    "        - if we disconnect the computer, we can reload the state and carry on\n",
    "\n",
    "\n",
    "**We are going to assume that registers are 16-bit long, and the memory unit uses 32-bit addresses**"
   ]
  },
  {
   "cell_type": "markdown",
   "id": "39f46f5b",
   "metadata": {
    "slideshow": {
     "slide_type": "subslide"
    }
   },
   "source": [
    "### Clocking methodology\n",
    "\n",
    "It defines the read/write process of signals\n",
    "\n",
    "- **Edge-triggered methodology:** any values stored in a sequential element are updated only on a clock edge\n",
    "- This methodology allows reading the contents of a register, sending the value through some combinational logic, and writing that register in the same clock cycle\n",
    "\n",
    "![](./mips3.png)"
   ]
  },
  {
   "cell_type": "markdown",
   "id": "2d8dab1b",
   "metadata": {
    "slideshow": {
     "slide_type": "subslide"
    }
   },
   "source": [
    "### Building a datapath\n",
    "\n",
    "If we are going to build our datapath from scratch:\n",
    "- what elements do we need?\n",
    "- why do we pick those elements?\n",
    "- where do we start?"
   ]
  },
  {
   "cell_type": "markdown",
   "id": "d80b2ec2",
   "metadata": {
    "slideshow": {
     "slide_type": "subslide"
    }
   },
   "source": [
    "### Building a datapath\n",
    "\n",
    "What basic datapath elements do we need to fetch instructions from a program?\n",
    "\n",
    "![](./mips4.png)\n",
    "\n",
    "To fetch and execute an instruction we need three elements\n"
   ]
  },
  {
   "cell_type": "markdown",
   "id": "7de7e4d4",
   "metadata": {
    "slideshow": {
     "slide_type": "subslide"
    }
   },
   "source": [
    "### R-type instructions\n",
    "\n",
    "\n",
    "**R-type instructions or arithmetic-logical instructions** read two registers, perform an ALU operation, and write the result to a register\n",
    "\n",
    "![](./mips5.png)"
   ]
  },
  {
   "cell_type": "markdown",
   "id": "d481f7a1",
   "metadata": {
    "slideshow": {
     "slide_type": "subslide"
    }
   },
   "source": [
    "### Loads and writes\n",
    "\n",
    "![](./mips6.png)\n",
    "\n",
    "- the memory unit is a state element with inputs for the address and the write data, and a single output for the read result\n",
    "- we will need a unit to sign-extend the 16-bit off set field in the instruction to a 32-bit signed value\n"
   ]
  },
  {
   "cell_type": "code",
   "execution_count": null,
   "id": "24af114b",
   "metadata": {},
   "outputs": [],
   "source": [
    "reg_size 2       # addr = 2**2 \n",
    "mem_size 4       # add = 4**2\n",
    "10 -> 0010"
   ]
  },
  {
   "cell_type": "markdown",
   "id": "ab520daf",
   "metadata": {
    "slideshow": {
     "slide_type": "subslide"
    }
   },
   "source": [
    "### Branches\n",
    "\n",
    "Branch on Equal instruction (beq) branches if the two registers are equal. Jump from beq to x\n",
    "\n",
    "![](./mips7.png)\n",
    "\n",
    "- uses the ALU to evaluate the branch condition\n",
    "- a separate adder to compute the branch target as the sum of the incremented PC and the sign-extended, lower 16 bits of the instruction (the branch displacement), shifted left 2 bits\n",
    "    - the left shift increases the offset by a factor of 4 (e.g., 11 -> 1100)"
   ]
  },
  {
   "cell_type": "markdown",
   "id": "9e861e59",
   "metadata": {
    "slideshow": {
     "slide_type": "slide"
    }
   },
   "source": [
    "### Building a single datapath\n",
    "\n",
    "The datapath for the memory instructions and the R-type instructions\n",
    "\n",
    "![](./mips8.png)\n",
    "\n"
   ]
  },
  {
   "cell_type": "markdown",
   "id": "2e5d895a",
   "metadata": {
    "slideshow": {
     "slide_type": "subslide"
    }
   },
   "source": [
    "### Building a simple datapath\n",
    "\n",
    "The datapath for the main MIPS instructions\n",
    "\n",
    "![](./mips9.png)\n",
    "\n",
    "The control unit takes inputs and generates write signals for each datapath element​"
   ]
  },
  {
   "cell_type": "markdown",
   "id": "8fde793b",
   "metadata": {
    "slideshow": {
     "slide_type": "slide"
    }
   },
   "source": [
    "## Simple implementation schema\n",
    "\n",
    "Based on the datapath we designed, we now define a simple instruction set\n",
    "\n",
    "**ALU Control:** 6 following combinations of four control inputs are needed by all types of instructions\n",
    "\n",
    "![](./mips10.png)\n",
    "\n",
    "Remember that the `OPcode` part of the machine instruction determines the instruction that the datapath will execute\n",
    "\n",
    "    - How do we distinguish between the sum required to load from memory, and the sum of two numbers?"
   ]
  },
  {
   "cell_type": "code",
   "execution_count": null,
   "id": "78eb46b1",
   "metadata": {},
   "outputs": [],
   "source": [
    "00 1010\n",
    "01 0101\n",
    "10 0010\n",
    "\n",
    "ALUOP | CONTROL\n",
    "00\n",
    "01\n"
   ]
  },
  {
   "cell_type": "code",
   "execution_count": null,
   "id": "acdac714",
   "metadata": {},
   "outputs": [],
   "source": [
    "OPCODE | OPERANDS "
   ]
  },
  {
   "cell_type": "markdown",
   "id": "24c5d875",
   "metadata": {
    "slideshow": {
     "slide_type": "subslide"
    }
   },
   "source": [
    "### ALU control unit\n",
    "\n",
    "Small control unit: it receives an extra 2-bit field ALUOp\n",
    "\n",
    "- The opcode sets the ALUOp bits\n",
    "- ALUOp = 00 or 01, ignore the function code field\n",
    "- ALUOp = 10, use the function code field\n",
    "\n",
    "![](./mips11.png)"
   ]
  },
  {
   "cell_type": "markdown",
   "id": "98835c1e",
   "metadata": {
    "slideshow": {
     "slide_type": "subslide"
    }
   },
   "source": [
    "### How instructions are structured\n",
    "\n",
    "![](./mips12.png)"
   ]
  },
  {
   "cell_type": "code",
   "execution_count": null,
   "id": "02465204",
   "metadata": {},
   "outputs": [],
   "source": [
    "addr = rs + address"
   ]
  },
  {
   "cell_type": "markdown",
   "id": "a00ad589",
   "metadata": {
    "slideshow": {
     "slide_type": "subslide"
    }
   },
   "source": [
    "### Distribution to datapath\n",
    "\n",
    "![](./mips13.png)"
   ]
  },
  {
   "cell_type": "markdown",
   "id": "6d7d31ef",
   "metadata": {
    "slideshow": {
     "slide_type": "subslide"
    }
   },
   "source": [
    "### Control signals\n",
    "\n",
    "The control signals can be set based solely on the opcode field of the instruction (bits 31:26)\n",
    "\n",
    "![](./mips14.png)"
   ]
  },
  {
   "cell_type": "markdown",
   "id": "247ca1fc",
   "metadata": {
    "slideshow": {
     "slide_type": "subslide"
    }
   },
   "source": [
    "### Datapath with control unit\n",
    "\n",
    "![](./mips15.png)"
   ]
  },
  {
   "cell_type": "markdown",
   "id": "39963fb7",
   "metadata": {
    "slideshow": {
     "slide_type": "slide"
    }
   },
   "source": [
    "### Exercise: \n",
    "\n",
    "Read and understand the JUMP example in chapter 4"
   ]
  }
 ],
 "metadata": {
  "celltoolbar": "Slideshow",
  "kernelspec": {
   "display_name": "Python 3 (ipykernel)",
   "language": "python",
   "name": "python3"
  },
  "language_info": {
   "codemirror_mode": {
    "name": "ipython",
    "version": 3
   },
   "file_extension": ".py",
   "mimetype": "text/x-python",
   "name": "python",
   "nbconvert_exporter": "python",
   "pygments_lexer": "ipython3",
   "version": "3.8.10"
  }
 },
 "nbformat": 4,
 "nbformat_minor": 5
}
