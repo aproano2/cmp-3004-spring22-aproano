{
 "cells": [
  {
   "cell_type": "markdown",
   "id": "4eaf2da5",
   "metadata": {
    "slideshow": {
     "slide_type": "slide"
    }
   },
   "source": [
    "## Review final exam "
   ]
  },
  {
   "cell_type": "markdown",
   "id": "171007be",
   "metadata": {
    "slideshow": {
     "slide_type": "slide"
    }
   },
   "source": [
    "### Main topics to cover\n",
    "    \n",
    "    - Processors starting from pipelining\n",
    "    - Memory \n",
    "    - Memory management (homework)\n",
    "    - Disks\n",
    "        - magnetic\n",
    "        - SSD\n",
    "    - RAID\n",
    "    - Multi-processors\n",
    "    - CUDA\n",
    "    "
   ]
  },
  {
   "cell_type": "markdown",
   "id": "a019c34c",
   "metadata": {
    "slideshow": {
     "slide_type": "slide"
    }
   },
   "source": [
    "### What kind of questions?\n",
    "\n",
    "Mix of definitions and application questions"
   ]
  },
  {
   "cell_type": "markdown",
   "id": "9dcb9239",
   "metadata": {
    "slideshow": {
     "slide_type": "slide"
    }
   },
   "source": [
    "### Definitions\n",
    "\n",
    "- What is non-volatile memory and why do we lose data after rebooting a computer?\n",
    "- Describe the CUDA arquitecture and how it interacts with the main processor\n",
    "- What is RAID?\n",
    "- What are the main challenges of pipelining in processors?\n",
    "- What are the essential components of a pipeline design?\n",
    "- What are the main differences between SSDs and magnetic disks?\n"
   ]
  },
  {
   "cell_type": "markdown",
   "id": "c4656fbf",
   "metadata": {
    "slideshow": {
     "slide_type": "slide"
    }
   },
   "source": [
    "### Application questions\n",
    "\n",
    "- Given that you've written an application of video streaming, describe what kind of memory, processors and other components that you would pick to run your application?\n",
    "- The cache-hit-ratio is defined as the number of hits over the total number of memory requests. The higher the better. Assume we designed a processor with cache-hit-ratio of 0.9 on L1, and a latency of 2ns. If we can increase the cache hit ratio to 0.95, but the latency also increases to 3ns. In which scenarios such a change would result in a better performance?\n",
    "- Assume your computer doesn't have a cache but only RAM and a magnetic disk. If you fecth a word from memory the time is 100ns, from disk 3ms. What's the average of fetching a word, if the hit ratio of memory is 0.7?\n"
   ]
  },
  {
   "cell_type": "code",
   "execution_count": 15,
   "id": "e73cbb73",
   "metadata": {},
   "outputs": [
    {
     "data": {
      "text/plain": [
       "900070.0"
      ]
     },
     "execution_count": 15,
     "metadata": {},
     "output_type": "execute_result"
    }
   ],
   "source": [
    "0.7*100 + 0.3*3000000"
   ]
  },
  {
   "cell_type": "code",
   "execution_count": 13,
   "id": "7c1f581b",
   "metadata": {},
   "outputs": [],
   "source": [
    "# Assume: L2 10x(L1)\n",
    "# x = T_L2 / T_L1\n",
    "\n",
    "T_l2 = 21\n",
    "\n",
    "Tp1 = 0.9 * 2 + 0.1 * T_l2 \n",
    "Tp2 = 0.95 * 3 + 0.05 * T_l2\n"
   ]
  },
  {
   "cell_type": "code",
   "execution_count": 14,
   "id": "b2927299",
   "metadata": {},
   "outputs": [
    {
     "name": "stdout",
     "output_type": "stream",
     "text": [
      "3.9000000000000004 3.8999999999999995\n"
     ]
    }
   ],
   "source": [
    "print(Tp1, Tp2)"
   ]
  },
  {
   "cell_type": "code",
   "execution_count": 3,
   "id": "8c1bbcb4",
   "metadata": {},
   "outputs": [
    {
     "data": {
      "text/plain": [
       "4.35"
      ]
     },
     "execution_count": 3,
     "metadata": {},
     "output_type": "execute_result"
    }
   ],
   "source": [
    "\n",
    "Tp2"
   ]
  },
  {
   "cell_type": "code",
   "execution_count": null,
   "id": "feb4e580",
   "metadata": {},
   "outputs": [],
   "source": []
  }
 ],
 "metadata": {
  "celltoolbar": "Slideshow",
  "kernelspec": {
   "display_name": "Python 3 (ipykernel)",
   "language": "python",
   "name": "python3"
  },
  "language_info": {
   "codemirror_mode": {
    "name": "ipython",
    "version": 3
   },
   "file_extension": ".py",
   "mimetype": "text/x-python",
   "name": "python",
   "nbconvert_exporter": "python",
   "pygments_lexer": "ipython3",
   "version": "3.9.7"
  }
 },
 "nbformat": 4,
 "nbformat_minor": 5
}
