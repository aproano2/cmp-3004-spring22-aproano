{
 "cells": [
  {
   "cell_type": "markdown",
   "id": "677a9d72",
   "metadata": {
    "slideshow": {
     "slide_type": "slide"
    }
   },
   "source": [
    "## Intro\n",
    "\n",
    "Things to remember:\n",
    "- What's computer architecture?\n",
    "- What's computer organization?\n",
    "- Main events on the evolution of computation devices"
   ]
  },
  {
   "cell_type": "markdown",
   "id": "32690791",
   "metadata": {
    "slideshow": {
     "slide_type": "slide"
    }
   },
   "source": [
    "## Number systems\n",
    "\n",
    "Things to remember:\n",
    "- Convert numbers from one base to another\n",
    "- Obtain the negative representation of binary numbers using different methods\n"
   ]
  },
  {
   "cell_type": "markdown",
   "id": "ad038d2e",
   "metadata": {
    "slideshow": {
     "slide_type": "subslide"
    }
   },
   "source": [
    "### What is the 5-bit 2's complement representation of -10?\n",
    "\n",
    "10 -> 01010"
   ]
  },
  {
   "cell_type": "markdown",
   "id": "dc1242ba",
   "metadata": {
    "slideshow": {
     "slide_type": "subslide"
    }
   },
   "source": [
    "### Transform to decimal the following binary numbers:\n",
    "- 010111011\n",
    "- 100100101\n",
    "- 111001101"
   ]
  },
  {
   "cell_type": "markdown",
   "id": "56cf19a9",
   "metadata": {
    "slideshow": {
     "slide_type": "slide"
    }
   },
   "source": [
    "## Boolean logic\n",
    "- Main gates\n",
    "- Tables of truth\n",
    "- Design of main circuits part of the ALU\n",
    "- Binary multiplication\n",
    "- Overflows"
   ]
  },
  {
   "cell_type": "markdown",
   "id": "cff8227b",
   "metadata": {
    "slideshow": {
     "slide_type": "subslide"
    }
   },
   "source": [
    "### 2-bit parity checker:\n",
    "\n",
    "The idea is to check if a number has an even number of 1s. For example the table of truth for a 2-bit parity checker is:\n",
    "\n",
    "| A | B | P |\n",
    "| --- | --- | --- |\n",
    "| 0 | 0 | 0 |\n",
    "| 0 | 1 | 1 |\n",
    "| 1 | 0 | 1 |\n",
    "| 1 | 1 | 0 |\n",
    "\n",
    "What circuit would we use to implement this?"
   ]
  },
  {
   "cell_type": "markdown",
   "id": "72ef8e2d",
   "metadata": {
    "slideshow": {
     "slide_type": "subslide"
    }
   },
   "source": [
    "### Complete the following table of truth:\n",
    "\n",
    "| A | B | (A XOR B) | (A XOR B) AND A |\n",
    "| --- | --- | --- | --- |\n",
    "| 0 | 0 |  |  |\n",
    "| 0 | 1 |  |  |\n",
    "| 1 | 0 |  |  |\n",
    "| 1 | 1 |  |  |"
   ]
  },
  {
   "cell_type": "markdown",
   "id": "34281ca5",
   "metadata": {
    "slideshow": {
     "slide_type": "slide"
    }
   },
   "source": [
    "## Structure and function of the computer\n",
    "Main concepts:\n",
    "- Function\n",
    "- Structure\n",
    "- Von Neumman\n",
    "- Parts of the computer"
   ]
  },
  {
   "cell_type": "markdown",
   "id": "113a8870",
   "metadata": {
    "slideshow": {
     "slide_type": "slide"
    }
   },
   "source": [
    "## Instructions\n",
    "- How do programs get executed in the computer?\n",
    "- Machine language, what is it?\n",
    "- Types of operations executed in the processor?\n",
    "- Addressing modes?\n",
    "- How are instructions structures?\n",
    "- What's the intruction set?"
   ]
  },
  {
   "cell_type": "markdown",
   "id": "aaf6f9cc",
   "metadata": {
    "slideshow": {
     "slide_type": "slide"
    }
   },
   "source": [
    "## Assembly\n",
    "\n",
    "- Be comfortable writing or interpreting simple programs like the homework or quiz\n"
   ]
  },
  {
   "cell_type": "markdown",
   "id": "d6271d05",
   "metadata": {
    "slideshow": {
     "slide_type": "slide"
    }
   },
   "source": [
    "## Processor\n",
    "\n",
    "- Internal architecture\n",
    "- Von Neumman cycle\n",
    "- Machine cycle and instruction cycle\n",
    "- Understanding of the MIPS implementation"
   ]
  },
  {
   "cell_type": "markdown",
   "id": "a81c2fdd",
   "metadata": {
    "slideshow": {
     "slide_type": "subslide"
    }
   },
   "source": [
    "### If a processor's clock rate is 2GHz and it can do 4 CPI (clocks per instruction). How many instructions can it run in 1 second?\n"
   ]
  },
  {
   "cell_type": "markdown",
   "id": "d669c635",
   "metadata": {
    "slideshow": {
     "slide_type": "subslide"
    }
   },
   "source": [
    "$2 \\times 10^9 \\frac{clocks}{sec} \\times \\frac{1}{4} \\frac{inst}{clocks}$"
   ]
  },
  {
   "cell_type": "markdown",
   "id": "cb3302f1",
   "metadata": {
    "slideshow": {
     "slide_type": "subslide"
    }
   },
   "source": [
    "### Decipher the following language instructions\n",
    "\n",
    "![](./instruction_set.png)\n",
    "\n",
    "|opcode|address|\n",
    "\n",
    "1. 0010000000000111\n",
    "2. 1001000000001011\n",
    "3. 0011000000001001\n"
   ]
  },
  {
   "cell_type": "markdown",
   "id": "c13a5214",
   "metadata": {
    "slideshow": {
     "slide_type": "subslide"
    }
   },
   "source": [
    "### Assume the MIPS architecture\n",
    "\n",
    "![](./pipe3.png)\n",
    "\n",
    "Consider the addition of a multiplier to the ALU. This addition will add 300 ps to the latency of the ALU. The result will be 5% fewer instructions executed since we will no longer need to emulate the MUL instruction.\n",
    "\n",
    "- What is the clock cycle time with and without this improvement?\n",
    "- What is the speedup achieved by adding this improvement?"
   ]
  },
  {
   "cell_type": "code",
   "execution_count": null,
   "id": "526fa1f8",
   "metadata": {},
   "outputs": [],
   "source": []
  }
 ],
 "metadata": {
  "celltoolbar": "Slideshow",
  "kernelspec": {
   "display_name": "Python 3 (ipykernel)",
   "language": "python",
   "name": "python3"
  },
  "language_info": {
   "codemirror_mode": {
    "name": "ipython",
    "version": 3
   },
   "file_extension": ".py",
   "mimetype": "text/x-python",
   "name": "python",
   "nbconvert_exporter": "python",
   "pygments_lexer": "ipython3",
   "version": "3.8.10"
  }
 },
 "nbformat": 4,
 "nbformat_minor": 5
}
