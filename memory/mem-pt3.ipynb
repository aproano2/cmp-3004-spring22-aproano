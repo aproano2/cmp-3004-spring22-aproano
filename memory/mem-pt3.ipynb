{
 "cells": [
  {
   "cell_type": "markdown",
   "id": "c4079ebb",
   "metadata": {
    "slideshow": {
     "slide_type": "slide"
    }
   },
   "source": [
    "## CMP-3004\n",
    "## Computer Organization\n",
    "\n",
    "### Spring 2022\n"
   ]
  },
  {
   "cell_type": "markdown",
   "id": "9c4d0e0e",
   "metadata": {
    "slideshow": {
     "slide_type": "slide"
    }
   },
   "source": [
    "## Housekeeping\n",
    "\n",
    "- Homework 3\n",
    "- Optional quiz to be published next week  "
   ]
  },
  {
   "cell_type": "markdown",
   "id": "c33453bb",
   "metadata": {
    "slideshow": {
     "slide_type": "slide"
    }
   },
   "source": [
    "## Review "
   ]
  },
  {
   "cell_type": "markdown",
   "id": "19728aa8",
   "metadata": {
    "slideshow": {
     "slide_type": "subslide"
    }
   },
   "source": [
    "## Types of memory\n",
    "\n",
    "![](./mem1.png)"
   ]
  },
  {
   "cell_type": "markdown",
   "id": "7015a294",
   "metadata": {
    "slideshow": {
     "slide_type": "subslide"
    }
   },
   "source": [
    "### The memory hierarchy dilemma\n",
    "\n",
    "<img src=\"./mem2.png\" alt=\"Drawing\" style=\"width: 400px;\"/>\n"
   ]
  },
  {
   "cell_type": "markdown",
   "id": "1fdd75f7",
   "metadata": {
    "slideshow": {
     "slide_type": "subslide"
    }
   },
   "source": [
    "### Levels of caching\n",
    "\n",
    "L2 is slower and typically larger than L1, and L3 is slower and typically larger than L2\n",
    "\n",
    "<img src=\"./mem4.png\" alt=\"Drawing\" style=\"width: 400px;\"/>\n"
   ]
  },
  {
   "cell_type": "markdown",
   "id": "cb4fb037",
   "metadata": {
    "slideshow": {
     "slide_type": "subslide"
    }
   },
   "source": [
    "### Structure\n",
    "\n",
    "Main memory consists of up to $2^n$ addressable words\n",
    "\n",
    "<img src=\"./mem5.png\" alt=\"Drawing\" style=\"width: 400px;\"/>\n"
   ]
  },
  {
   "cell_type": "markdown",
   "id": "2350d55c",
   "metadata": {
    "slideshow": {
     "slide_type": "subslide"
    }
   },
   "source": [
    "### Read operation\n",
    "\n",
    "<img src=\"./mem6.png\" alt=\"Drawing\" style=\"width: 400px;\"/>\n"
   ]
  },
  {
   "cell_type": "markdown",
   "id": "77021f75",
   "metadata": {
    "slideshow": {
     "slide_type": "subslide"
    }
   },
   "source": [
    "### Organization\n",
    "\n",
    "- **Cache hit:** data and address buffers are disabled, and communication is only between processor and cache\n",
    "- **Cache miss:** the desired address is loaded onto the system bus and the data are returned through the data buffer to both the cache and the processor\n",
    "\n",
    "<img src=\"./mem7.png\" alt=\"Drawing\" style=\"width: 400px;\"/>\n"
   ]
  },
  {
   "cell_type": "markdown",
   "id": "7f08b336",
   "metadata": {
    "slideshow": {
     "slide_type": "subslide"
    }
   },
   "source": [
    "### Elements of cache design\n",
    "\n",
    "**Different cache implementations:** basic design elements to classify and differentiate cache architectures\n",
    "\n",
    "<img src=\"./mem8.png\" alt=\"Drawing\" style=\"width: 400px;\"/>\n"
   ]
  },
  {
   "cell_type": "markdown",
   "id": "dab73326",
   "metadata": {
    "slideshow": {
     "slide_type": "slide"
    }
   },
   "source": [
    "## Semiconductor main memory\n",
    "\n",
    "- Today, the use of semiconductor chips for main memory is almost universal\n",
    "\n",
    "- **Memory cell** is the basic element, and all semiconductor memory cells share certain properties:\n",
    "\n",
    "    - Two stable (or semi-stable) states to represent binary 1 and 0\n",
    "    - Capable of being written into (at least once), to set the state\n",
    "    - Capable of being read to sense the state"
   ]
  },
  {
   "cell_type": "markdown",
   "id": "9d061513",
   "metadata": {
    "slideshow": {
     "slide_type": "subslide"
    }
   },
   "source": [
    "### Operations\n",
    "\n",
    "The cell has three functional terminals to carry an electrical signal\n",
    "- **Select** terminal selects a memory cell for a read or write operation\n",
    "- **Control** terminal indicates read or write\n",
    "    - Writing: the other terminal provides an electrical signal that sets the state of the cell to 1 or 0 (data in)\n",
    "    - Reading: the other terminal is used for output of the cell’s state (sense)\n",
    "\n",
    "![](./mem31.png)"
   ]
  },
  {
   "cell_type": "markdown",
   "id": "b4c40bcd",
   "metadata": {
    "slideshow": {
     "slide_type": "slide"
    }
   },
   "source": [
    "## Main types of semiconductor memory\n",
    "\n",
    "![](./mem32.png)"
   ]
  },
  {
   "cell_type": "markdown",
   "id": "55fac13e",
   "metadata": {
    "slideshow": {
     "slide_type": "subslide"
    }
   },
   "source": [
    "### DRAM\n",
    "\n",
    "Dynamic RAM is made with cells that store data as charge on capacitors. The presence or absence of charge is interpreted as 1 or 0\n",
    "- Because capacitors tend to discharge, DRAMs require periodic charge refreshing to maintain data storage\n",
    "\n",
    "![](./mem33.png)"
   ]
  },
  {
   "cell_type": "markdown",
   "id": "8564f061",
   "metadata": {
    "slideshow": {
     "slide_type": "subslide"
    }
   },
   "source": [
    "### DRAM\n",
    "\n",
    "- Transistor acts as a switch:\n",
    "    - Closed (current flows) if a voltage is applied to the address line\n",
    "    - Open (no current flows)  if no voltage is present\n",
    "\n",
    "- **Write:** bit line with voltage. Address line with signal and a charge is transferred to the capacitor\n",
    "\n",
    "- **Read:** address line selected, and the charge stored can be fed out onto a bit line\n",
    "    - The readout from the cell discharges the capacitor, which must be restored to complete the operation\n",
    "    - DRAM is an analog device due to capacitor can store any charge value"
   ]
  },
  {
   "cell_type": "markdown",
   "id": "7efe7cbd",
   "metadata": {
    "slideshow": {
     "slide_type": "subslide"
    }
   },
   "source": [
    "### SRAM\n",
    "\n",
    "Static RAM is a digital device that stores binary values using flip-flop logic-gate configurations\n",
    "\n",
    "![](./mem34.png)"
   ]
  },
  {
   "cell_type": "markdown",
   "id": "d4cb293a",
   "metadata": {
    "slideshow": {
     "slide_type": "subslide"
    }
   },
   "source": [
    "### SRAM\n",
    "\n",
    "- Logic state 1: $C_1$ is high and $C_2$ is low\n",
    "- Logic state 0: $C_1$ is low and $C_2$ is high\n",
    "- Current applied to address line activates read and write operations"
   ]
  },
  {
   "cell_type": "markdown",
   "id": "cbb02c71",
   "metadata": {
    "slideshow": {
     "slide_type": "subslide"
    }
   },
   "source": [
    "### DRAM and SRAM\n",
    "\n",
    "- DRAM and SRAM are volatile: power must be continuously supplied to the memory.​\n",
    "- DRAM cell is simpler and smaller than a SRAM cell​\n",
    "- DRAM more dense (smaller cells = more cells per unit area) and less expensive.​\n",
    "- For larger memories, the fixed cost of the refresh circuitry is more than compensated.​\n",
    "- As SRAMs are somewhat faster than DRAMs, they are used for cache memory and DRAM is used for main memory.​"
   ]
  },
  {
   "cell_type": "markdown",
   "id": "a0f334f8",
   "metadata": {
    "slideshow": {
     "slide_type": "slide"
    }
   },
   "source": [
    "## External memory\n",
    "\n",
    "Modern external memory comes in magnetic disks and solid state ones"
   ]
  },
  {
   "cell_type": "markdown",
   "id": "be845b9b",
   "metadata": {
    "slideshow": {
     "slide_type": "slide"
    }
   },
   "source": [
    "## Magnetic diks\n",
    "\n",
    "A magnetic disk is a circular platter constructed of nonmagnetic material (substrate) coated with a magnetizable material.\n",
    "- Substrate has been an aluminum or aluminum alloy material. Glass substrates have been introduced"
   ]
  },
  {
   "cell_type": "markdown",
   "id": "8f859b7b",
   "metadata": {
    "slideshow": {
     "slide_type": "subslide"
    }
   },
   "source": [
    "### Read and write mechanisms\n",
    "\n",
    "Data are recorded on and later retrieved from the disk via a conducting coil named the head (read head and a write head)\n",
    "\n",
    "![](./mem35.png)"
   ]
  },
  {
   "cell_type": "markdown",
   "id": "5e7d720e",
   "metadata": {
    "slideshow": {
     "slide_type": "subslide"
    }
   },
   "source": [
    "### Write and read\n",
    "\n",
    "**Write:** electricity flowing through a coil produces a magnetic field\n",
    "- An electric current in the wire induces a magnetic field across the gap to magnetize a small area of the recording medium (current direction)\n",
    "\n",
    "**Read:** a magnetic field moving relative to a coil produces an electrical current in the coil\n",
    "- When the surface of the disk passes under the head, it generates a current of the same polarity as the one already recorded."
   ]
  },
  {
   "cell_type": "markdown",
   "id": "0ef16652",
   "metadata": {
    "slideshow": {
     "slide_type": "subslide"
    }
   },
   "source": [
    "### Data organization\n",
    "\n",
    "- Data is organized on the platter in a concentric set of rings called tracks\n",
    "- Each track is the same width as the head\n",
    "- Data is transferred to and from the disk in sectors\n",
    "- Fixed-length sectors are mostly used, with 512 bytes being the nearly universal sector size"
   ]
  },
  {
   "cell_type": "markdown",
   "id": "e55f2df3",
   "metadata": {
    "slideshow": {
     "slide_type": "subslide"
    }
   },
   "source": [
    "### Data organization\n",
    "\n",
    "![](./mem36.png)"
   ]
  },
  {
   "cell_type": "markdown",
   "id": "736379e2",
   "metadata": {
    "slideshow": {
     "slide_type": "subslide"
    }
   },
   "source": [
    "### Example\n",
    "\n",
    "Track contains 30 fixed-length sectors of 600 bytes. Sector holds 512 bytes of data plus control information\n",
    "\n",
    "![](./mem37.png)"
   ]
  },
  {
   "cell_type": "markdown",
   "id": "6ebdd098",
   "metadata": {
    "slideshow": {
     "slide_type": "subslide"
    }
   },
   "source": [
    "### Timing for transfers\n",
    "\n",
    "- Disk is rotating at constant speed\n",
    "- Read/Write: the head is positioned at the desired track (seek time) and at the beginning of the desired sector (rotational delay)\n",
    "- Access time = seek time + rotational delay\n",
    "- The time required for the transfer is the transfer time\n",
    "- Several queuing delays associated with a disk I/O operation\n",
    "\n",
    "![](./mem38.png)"
   ]
  },
  {
   "cell_type": "code",
   "execution_count": 32,
   "id": "417a1817",
   "metadata": {},
   "outputs": [
    {
     "name": "stdout",
     "output_type": "stream",
     "text": [
      "hello hello\n"
     ]
    }
   ],
   "source": [
    "import time\n",
    "\n",
    "t0 = time.time()\n",
    "print('hello hello')\n",
    "th = time.time() - t0"
   ]
  },
  {
   "cell_type": "code",
   "execution_count": 35,
   "id": "7940cde6",
   "metadata": {},
   "outputs": [],
   "source": [
    "import time\n",
    "import sys\n",
    "\n",
    "\n",
    "t0 = time.time()\n",
    "print('hello hello')\n",
    "th = time.time() - t0\n",
    "\n",
    "t0 = time.time()\n",
    "1+2\n",
    "ts = time.time() - t0"
   ]
  },
  {
   "cell_type": "code",
   "execution_count": 36,
   "id": "66455148",
   "metadata": {},
   "outputs": [],
   "source": [
    "sys?"
   ]
  },
  {
   "cell_type": "code",
   "execution_count": 34,
   "id": "25643505",
   "metadata": {},
   "outputs": [
    {
     "data": {
      "text/plain": [
       "8.923664122137405"
      ]
     },
     "execution_count": 34,
     "metadata": {},
     "output_type": "execute_result"
    }
   ],
   "source": [
    "th/ts"
   ]
  },
  {
   "cell_type": "code",
   "execution_count": 4,
   "id": "cac6eb48",
   "metadata": {},
   "outputs": [
    {
     "name": "stdout",
     "output_type": "stream",
     "text": [
      "3\n",
      "0.0001380443572998047\n"
     ]
    }
   ],
   "source": [
    "import time\n",
    "\n",
    "t0 = time.time()\n",
    "print(1+2)\n",
    "print(time.time() - t0)"
   ]
  },
  {
   "cell_type": "code",
   "execution_count": null,
   "id": "a5930849",
   "metadata": {},
   "outputs": [],
   "source": [
    "237GB -> 240GB\n",
    "--> 16GB\n",
    "256GB\n",
    "\n",
    "476GB -> 500GB\n",
    "--> 12GB\n",
    "512GB"
   ]
  },
  {
   "cell_type": "markdown",
   "id": "55616237",
   "metadata": {
    "slideshow": {
     "slide_type": "slide"
    }
   },
   "source": [
    "## Solid state drives\n",
    "\n",
    "![](./mem310.png)"
   ]
  },
  {
   "cell_type": "markdown",
   "id": "9dbf76d4",
   "metadata": {
    "slideshow": {
     "slide_type": "subslide"
    }
   },
   "source": [
    "### Comparison\n",
    "\n",
    "![](./mem311.png)"
   ]
  },
  {
   "cell_type": "markdown",
   "id": "c25b637a",
   "metadata": {
    "slideshow": {
     "slide_type": "subslide"
    }
   },
   "source": [
    "### Comparison\n",
    "\n",
    "![](./mem312.png)"
   ]
  },
  {
   "cell_type": "markdown",
   "id": "c1bb9fa2",
   "metadata": {
    "slideshow": {
     "slide_type": "slide"
    }
   },
   "source": [
    "## RAID\n",
    "\n",
    "- Multiple disks: separate I/O requests can be handled in parallel as data resides on separate disks.​\n",
    "- Different ways to organize data and to provide reliability by means of redundancy.​\n",
    "- RAID (Redundant Array of Independent Disks) scheme consists of seven levels (0 to 6).​\n",
    "- Not hierarchical, different design architectures:​\n",
    "    - RAID is a set of physical drives viewed as a single logical drive.​\n",
    "    - Data are distributed in a scheme known as striping.​\n",
    "    - Redundant capacity is used to store parity information that guarantees data recoverability in case of a disk failure.​"
   ]
  },
  {
   "cell_type": "markdown",
   "id": "e78b4400",
   "metadata": {
    "slideshow": {
     "slide_type": "subslide"
    }
   },
   "source": [
    "### RAID 0\n",
    "\n",
    "![](./raid0.png)"
   ]
  },
  {
   "cell_type": "markdown",
   "id": "44e70fb4",
   "metadata": {
    "slideshow": {
     "slide_type": "subslide"
    }
   },
   "source": [
    "### RAID 1\n",
    "\n",
    "![](./raid1.png)"
   ]
  },
  {
   "cell_type": "markdown",
   "id": "55fc05a1",
   "metadata": {
    "slideshow": {
     "slide_type": "subslide"
    }
   },
   "source": [
    "### RAID 2\n",
    "\n",
    "![](./raid2.png)"
   ]
  },
  {
   "cell_type": "markdown",
   "id": "2789b6cc",
   "metadata": {
    "slideshow": {
     "slide_type": "subslide"
    }
   },
   "source": [
    "### RAID 3\n",
    "\n",
    "![](./raid3.png)"
   ]
  },
  {
   "cell_type": "markdown",
   "id": "f8061f76",
   "metadata": {
    "slideshow": {
     "slide_type": "subslide"
    }
   },
   "source": [
    "### RAID 4\n",
    "\n",
    "![](./raid4.png)"
   ]
  },
  {
   "cell_type": "markdown",
   "id": "4ad7e832",
   "metadata": {
    "slideshow": {
     "slide_type": "subslide"
    }
   },
   "source": [
    "### RAID 5\n",
    "\n",
    "![](./raid5.png)"
   ]
  },
  {
   "cell_type": "markdown",
   "id": "9ba47bcc",
   "metadata": {
    "slideshow": {
     "slide_type": "subslide"
    }
   },
   "source": [
    "### RAID 6\n",
    "\n",
    "![](./raid6.png)"
   ]
  },
  {
   "cell_type": "markdown",
   "id": "6f1c5de9",
   "metadata": {
    "slideshow": {
     "slide_type": "subslide"
    }
   },
   "source": [
    "### Comparison\n",
    "\n",
    "![](./mem39.png)"
   ]
  }
 ],
 "metadata": {
  "celltoolbar": "Slideshow",
  "kernelspec": {
   "display_name": "Python 3 (ipykernel)",
   "language": "python",
   "name": "python3"
  },
  "language_info": {
   "codemirror_mode": {
    "name": "ipython",
    "version": 3
   },
   "file_extension": ".py",
   "mimetype": "text/x-python",
   "name": "python",
   "nbconvert_exporter": "python",
   "pygments_lexer": "ipython3",
   "version": "3.9.7"
  },
  "rise": {
   "scroll": true
  }
 },
 "nbformat": 4,
 "nbformat_minor": 5
}
