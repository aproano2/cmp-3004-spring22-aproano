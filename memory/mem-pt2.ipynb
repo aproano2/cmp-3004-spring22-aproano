{
 "cells": [
  {
   "cell_type": "markdown",
   "id": "c4079ebb",
   "metadata": {
    "slideshow": {
     "slide_type": "slide"
    }
   },
   "source": [
    "## CMP-3004\n",
    "## Computer Organization\n",
    "\n",
    "### Spring 2022\n"
   ]
  },
  {
   "cell_type": "markdown",
   "id": "9c4d0e0e",
   "metadata": {
    "slideshow": {
     "slide_type": "slide"
    }
   },
   "source": [
    "## Housekeeping\n",
    "\n",
    "- Homework 3\n",
    "    - https://www.golinuxcloud.com/tutorial-linux-memory-management-overview/\n",
    "    "
   ]
  },
  {
   "cell_type": "markdown",
   "id": "c33453bb",
   "metadata": {
    "slideshow": {
     "slide_type": "slide"
    }
   },
   "source": [
    "## Review "
   ]
  },
  {
   "cell_type": "markdown",
   "id": "0792fcf7",
   "metadata": {
    "slideshow": {
     "slide_type": "subslide"
    }
   },
   "source": [
    "## Computer memory system\n",
    "\n",
    "It's a way to preserve the state of a bit. It helps us remember the output of a circuit\n",
    "\n",
    "- Basic implementation using AND, OR and NOT\n"
   ]
  },
  {
   "cell_type": "markdown",
   "id": "2e2e9f21",
   "metadata": {
    "slideshow": {
     "slide_type": "subslide"
    }
   },
   "source": [
    "### Introduction\n",
    "\n",
    "Memory exhibits perhaps the widest range of type, technology, organization, performance, and cost of any feature of a computer system\n",
    "\n",
    "- No single technology is optimal in satisfying the memory requirements for a computer system\n",
    "\n",
    "- Typical computer system is equipped with a hierarchy of memory subsystems\n",
    "\n",
    "- **Internal:** directly accessible by the processor\n",
    "\n",
    "- **External:** accessible by the processor via an I/O module"
   ]
  },
  {
   "cell_type": "markdown",
   "id": "19728aa8",
   "metadata": {
    "slideshow": {
     "slide_type": "subslide"
    }
   },
   "source": [
    "## Types of memory\n",
    "\n",
    "![](./mem1.png)"
   ]
  },
  {
   "cell_type": "markdown",
   "id": "b17ffd1a",
   "metadata": {
    "slideshow": {
     "slide_type": "subslide"
    }
   },
   "source": [
    "### Access methods\n",
    "\n",
    "\n",
    "- **Sequential**\n",
    "    - Memory is organized into units of data, called records.\n",
    "    - Access must be made in a specific linear sequence\n",
    "- **Direct**\n",
    "    - Individual blocks or records have a unique address based on physical location\n",
    "    - Access is accomplished by direct access to reach a general vicinity plus sequential searching, counting, or waiting to reach the final location. \n",
    "- **Random**\n",
    "    - Each addressable location in memory has a unique, physically wired-in addressing mechanism.\n",
    "    - The time to access a given location is independent of the sequence of prior accesses and is constant.\n",
    "- **Associative**\n",
    "    - Random access type of memory\n",
    "    - Enables one to make a comparison of desired bit locations within a word for a specified match, and to do this for all words simultaneously\n",
    "    - A word is retrieved based on a portion of its contents rather than its address."
   ]
  },
  {
   "cell_type": "markdown",
   "id": "982c7698",
   "metadata": {
    "slideshow": {
     "slide_type": "subslide"
    }
   },
   "source": [
    "### Performance\n",
    "\n",
    "- **Access Time (latency):** For RAM, the time required to perform a read or write operation. For non-RAM, the time required to position the read/write mechanism at the desired location.\n",
    "\n",
    "- **Memory cycle time:** The access time plus any additional time required before the start of second access (RAM).\n",
    "\n",
    "    - For transients to die out on signal lines or to regenerate data if they are read destructively.\n",
    "\n",
    "    - Memory cycle time is concerned with the system bus.\n",
    "- **Transfer rate:** This is the rate at which data can be transferred into or out of a memory unit."
   ]
  },
  {
   "cell_type": "markdown",
   "id": "9ccf64a2",
   "metadata": {
    "slideshow": {
     "slide_type": "slide"
    }
   },
   "source": [
    "### Memory hierarchy\n",
    "\n",
    "- Trade-offs among three key characteristics of memory: capacity, access time and cost\n",
    "\n",
    "- Important relationships across the spectrum of technologies:\n",
    "\n",
    "    - Faster access time, greater cost per bit\n",
    "    - Greater capacity, smaller cost per bit\n",
    "    - Greater capacity, slower access time\n",
    "        - Large-capacity memory: capacity is needed and cost per bit is low\n",
    "        - To meet performance requirements: expensive, relatively lower-capacity memories with short access times"
   ]
  },
  {
   "cell_type": "markdown",
   "id": "7015a294",
   "metadata": {
    "slideshow": {
     "slide_type": "subslide"
    }
   },
   "source": [
    "### The memory hierarchy dilemma\n",
    "\n",
    "<img src=\"./mem2.png\" alt=\"Drawing\" style=\"width: 400px;\"/>\n"
   ]
  },
  {
   "cell_type": "markdown",
   "id": "02c1b3c0",
   "metadata": {
    "slideshow": {
     "slide_type": "subslide"
    }
   },
   "source": [
    "### Hierarchy design\n",
    "\n",
    "Going down the hierarchy:\n",
    "\n",
    "1. Decreasing cost per bit\n",
    "2. Increasing capacity\n",
    "3. Increasing access time\n",
    "4. Decreasing frequency of access of the memory by the processor\n",
    "    - Locality of reference: memory references by the processor, for both instructions and data, tend to cluster\n",
    "    - Programs repeated references to a small set of instructions\n",
    "    - Over a short period of time, the processor works with fixed clusters of memory references"
   ]
  },
  {
   "cell_type": "markdown",
   "id": "d1cae339",
   "metadata": {
    "slideshow": {
     "slide_type": "subslide"
    }
   },
   "source": [
    "### Hierarchy design\n",
    "\n",
    "The use of two levels of memory to reduce average access time works in principle:\n",
    "\n",
    "- The percentage of accesses to each successively lower level is substantially less than that of the level above\n",
    "- Level 2 memory contains program instructions and data\n",
    "- Current clusters can be temporarily placed in level 1\n",
    "- From time to time, one of the clusters in level 1 will have to be swapped back to level 2 to make room for a new cluster coming into level 1"
   ]
  },
  {
   "cell_type": "markdown",
   "id": "7592b34d",
   "metadata": {
    "slideshow": {
     "slide_type": "slide"
    }
   },
   "source": [
    "## Cache memory\n",
    "\n",
    "Combine expensive and high-speed memory with large size, less expensive, and lower speed memory\n",
    "\n",
    "- Relatively large and slow main memory together with a smaller, faster cache memory\n",
    "- The cache contains a copy of portions of main memory\n",
    "- Processor uses cache memory for information it is likely to need again in the very near future\n",
    "\n",
    "<img src=\"./mem3.png\" alt=\"Drawing\" style=\"width: 400px;\"/>"
   ]
  },
  {
   "cell_type": "markdown",
   "id": "1fdd75f7",
   "metadata": {
    "slideshow": {
     "slide_type": "subslide"
    }
   },
   "source": [
    "### Levels of caching\n",
    "\n",
    "L2 is slower and typically larger than L1, and L3 is slower and typically larger than L2\n",
    "\n",
    "<img src=\"./mem4.png\" alt=\"Drawing\" style=\"width: 400px;\"/>\n"
   ]
  },
  {
   "cell_type": "markdown",
   "id": "cb4fb037",
   "metadata": {
    "slideshow": {
     "slide_type": "subslide"
    }
   },
   "source": [
    "### Structure\n",
    "\n",
    "Main memory consists of up to $2^n$ addressable words\n",
    "\n",
    "<img src=\"./mem5.png\" alt=\"Drawing\" style=\"width: 400px;\"/>\n"
   ]
  },
  {
   "cell_type": "markdown",
   "id": "ca4e4325",
   "metadata": {
    "slideshow": {
     "slide_type": "subslide"
    }
   },
   "source": [
    "### Structure\n",
    "\n",
    "- Cache memory consist of a number of fixed-length blocks of $K$ words each (for mapping)\n",
    "- There are $M=\\frac{2^n}{K}$ blocks in main memory\n",
    "- The cache consists of $C$ blocks called lines\n",
    "- Each line contains $K$ words plus a tag:\n",
    "    - Control bits also included to indicate whether the line has been modified since being loaded into the cache\n",
    "- The line size may be as small as 32 bits, with each “word” being a single byte: line size = 4 bytes"
   ]
  },
  {
   "cell_type": "markdown",
   "id": "b2cfa815",
   "metadata": {
    "slideshow": {
     "slide_type": "subslide"
    }
   },
   "source": [
    "### Structure \n",
    "\n",
    "The number of lines is considerably less than the number of main memory blocks ($C<<M$)\n",
    "\n",
    "- At any time, a block of memory resides in lines in the cache\n",
    "- If a word in a block of memory is read, that block is transferred to one cache’s line\n",
    "- An individual line cannot be uniquely and permanently dedicated to a particular block\n",
    "- Each line includes a tag that identifies a stored block \n",
    "    - The tag is usually a portion of the main memory address"
   ]
  },
  {
   "cell_type": "markdown",
   "id": "2350d55c",
   "metadata": {
    "slideshow": {
     "slide_type": "subslide"
    }
   },
   "source": [
    "### Read operation\n",
    "\n",
    "<img src=\"./mem6.png\" alt=\"Drawing\" style=\"width: 400px;\"/>\n"
   ]
  },
  {
   "cell_type": "markdown",
   "id": "77021f75",
   "metadata": {
    "slideshow": {
     "slide_type": "subslide"
    }
   },
   "source": [
    "### Organization\n",
    "\n",
    "- **Cache hit:** data and address buffers are disabled, and communication is only between processor and cache\n",
    "- **Cache miss:** the desired address is loaded onto the system bus and the data are returned through the data buffer to both the cache and the processor\n",
    "\n",
    "<img src=\"./mem7.png\" alt=\"Drawing\" style=\"width: 400px;\"/>\n"
   ]
  },
  {
   "cell_type": "markdown",
   "id": "7f08b336",
   "metadata": {
    "slideshow": {
     "slide_type": "slide"
    }
   },
   "source": [
    "### Elements of cache design\n",
    "\n",
    "**Different cache implementations:** basic design elements to classify and differentiate cache architectures\n",
    "\n",
    "<img src=\"./mem8.png\" alt=\"Drawing\" style=\"width: 400px;\"/>\n"
   ]
  },
  {
   "cell_type": "markdown",
   "id": "c917aeb1",
   "metadata": {
    "slideshow": {
     "slide_type": "subslide"
    }
   },
   "source": [
    "### Mapping Function\n",
    "\n",
    "- Because there are fewer cache lines than main memory blocks, an algorithm is needed to map main memory blocks into cache lines\n",
    "- The choice of the mapping function dictates how the cache is organized:\n",
    "    - Direct\n",
    "    - Associative\n",
    "    - Set associative"
   ]
  },
  {
   "cell_type": "markdown",
   "id": "930d2836",
   "metadata": {
    "slideshow": {
     "slide_type": "subslide"
    }
   },
   "source": [
    "### Example: Direct mapping\n",
    "\n",
    "It maps each block of main memory into only one possible cache line:\n",
    "\n",
    "- Next $m$ blocks map into the cache in the same fashion: \n",
    "    - block $B_m$ of main memory maps into line $L_0$ of cache\n",
    "    - block $B_m+1$ maps into line $L_1$, and so on\n",
    "\n",
    "<img src=\"./mem10.png\" alt=\"Drawing\" style=\"width: 400px;\"/>\n"
   ]
  }
 ],
 "metadata": {
  "celltoolbar": "Slideshow",
  "kernelspec": {
   "display_name": "Python 3 (ipykernel)",
   "language": "python",
   "name": "python3"
  },
  "language_info": {
   "codemirror_mode": {
    "name": "ipython",
    "version": 3
   },
   "file_extension": ".py",
   "mimetype": "text/x-python",
   "name": "python",
   "nbconvert_exporter": "python",
   "pygments_lexer": "ipython3",
   "version": "3.9.7"
  },
  "rise": {
   "scroll": true
  }
 },
 "nbformat": 4,
 "nbformat_minor": 5
}
