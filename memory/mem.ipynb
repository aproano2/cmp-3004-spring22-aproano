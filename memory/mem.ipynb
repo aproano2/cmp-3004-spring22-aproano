{
 "cells": [
  {
   "cell_type": "markdown",
   "id": "c4079ebb",
   "metadata": {
    "slideshow": {
     "slide_type": "slide"
    }
   },
   "source": [
    "## CMP-3004\n",
    "## Computer Organization\n",
    "\n",
    "### Spring 2022\n"
   ]
  },
  {
   "cell_type": "markdown",
   "id": "9c4d0e0e",
   "metadata": {},
   "source": [
    "## Housekeeping\n",
    "\n",
    "- Optional quiz\n",
    "- No class on Wednesday (April, 6th)\n",
    "- Midterm"
   ]
  },
  {
   "cell_type": "markdown",
   "id": "c33453bb",
   "metadata": {
    "slideshow": {
     "slide_type": "slide"
    }
   },
   "source": [
    "## Review "
   ]
  },
  {
   "cell_type": "markdown",
   "id": "00e65cd0",
   "metadata": {},
   "source": [
    "## Pipeline hazards\n",
    "\n",
    "There are situations in pipelining when the next instruction cannot execute in the\n",
    "following clock cycle\n",
    "\n"
   ]
  },
  {
   "cell_type": "markdown",
   "id": "65e6ab59",
   "metadata": {},
   "source": [
    "### Structural hazards\n",
    "\n",
    "The hardware cannot support the combination of instructions that are requested to be executed in the same clock cycle\n",
    "\n",
    "- Washer-dryer combination instead of a separate washer and dryer\n",
    "- MIPS has two memories. Without two memories, the pipeline could have a structural hazard \n",
    "    - accessing data v. fetching instruction"
   ]
  },
  {
   "cell_type": "markdown",
   "id": "b5b1d6eb",
   "metadata": {},
   "source": [
    "### Data hazards\n",
    "\n",
    "The pipeline must be stalled because one step must wait for another to complete\n",
    "\n",
    "- Dependence of one instruction on an earlier one that is still in the pipeline\n",
    "\n",
    "```\n",
    "add $s0, $t0, $t1\n",
    "sub $t2, $s0, $t3\n",
    "```\n",
    "\n",
    "- The add instruction doesn’t write the result until the fifth stage. Three clock cycles in the pipeline are wasted\n",
    "\n",
    "    - Solution: waiting for instruction completion before trying to resolve the data hazard is not required\n",
    "    - As soon as the ALU creates the sum for the add, it can be supplied as an input for the subtract"
   ]
  },
  {
   "cell_type": "markdown",
   "id": "09c703d1",
   "metadata": {},
   "source": [
    "```\n",
    "lw $t0, [10]\n",
    "add $s0, $t0, $t1\n",
    "sub $t2, $s0, $t3\n",
    "```"
   ]
  },
  {
   "cell_type": "markdown",
   "id": "11c282bb",
   "metadata": {},
   "source": [
    "### Forwarding or Bypassing\n",
    "\n",
    "- Extra hardware is added to retrieve the missing item early from the internal resources\n",
    "- Forwarding paths are valid only if the destination stage is later in time than the source stage\n",
    "\n",
    "![](./pipe5.png)"
   ]
  },
  {
   "cell_type": "markdown",
   "id": "1d05fc28",
   "metadata": {},
   "source": [
    "### Stalling\n",
    "\n",
    "It cannot prevent all pipeline stalls. A stall is needed when an R-format instruction follows a load\n",
    "\n",
    "```\n",
    "lw $s0, 20($t1)\n",
    "sub $t2, $s0, $t3\n",
    "```\n",
    "\n",
    "![](./pipe6.png)"
   ]
  },
  {
   "cell_type": "markdown",
   "id": "a5e322ee",
   "metadata": {},
   "source": [
    "### Control hazards\n",
    "\n",
    "A decision is made based on the results of one instruction while others are executing\n",
    "\n",
    "- The instruction following the branch instruction must be fetched on the next clock cycle. Nevertheless, the pipeline cannot possibly know what is the next instruction\n",
    "\n",
    "- **Option 1:** after fetching a branch, wait until to determine the instruction address to fetch from (stall: larger slowdown)\n",
    "\n",
    "- **Option 2:** predicting what branches are taken and what are not. Dynamic hardware predictors provide behavioral-based prediction for each branch and may change predictions over the life of a program\n",
    "\n",
    "    - Analyze the history of taken or untaken branches to predict the future​"
   ]
  },
  {
   "cell_type": "code",
   "execution_count": null,
   "id": "e1f6e3b5",
   "metadata": {},
   "outputs": [],
   "source": [
    "if x == 0:\n",
    "    add a,b\n",
    "    \n",
    "else:\n",
    "    sub a,b"
   ]
  },
  {
   "cell_type": "markdown",
   "id": "5dc401d5",
   "metadata": {},
   "source": [
    "###  Delayed decision\n",
    "\n",
    "- **Option 3:** delayed decision (MIPS). The delayed branch always executes the next sequential instruction, with the branch taking place after that one instruction delay\n",
    "    - Execute something independent from the branch, so that cycle is not wasted\n",
    "- MIPS software always schedules a branch-independent instruction after the branch, and a taken branch changes the address of the instruction that follows this safe instruction"
   ]
  },
  {
   "cell_type": "markdown",
   "id": "6dd086ac",
   "metadata": {},
   "source": [
    "## Pipelined datapath and control\n",
    "\n",
    "We can structure our datapath in a way that we can execute up to five instructions in the same cycle.\n",
    "\n",
    "We separate the instructions into five pieces:\n",
    "\n",
    "1. IF: Instruction fetch\n",
    "2. ID: Instruction decode and register fi le read\n",
    "3. EX: Execution or address calculation\n",
    "4. MEM: Data memory access\n",
    "5. WB: Write back"
   ]
  },
  {
   "cell_type": "markdown",
   "id": "4ffba63e",
   "metadata": {},
   "source": [
    "### Pipelined datapath with hazard detection\n",
    "\n",
    "![](./pipe_dp20.png)"
   ]
  },
  {
   "cell_type": "code",
   "execution_count": null,
   "id": "7a367e64",
   "metadata": {},
   "outputs": [],
   "source": [
    "A OR B = C"
   ]
  },
  {
   "cell_type": "markdown",
   "id": "0792fcf7",
   "metadata": {},
   "source": [
    "## Computer memory system\n",
    "\n",
    "It's a way to preserve the state of a bit. It helps us remember the output of a circuit\n",
    "\n",
    "- Basic implementation using AND, OR and NOT\n",
    "- Circuit to be part of the homework"
   ]
  },
  {
   "cell_type": "markdown",
   "id": "2e2e9f21",
   "metadata": {},
   "source": [
    "### Introduction\n",
    "\n",
    "Memory exhibits perhaps the widest range of type, technology, organization, performance, and cost of any feature of a computer system\n",
    "\n",
    "- No single technology is optimal in satisfying the memory requirements for a computer system\n",
    "\n",
    "- Typical computer system is equipped with a hierarchy of memory subsystems\n",
    "\n",
    "- **Internal:** directly accessible by the processor\n",
    "\n",
    "- **External:** accessible by the processor via an I/O module"
   ]
  },
  {
   "cell_type": "markdown",
   "id": "19728aa8",
   "metadata": {},
   "source": [
    "## Types of memory\n",
    "\n",
    "![](./mem1.png)"
   ]
  },
  {
   "cell_type": "markdown",
   "id": "b17ffd1a",
   "metadata": {},
   "source": [
    "### Access methods\n",
    "\n",
    "- **Sequential**\n",
    "    - Memory is organized into units of data, called records.\n",
    "    - Access must be made in a specific linear sequence\n",
    "- **Direct**\n",
    "    - Individual blocks or records have a unique address based on physical location\n",
    "    - Access is accomplished by direct access to reach a general vicinity plus sequential searching, counting, or waiting to reach the final location. \n",
    "- **Random**\n",
    "    - Each addressable location in memory has a unique, physically wired-in addressing mechanism.\n",
    "    - The time to access a given location is independent of the sequence of prior accesses and is constant.\n",
    "- **Associative**\n",
    "    - Random access type of memory\n",
    "    - Enables one to make a comparison of desired bit locations within a word for a specified match, and to do this for all words simultaneously\n",
    "    - A word is retrieved based on a portion of its contents rather than its address."
   ]
  },
  {
   "cell_type": "markdown",
   "id": "982c7698",
   "metadata": {},
   "source": [
    "### Performance\n",
    "\n",
    "- **Access Time (latency):** For RAM, the time required to perform a read or write operation. For non-RAM, the time required to position the read/write mechanism at the desired location.\n",
    "\n",
    "- **Memory cycle time:** The access time plus any additional time required before the start of second access (RAM).\n",
    "\n",
    "    - For transients to die out on signal lines or to regenerate data if they are read destructively.\n",
    "\n",
    "    - Memory cycle time is concerned with the system bus.\n",
    "- **Transfer rate:** This is the rate at which data can be transferred into or out of a memory unit."
   ]
  },
  {
   "cell_type": "markdown",
   "id": "9ccf64a2",
   "metadata": {},
   "source": [
    "### Memory hierarchy\n",
    "\n",
    "- Trade-offs among three key characteristics of memory: capacity, access time and cost\n",
    "\n",
    "- Important relationships across the spectrum of technologies:\n",
    "\n",
    "    - Faster access time, greater cost per bit\n",
    "    - Greater capacity, smaller cost per bit\n",
    "    - Greater capacity, slower access time\n",
    "        - Large-capacity memory: capacity is needed and cost per bit is low\n",
    "        - To meet performance requirements: expensive, relatively lower-capacity memories with short access times"
   ]
  },
  {
   "cell_type": "markdown",
   "id": "7015a294",
   "metadata": {
    "slideshow": {
     "slide_type": "slide"
    }
   },
   "source": [
    "### The memory hierarchy dilemma\n",
    "\n",
    "<img src=\"./mem2.png\" alt=\"Drawing\" style=\"width: 400px;\"/>\n"
   ]
  },
  {
   "cell_type": "markdown",
   "id": "02c1b3c0",
   "metadata": {},
   "source": [
    "### Hierarchy design\n",
    "\n",
    "Going down the hierarchy:\n",
    "\n",
    "1. Decreasing cost per bit\n",
    "2. Increasing capacity\n",
    "3. Increasing access time\n",
    "4. Decreasing frequency of access of the memory by the processor\n",
    "    - Locality of reference: memory references by the processor, for both instructions and data, tend to cluster\n",
    "    - Programs repeated references to a small set of instructions\n",
    "    - Over a short period of time, the processor works with fixed clusters of memory references"
   ]
  },
  {
   "cell_type": "markdown",
   "id": "d1cae339",
   "metadata": {},
   "source": [
    "### Hierarchy design\n",
    "\n",
    "The use of two levels of memory to reduce average access time works in principle:\n",
    "\n",
    "- The percentage of accesses to each successively lower level is substantially less than that of the level above\n",
    "- Level 2 memory contains program instructions and data\n",
    "- Current clusters can be temporarily placed in level 1\n",
    "- From time to time, one of the clusters in level 1 will have to be swapped back to level 2 to make room for a new cluster coming into level 1"
   ]
  },
  {
   "cell_type": "markdown",
   "id": "7592b34d",
   "metadata": {},
   "source": [
    "## Cache memory\n",
    "\n",
    "Combine expensive and high-speed memory with large size, less expensive, and lower speed memory\n",
    "\n",
    "- Relatively large and slow main memory together with a smaller, faster cache memory\n",
    "- The cache contains a copy of portions of main memory\n",
    "- Processor uses cache memory for information it is likely to need again in the very near future\n",
    "\n",
    "<img src=\"./mem3.png\" alt=\"Drawing\" style=\"width: 400px;\"/>"
   ]
  },
  {
   "cell_type": "markdown",
   "id": "1fdd75f7",
   "metadata": {},
   "source": [
    "### Levels of caching\n",
    "\n",
    "L2 is slower and typically larger than L1, and L3 is slower and typically larger than L2\n",
    "\n",
    "<img src=\"./mem4.png\" alt=\"Drawing\" style=\"width: 400px;\"/>\n"
   ]
  },
  {
   "cell_type": "markdown",
   "id": "cb4fb037",
   "metadata": {},
   "source": [
    "### Structure\n",
    "\n",
    "Main memory consists of up to $2^n$ addressable words\n",
    "\n",
    "<img src=\"./mem5.png\" alt=\"Drawing\" style=\"width: 400px;\"/>\n"
   ]
  },
  {
   "cell_type": "markdown",
   "id": "ca4e4325",
   "metadata": {},
   "source": [
    "### Structure\n",
    "\n",
    "- Cache memory consist of a number of fixed-length blocks of $K$ words each (for mapping)\n",
    "- There are $M=\\frac{2^n}{K}$ blocks in main memory\n",
    "- The cache consists of m blocks called lines\n",
    "- Each line contains $K$ words plus a tag:\n",
    "    - Control bits also included to indicate whether the line has been modified since being loaded into the cache\n",
    "- The line size may be as small as 32 bits, with each “word” being a single byte: line size = 4 bytes"
   ]
  },
  {
   "cell_type": "markdown",
   "id": "b2cfa815",
   "metadata": {},
   "source": [
    "### Structure \n",
    "\n",
    "The number of lines is considerably less than the number of main memory blocks ($m<<M$)\n",
    "\n",
    "- At any time, a block of memory resides in lines in the cache\n",
    "- If a word in a block of memory is read, that block is transferred to one cache’s line\n",
    "- An individual line cannot be uniquely and permanently dedicated to a particular block\n",
    "- Each line includes a tag that identifies a stored block \n",
    "    - The tag is usually a portion of the main memory address"
   ]
  },
  {
   "cell_type": "markdown",
   "id": "2350d55c",
   "metadata": {},
   "source": [
    "### Read operation\n",
    "\n",
    "<img src=\"./mem6.png\" alt=\"Drawing\" style=\"width: 400px;\"/>\n"
   ]
  },
  {
   "cell_type": "markdown",
   "id": "77021f75",
   "metadata": {},
   "source": [
    "### Organization\n",
    "\n",
    "- **Cache hit:** data and address buffers are disabled, and communication is only between processor and cache\n",
    "- **Cache miss:** the desired address is loaded onto the system bus and the data are returned through the data buffer to both the cache and the processor\n",
    "\n",
    "<img src=\"./mem7.png\" alt=\"Drawing\" style=\"width: 400px;\"/>\n"
   ]
  },
  {
   "cell_type": "markdown",
   "id": "7f08b336",
   "metadata": {},
   "source": [
    "### Elements of cache design\n",
    "\n",
    "**Different cache implementations:** basic design elements to classify and differentiate cache architectures\n",
    "\n",
    "<img src=\"./mem8.png\" alt=\"Drawing\" style=\"width: 400px;\"/>\n"
   ]
  },
  {
   "cell_type": "markdown",
   "id": "c917aeb1",
   "metadata": {},
   "source": [
    "### Mapping Function\n",
    "\n",
    "- Because there are fewer cache lines than main memory blocks, an algorithm is needed to map main memory blocks into cache lines\n",
    "- The choice of the mapping function dictates how the cache is organized:\n",
    "    - Direct\n",
    "    - Associative\n",
    "    - Set associative"
   ]
  },
  {
   "cell_type": "markdown",
   "id": "930d2836",
   "metadata": {},
   "source": [
    "### Direct\n",
    "\n",
    "Direct Mapping maps each block of main memory into only one possible cache line:\n",
    "\n",
    "- Next $m$ blocks map into the cache in the same fashion: \n",
    "    - block $B_m$ of main memory maps into line $L_0$ of cache\n",
    "    - block $B_m+1$ maps into line $L_1$, and so on\n",
    "\n",
    "<img src=\"./mem10.png\" alt=\"Drawing\" style=\"width: 400px;\"/>\n"
   ]
  },
  {
   "cell_type": "code",
   "execution_count": null,
   "id": "4f7588a0",
   "metadata": {},
   "outputs": [],
   "source": []
  }
 ],
 "metadata": {
  "celltoolbar": "Slideshow",
  "kernelspec": {
   "display_name": "Python 3 (ipykernel)",
   "language": "python",
   "name": "python3"
  },
  "language_info": {
   "codemirror_mode": {
    "name": "ipython",
    "version": 3
   },
   "file_extension": ".py",
   "mimetype": "text/x-python",
   "name": "python",
   "nbconvert_exporter": "python",
   "pygments_lexer": "ipython3",
   "version": "3.8.10"
  }
 },
 "nbformat": 4,
 "nbformat_minor": 5
}
